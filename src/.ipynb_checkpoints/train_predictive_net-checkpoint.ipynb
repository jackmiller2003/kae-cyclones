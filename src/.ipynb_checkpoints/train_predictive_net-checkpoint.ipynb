{
 "cells": [
  {
   "cell_type": "code",
   "execution_count": 1,
   "id": "74a8dcb9-75b2-4f20-a9c3-f12d93390235",
   "metadata": {},
   "outputs": [],
   "source": [
    "import torch\n",
    "import xarray\n",
    "from datasets import *\n",
    "from models import *\n",
    "from dl_pipeline import *\n",
    "from loss import *\n",
    "import seaborn\n",
    "import numpy as np\n",
    "import matplotlib.pyplot as plt"
   ]
  },
  {
   "cell_type": "code",
   "execution_count": 2,
   "id": "8b303176-17ae-4635-915e-810e635cb2a8",
   "metadata": {},
   "outputs": [],
   "source": [
    "base_train_ds = CycloneDataset('/g/data/x77/ob2720/partition/train/', tracks_path=train_json_path, \n",
    "                            save_np=False, load_np=True, partition_name='train', synthetic=True, \n",
    "                            synthetic_type='base_synthesis', sigma=0.1)\n",
    "normal_perturb_train_ds = CycloneDataset('/g/data/x77/ob2720/partition/train/', tracks_path=train_json_path, \n",
    "                            save_np=False, load_np=True, partition_name='train', synthetic=True, \n",
    "                            synthetic_type='normal_perturb_synthesis', sigma=0.1)"
   ]
  },
  {
   "cell_type": "code",
   "execution_count": 3,
   "id": "7c0d3eac-fdb3-442f-abd6-4cc61bfd8812",
   "metadata": {},
   "outputs": [],
   "source": [
    "base_loader = torch.utils.data.DataLoader(base_train_ds, batch_size=256, num_workers=8, pin_memory=True, shuffle=True)\n",
    "normal_perturb_loader = torch.utils.data.DataLoader(normal_perturb_train_ds, batch_size=256, num_workers=8, pin_memory=True, shuffle=True)"
   ]
  },
  {
   "cell_type": "code",
   "execution_count": 4,
   "id": "7b79bdc5-3127-47e7-b574-8d8dcc5a963c",
   "metadata": {},
   "outputs": [
    {
     "name": "stdout",
     "output_type": "stream",
     "text": [
      "(tensor([[[[ 5.2720,  5.5654,  6.1287,  6.5705,  6.8700,  7.0626,  7.3263,\n",
      "            7.6051,  7.9154,  8.0292,  8.0006,  8.1222,  8.5528,  9.1359,\n",
      "            9.5734,  9.9685, 10.4506, 10.7100, 11.0321, 11.2636],\n",
      "          [ 4.8554,  5.1202,  5.5836,  6.0587,  6.2405,  6.2726,  6.3667,\n",
      "            6.3227,  6.4081,  6.4971,  6.7620,  7.2376,  7.8240,  8.3709,\n",
      "            8.9642,  9.5196, 10.0030, 10.3000, 10.3647, 10.5795],\n",
      "          [ 4.0266,  4.3319,  4.6431,  4.6648,  4.6206,  4.4703,  4.4657,\n",
      "            4.5056,  4.6246,  4.9058,  5.3647,  5.9092,  6.5661,  7.2529,\n",
      "            8.1070,  8.7069,  8.9920,  9.2870,  9.6204,  9.6866],\n",
      "          [ 2.8676,  2.9773,  2.9519,  2.9904,  2.7134,  2.4109,  2.4149,\n",
      "            2.4623,  2.6756,  3.0692,  3.6112,  4.4267,  5.0566,  5.7706,\n",
      "            6.3861,  6.9695,  7.3909,  7.7872,  8.2985,  8.6519],\n",
      "          [ 1.5935,  1.4445,  1.3523,  1.2592,  0.8270,  0.7039,  0.5419,\n",
      "            0.4823,  0.6448,  0.9566,  1.3823,  1.9297,  2.7654,  3.5980,\n",
      "            4.5270,  5.6516,  6.1811,  6.4894,  6.8373,  7.0963],\n",
      "          [ 0.3486,  0.1144, -0.0968, -0.2504, -0.5261, -0.7885, -1.1664,\n",
      "           -1.3188, -1.6041, -1.3741, -1.2256, -0.4204,  0.4389,  1.7266,\n",
      "            3.1135,  4.2529,  4.8516,  5.4778,  5.7837,  5.8899],\n",
      "          [-0.5224, -0.7298, -0.9653, -1.1594, -1.3956, -1.8178, -2.3171,\n",
      "           -2.8255, -3.2475, -3.5352, -3.5577, -2.8000, -1.5375,  0.0609,\n",
      "            1.5920,  2.8912,  3.5458,  4.2727,  4.8422,  4.8450],\n",
      "          [-0.9971, -1.2292, -1.2961, -1.5753, -1.8403, -2.4458, -3.0175,\n",
      "           -4.1361, -5.3131, -5.8819, -5.8340, -4.3731, -2.7368, -1.0164,\n",
      "            0.5972,  1.7500,  2.6952,  3.4389,  3.8765,  3.9113],\n",
      "          [-1.0325, -1.1315, -1.1810, -1.2934, -1.6428, -2.2092, -3.0968,\n",
      "           -4.5992, -6.1417, -7.0459, -6.7604, -4.8742, -2.8469, -1.1905,\n",
      "            0.2128,  0.9420,  1.7263,  2.2520,  2.5274,  2.7495],\n",
      "          [-0.7024, -0.9010, -0.9707, -0.9543, -1.0559, -1.7404, -2.4446,\n",
      "           -3.3228, -4.5711, -5.7637, -5.1362, -2.9756, -1.3437,  0.0144,\n",
      "            0.4028,  0.6944,  1.1226,  1.3029,  1.2352,  1.1526],\n",
      "          [-0.2099, -0.4183, -0.5559, -0.6286, -0.5273, -0.7801, -1.0579,\n",
      "           -0.8765, -0.1910, -0.0781,  0.4754,  0.9824,  1.4272,  1.2181,\n",
      "            0.6650,  0.4684,  0.1777,  0.1430, -0.1207, -0.3545],\n",
      "          [ 0.9574,  0.7067,  0.5107,  0.3580,  0.2416,  0.5311,  0.9422,\n",
      "            2.1409,  3.9602,  6.0058,  6.0334,  4.6294,  3.4709,  2.1829,\n",
      "            0.8409,  0.2432, -0.2828, -0.6797, -1.2802, -2.1074],\n",
      "          [ 2.4166,  2.1382,  1.9040,  1.4922,  1.5383,  1.9360,  2.6745,\n",
      "            4.1110,  5.7574,  7.4240,  7.3631,  6.0675,  4.4432,  2.5442,\n",
      "            1.0587,  0.0370, -0.6876, -1.6861, -2.5009, -3.0040],\n",
      "          [ 3.9221,  3.9136,  3.6762,  3.2501,  3.2055,  3.3740,  4.0363,\n",
      "            5.1650,  6.2905,  7.1419,  7.0002,  5.9614,  4.6472,  2.7973,\n",
      "            1.0407, -0.1753, -1.6378, -2.7862, -3.5112, -4.0329],\n",
      "          [ 5.4607,  5.5448,  5.3487,  5.0948,  5.0823,  5.2360,  5.7396,\n",
      "            6.2889,  6.9448,  6.9473,  6.3968,  5.3645,  4.3533,  2.6422,\n",
      "            0.7777, -0.7516, -2.2067, -3.3080, -3.9784, -4.3865],\n",
      "          [ 6.8217,  6.8377,  6.9936,  6.9544,  7.0101,  7.1786,  7.2602,\n",
      "            7.2306,  7.1262,  7.0730,  6.3899,  5.3649,  3.9695,  2.4009,\n",
      "            0.7261, -1.0403, -2.4268, -3.3169, -3.9846, -4.6044],\n",
      "          [ 8.3001,  8.4262,  8.4445,  8.4458,  8.6862,  8.8455,  8.7449,\n",
      "            8.4012,  7.9700,  7.0633,  6.3706,  5.0916,  3.5376,  1.9457,\n",
      "            0.1545, -1.3293, -2.5071, -3.3621, -4.2661, -4.7937],\n",
      "          [ 9.2613,  9.4526,  9.6446,  9.7958,  9.8443,  9.7845,  9.5859,\n",
      "            9.0702,  8.4149,  7.3379,  6.1648,  4.7643,  3.2902,  1.7526,\n",
      "            0.1037, -1.2850, -2.2871, -3.0258, -4.1183, -4.7846],\n",
      "          [ 9.8571, 10.0444, 10.3876, 10.4452, 10.3855,  9.9801,  9.5895,\n",
      "            8.9110,  8.0838,  7.0908,  5.6869,  4.4211,  2.9839,  1.4132,\n",
      "            0.2197, -0.5669, -1.7782, -2.5225, -3.6793, -4.3751],\n",
      "          [ 9.5464,  9.9024,  9.9866, 10.1341,  9.7959,  9.3380,  8.8518,\n",
      "            8.1508,  7.2565,  6.1458,  5.0578,  3.7902,  2.7932,  1.4482,\n",
      "            0.3396, -0.4862, -1.4623, -2.3564, -3.2201, -3.9047]]]]), tensor([[129.2250, 129.2380],\n",
      "        [ 26.5000,  26.6410]], dtype=torch.float64))\n"
     ]
    }
   ],
   "source": [
    "print(base_train_ds[3])"
   ]
  },
  {
   "cell_type": "code",
   "execution_count": 5,
   "id": "54f34ff8-03a5-4e35-b62e-5c03dd7f93f3",
   "metadata": {},
   "outputs": [],
   "source": [
    "prediction_model = predictionANN(1)"
   ]
  },
  {
   "cell_type": "code",
   "execution_count": 6,
   "id": "116b3fc9-9fb0-4ab8-806d-a971aea80c86",
   "metadata": {},
   "outputs": [
    {
     "name": "stdout",
     "output_type": "stream",
     "text": [
      "188156\n"
     ]
    }
   ],
   "source": [
    "print(len(base_train_ds))"
   ]
  },
  {
   "cell_type": "code",
   "execution_count": 7,
   "id": "c8994bc8-6ef2-4d50-8f8e-b5315adff99b",
   "metadata": {},
   "outputs": [],
   "source": [
    "def train(model, train_loader, ds_length, num_epochs=5, batch_size=256):\n",
    "    loss_fn = L2_Dist_Func_Mae().to(0)\n",
    "    optimizer = torch.optim.AdamW(model.parameters(), lr=1e-3, weight_decay=0.01)\n",
    "    \n",
    "    for epoch in range(num_epochs):\n",
    "        model.train()\n",
    "        avg_loss = 0\n",
    "        for i, data in tqdm(enumerate(train_loader), total = ds_length/batch_size):\n",
    "            \n",
    "            if data == []:\n",
    "                continue\n",
    "            else:\n",
    "                example = data[0]\n",
    "                label = data[1]\n",
    "            \n",
    "            pred = model.forward(example)\n",
    "            optimizer.zero_grad(set_to_none=True)\n",
    "            loss = loss_fn(pred, label)\n",
    "            loss.backward()\n",
    "            optimizer.step()\n",
    "            avg_loss += loss.item()     \n",
    "\n",
    "        print(f\"Average loss: {loss}\")\n",
    "    \n",
    "    return model"
   ]
  },
  {
   "cell_type": "code",
   "execution_count": 8,
   "id": "0ae75cd0-f4b4-418c-ac1d-94d3878ea68a",
   "metadata": {},
   "outputs": [
    {
     "name": "stderr",
     "output_type": "stream",
     "text": [
      " 86%|████████▋ | 634/734.984375 [02:56<00:28,  3.60it/s]\n"
     ]
    },
    {
     "ename": "RuntimeError",
     "evalue": "Caught RuntimeError in DataLoader worker process 2.\nOriginal Traceback (most recent call last):\n  File \"/home/156/jm0124/.local/lib/python3.9/site-packages/torch/utils/data/_utils/worker.py\", line 287, in _worker_loop\n    data = fetcher.fetch(index)\n  File \"/home/156/jm0124/.local/lib/python3.9/site-packages/torch/utils/data/_utils/fetch.py\", line 52, in fetch\n    return self.collate_fn(data)\n  File \"/home/156/jm0124/.local/lib/python3.9/site-packages/torch/utils/data/_utils/collate.py\", line 82, in default_collate\n    raise RuntimeError('each element in list of batch should be of equal size')\nRuntimeError: each element in list of batch should be of equal size\n",
     "output_type": "error",
     "traceback": [
      "\u001b[0;31m---------------------------------------------------------------------------\u001b[0m",
      "\u001b[0;31mRuntimeError\u001b[0m                              Traceback (most recent call last)",
      "\u001b[0;32m/jobfs/41368445.gadi-pbs/ipykernel_181921/3681506121.py\u001b[0m in \u001b[0;36m<cell line: 1>\u001b[0;34m()\u001b[0m\n\u001b[0;32m----> 1\u001b[0;31m \u001b[0mtrain\u001b[0m\u001b[0;34m(\u001b[0m\u001b[0mprediction_model\u001b[0m\u001b[0;34m,\u001b[0m \u001b[0mbase_loader\u001b[0m\u001b[0;34m,\u001b[0m \u001b[0mlen\u001b[0m\u001b[0;34m(\u001b[0m\u001b[0mbase_train_ds\u001b[0m\u001b[0;34m)\u001b[0m\u001b[0;34m,\u001b[0m \u001b[0mnum_epochs\u001b[0m\u001b[0;34m=\u001b[0m\u001b[0;36m10\u001b[0m\u001b[0;34m)\u001b[0m\u001b[0;34m\u001b[0m\u001b[0;34m\u001b[0m\u001b[0m\n\u001b[0m",
      "\u001b[0;32m/jobfs/41368445.gadi-pbs/ipykernel_181921/4247387339.py\u001b[0m in \u001b[0;36mtrain\u001b[0;34m(model, train_loader, ds_length, num_epochs, batch_size)\u001b[0m\n\u001b[1;32m      6\u001b[0m         \u001b[0mmodel\u001b[0m\u001b[0;34m.\u001b[0m\u001b[0mtrain\u001b[0m\u001b[0;34m(\u001b[0m\u001b[0;34m)\u001b[0m\u001b[0;34m\u001b[0m\u001b[0;34m\u001b[0m\u001b[0m\n\u001b[1;32m      7\u001b[0m         \u001b[0mavg_loss\u001b[0m \u001b[0;34m=\u001b[0m \u001b[0;36m0\u001b[0m\u001b[0;34m\u001b[0m\u001b[0;34m\u001b[0m\u001b[0m\n\u001b[0;32m----> 8\u001b[0;31m         \u001b[0;32mfor\u001b[0m \u001b[0mi\u001b[0m\u001b[0;34m,\u001b[0m \u001b[0mdata\u001b[0m \u001b[0;32min\u001b[0m \u001b[0mtqdm\u001b[0m\u001b[0;34m(\u001b[0m\u001b[0menumerate\u001b[0m\u001b[0;34m(\u001b[0m\u001b[0mtrain_loader\u001b[0m\u001b[0;34m)\u001b[0m\u001b[0;34m,\u001b[0m \u001b[0mtotal\u001b[0m \u001b[0;34m=\u001b[0m \u001b[0mds_length\u001b[0m\u001b[0;34m/\u001b[0m\u001b[0mbatch_size\u001b[0m\u001b[0;34m)\u001b[0m\u001b[0;34m:\u001b[0m\u001b[0;34m\u001b[0m\u001b[0;34m\u001b[0m\u001b[0m\n\u001b[0m\u001b[1;32m      9\u001b[0m \u001b[0;34m\u001b[0m\u001b[0m\n\u001b[1;32m     10\u001b[0m             \u001b[0;32mif\u001b[0m \u001b[0mdata\u001b[0m \u001b[0;34m==\u001b[0m \u001b[0;34m[\u001b[0m\u001b[0;34m]\u001b[0m\u001b[0;34m:\u001b[0m\u001b[0;34m\u001b[0m\u001b[0;34m\u001b[0m\u001b[0m\n",
      "\u001b[0;32m/g/data/hh5/public/apps/miniconda3/envs/analysis3-22.01/lib/python3.9/site-packages/tqdm/std.py\u001b[0m in \u001b[0;36m__iter__\u001b[0;34m(self)\u001b[0m\n\u001b[1;32m   1193\u001b[0m \u001b[0;34m\u001b[0m\u001b[0m\n\u001b[1;32m   1194\u001b[0m         \u001b[0;32mtry\u001b[0m\u001b[0;34m:\u001b[0m\u001b[0;34m\u001b[0m\u001b[0;34m\u001b[0m\u001b[0m\n\u001b[0;32m-> 1195\u001b[0;31m             \u001b[0;32mfor\u001b[0m \u001b[0mobj\u001b[0m \u001b[0;32min\u001b[0m \u001b[0miterable\u001b[0m\u001b[0;34m:\u001b[0m\u001b[0;34m\u001b[0m\u001b[0;34m\u001b[0m\u001b[0m\n\u001b[0m\u001b[1;32m   1196\u001b[0m                 \u001b[0;32myield\u001b[0m \u001b[0mobj\u001b[0m\u001b[0;34m\u001b[0m\u001b[0;34m\u001b[0m\u001b[0m\n\u001b[1;32m   1197\u001b[0m                 \u001b[0;31m# Update and possibly print the progressbar.\u001b[0m\u001b[0;34m\u001b[0m\u001b[0;34m\u001b[0m\u001b[0m\n",
      "\u001b[0;32m~/.local/lib/python3.9/site-packages/torch/utils/data/dataloader.py\u001b[0m in \u001b[0;36m__next__\u001b[0;34m(self)\u001b[0m\n\u001b[1;32m    519\u001b[0m             \u001b[0;32mif\u001b[0m \u001b[0mself\u001b[0m\u001b[0;34m.\u001b[0m\u001b[0m_sampler_iter\u001b[0m \u001b[0;32mis\u001b[0m \u001b[0;32mNone\u001b[0m\u001b[0;34m:\u001b[0m\u001b[0;34m\u001b[0m\u001b[0;34m\u001b[0m\u001b[0m\n\u001b[1;32m    520\u001b[0m                 \u001b[0mself\u001b[0m\u001b[0;34m.\u001b[0m\u001b[0m_reset\u001b[0m\u001b[0;34m(\u001b[0m\u001b[0;34m)\u001b[0m\u001b[0;34m\u001b[0m\u001b[0;34m\u001b[0m\u001b[0m\n\u001b[0;32m--> 521\u001b[0;31m             \u001b[0mdata\u001b[0m \u001b[0;34m=\u001b[0m \u001b[0mself\u001b[0m\u001b[0;34m.\u001b[0m\u001b[0m_next_data\u001b[0m\u001b[0;34m(\u001b[0m\u001b[0;34m)\u001b[0m\u001b[0;34m\u001b[0m\u001b[0;34m\u001b[0m\u001b[0m\n\u001b[0m\u001b[1;32m    522\u001b[0m             \u001b[0mself\u001b[0m\u001b[0;34m.\u001b[0m\u001b[0m_num_yielded\u001b[0m \u001b[0;34m+=\u001b[0m \u001b[0;36m1\u001b[0m\u001b[0;34m\u001b[0m\u001b[0;34m\u001b[0m\u001b[0m\n\u001b[1;32m    523\u001b[0m             \u001b[0;32mif\u001b[0m \u001b[0mself\u001b[0m\u001b[0;34m.\u001b[0m\u001b[0m_dataset_kind\u001b[0m \u001b[0;34m==\u001b[0m \u001b[0m_DatasetKind\u001b[0m\u001b[0;34m.\u001b[0m\u001b[0mIterable\u001b[0m \u001b[0;32mand\u001b[0m\u001b[0;31m \u001b[0m\u001b[0;31m\\\u001b[0m\u001b[0;34m\u001b[0m\u001b[0;34m\u001b[0m\u001b[0m\n",
      "\u001b[0;32m~/.local/lib/python3.9/site-packages/torch/utils/data/dataloader.py\u001b[0m in \u001b[0;36m_next_data\u001b[0;34m(self)\u001b[0m\n\u001b[1;32m   1201\u001b[0m             \u001b[0;32melse\u001b[0m\u001b[0;34m:\u001b[0m\u001b[0;34m\u001b[0m\u001b[0;34m\u001b[0m\u001b[0m\n\u001b[1;32m   1202\u001b[0m                 \u001b[0;32mdel\u001b[0m \u001b[0mself\u001b[0m\u001b[0;34m.\u001b[0m\u001b[0m_task_info\u001b[0m\u001b[0;34m[\u001b[0m\u001b[0midx\u001b[0m\u001b[0;34m]\u001b[0m\u001b[0;34m\u001b[0m\u001b[0;34m\u001b[0m\u001b[0m\n\u001b[0;32m-> 1203\u001b[0;31m                 \u001b[0;32mreturn\u001b[0m \u001b[0mself\u001b[0m\u001b[0;34m.\u001b[0m\u001b[0m_process_data\u001b[0m\u001b[0;34m(\u001b[0m\u001b[0mdata\u001b[0m\u001b[0;34m)\u001b[0m\u001b[0;34m\u001b[0m\u001b[0;34m\u001b[0m\u001b[0m\n\u001b[0m\u001b[1;32m   1204\u001b[0m \u001b[0;34m\u001b[0m\u001b[0m\n\u001b[1;32m   1205\u001b[0m     \u001b[0;32mdef\u001b[0m \u001b[0m_try_put_index\u001b[0m\u001b[0;34m(\u001b[0m\u001b[0mself\u001b[0m\u001b[0;34m)\u001b[0m\u001b[0;34m:\u001b[0m\u001b[0;34m\u001b[0m\u001b[0;34m\u001b[0m\u001b[0m\n",
      "\u001b[0;32m~/.local/lib/python3.9/site-packages/torch/utils/data/dataloader.py\u001b[0m in \u001b[0;36m_process_data\u001b[0;34m(self, data)\u001b[0m\n\u001b[1;32m   1227\u001b[0m         \u001b[0mself\u001b[0m\u001b[0;34m.\u001b[0m\u001b[0m_try_put_index\u001b[0m\u001b[0;34m(\u001b[0m\u001b[0;34m)\u001b[0m\u001b[0;34m\u001b[0m\u001b[0;34m\u001b[0m\u001b[0m\n\u001b[1;32m   1228\u001b[0m         \u001b[0;32mif\u001b[0m \u001b[0misinstance\u001b[0m\u001b[0;34m(\u001b[0m\u001b[0mdata\u001b[0m\u001b[0;34m,\u001b[0m \u001b[0mExceptionWrapper\u001b[0m\u001b[0;34m)\u001b[0m\u001b[0;34m:\u001b[0m\u001b[0;34m\u001b[0m\u001b[0;34m\u001b[0m\u001b[0m\n\u001b[0;32m-> 1229\u001b[0;31m             \u001b[0mdata\u001b[0m\u001b[0;34m.\u001b[0m\u001b[0mreraise\u001b[0m\u001b[0;34m(\u001b[0m\u001b[0;34m)\u001b[0m\u001b[0;34m\u001b[0m\u001b[0;34m\u001b[0m\u001b[0m\n\u001b[0m\u001b[1;32m   1230\u001b[0m         \u001b[0;32mreturn\u001b[0m \u001b[0mdata\u001b[0m\u001b[0;34m\u001b[0m\u001b[0;34m\u001b[0m\u001b[0m\n\u001b[1;32m   1231\u001b[0m \u001b[0;34m\u001b[0m\u001b[0m\n",
      "\u001b[0;32m~/.local/lib/python3.9/site-packages/torch/_utils.py\u001b[0m in \u001b[0;36mreraise\u001b[0;34m(self)\u001b[0m\n\u001b[1;32m    432\u001b[0m             \u001b[0;31m# instantiate since we don't know how to\u001b[0m\u001b[0;34m\u001b[0m\u001b[0;34m\u001b[0m\u001b[0m\n\u001b[1;32m    433\u001b[0m             \u001b[0;32mraise\u001b[0m \u001b[0mRuntimeError\u001b[0m\u001b[0;34m(\u001b[0m\u001b[0mmsg\u001b[0m\u001b[0;34m)\u001b[0m \u001b[0;32mfrom\u001b[0m \u001b[0;32mNone\u001b[0m\u001b[0;34m\u001b[0m\u001b[0;34m\u001b[0m\u001b[0m\n\u001b[0;32m--> 434\u001b[0;31m         \u001b[0;32mraise\u001b[0m \u001b[0mexception\u001b[0m\u001b[0;34m\u001b[0m\u001b[0;34m\u001b[0m\u001b[0m\n\u001b[0m\u001b[1;32m    435\u001b[0m \u001b[0;34m\u001b[0m\u001b[0m\n\u001b[1;32m    436\u001b[0m \u001b[0;34m\u001b[0m\u001b[0m\n",
      "\u001b[0;31mRuntimeError\u001b[0m: Caught RuntimeError in DataLoader worker process 2.\nOriginal Traceback (most recent call last):\n  File \"/home/156/jm0124/.local/lib/python3.9/site-packages/torch/utils/data/_utils/worker.py\", line 287, in _worker_loop\n    data = fetcher.fetch(index)\n  File \"/home/156/jm0124/.local/lib/python3.9/site-packages/torch/utils/data/_utils/fetch.py\", line 52, in fetch\n    return self.collate_fn(data)\n  File \"/home/156/jm0124/.local/lib/python3.9/site-packages/torch/utils/data/_utils/collate.py\", line 82, in default_collate\n    raise RuntimeError('each element in list of batch should be of equal size')\nRuntimeError: each element in list of batch should be of equal size\n"
     ]
    }
   ],
   "source": [
    "train(prediction_model, base_loader, len(base_train_ds), num_epochs=10)"
   ]
  },
  {
   "cell_type": "code",
   "execution_count": null,
   "id": "fb3c1ee2-03d0-49e9-911d-d5694ad05641",
   "metadata": {},
   "outputs": [],
   "source": [
    "cyclone_ds = xarray.open_dataset('/g/data/x77/ob2720/partition/train/1985240N16256.nc', \n",
    "                            engine='netcdf4', decode_cf=True, cache=True)\n",
    "\n",
    "cyclone_ds = cyclone_ds[dict(time=[1],\n",
    "                        level=[2])]['u']\n",
    "\n",
    "cyclone_array = cyclone_ds.to_array().to_numpy()\n",
    "\n",
    "if self.crop:\n",
    "    cyclone_array = cyclone_array[:,:,:,40:120,40:120]\n",
    "    cyclone_array = cyclone_array[:,:,:,::4,::4]\n",
    "    size = 20\n",
    "\n",
    "cyclone_array = cyclone_array.transpose((1,0,2,3,4))\n",
    "cyclone_array = cyclone_array.reshape(1, -1, size, size) "
   ]
  },
  {
   "cell_type": "code",
   "execution_count": 10,
   "id": "a23ae5a7-4e55-49c6-9e12-4648af302915",
   "metadata": {},
   "outputs": [
    {
     "ename": "FileNotFoundError",
     "evalue": "[Errno 2] No such file or directory: '/g/data/x77/jm0124/synthetic_datasets/base_synthesis/u/2/0.1/train/1985240N16256-2.npy'",
     "output_type": "error",
     "traceback": [
      "\u001b[0;31m---------------------------------------------------------------------------\u001b[0m",
      "\u001b[0;31mFileNotFoundError\u001b[0m                         Traceback (most recent call last)",
      "\u001b[0;32m/jobfs/41368445.gadi-pbs/ipykernel_181921/1040430584.py\u001b[0m in \u001b[0;36m<cell line: 1>\u001b[0;34m()\u001b[0m\n\u001b[0;32m----> 1\u001b[0;31m \u001b[0mnp\u001b[0m\u001b[0;34m.\u001b[0m\u001b[0mload\u001b[0m\u001b[0;34m(\u001b[0m\u001b[0;34m'/g/data/x77/jm0124/synthetic_datasets/base_synthesis/u/2/0.1/train/1985240N16256-2.npy'\u001b[0m\u001b[0;34m,\u001b[0m \u001b[0mallow_pickle\u001b[0m\u001b[0;34m=\u001b[0m\u001b[0;32mTrue\u001b[0m\u001b[0;34m)\u001b[0m\u001b[0;34m\u001b[0m\u001b[0;34m\u001b[0m\u001b[0m\n\u001b[0m",
      "\u001b[0;32m/g/data/hh5/public/apps/miniconda3/envs/analysis3-22.01/lib/python3.9/site-packages/numpy/lib/npyio.py\u001b[0m in \u001b[0;36mload\u001b[0;34m(file, mmap_mode, allow_pickle, fix_imports, encoding)\u001b[0m\n\u001b[1;32m    415\u001b[0m             \u001b[0mown_fid\u001b[0m \u001b[0;34m=\u001b[0m \u001b[0;32mFalse\u001b[0m\u001b[0;34m\u001b[0m\u001b[0;34m\u001b[0m\u001b[0m\n\u001b[1;32m    416\u001b[0m         \u001b[0;32melse\u001b[0m\u001b[0;34m:\u001b[0m\u001b[0;34m\u001b[0m\u001b[0;34m\u001b[0m\u001b[0m\n\u001b[0;32m--> 417\u001b[0;31m             \u001b[0mfid\u001b[0m \u001b[0;34m=\u001b[0m \u001b[0mstack\u001b[0m\u001b[0;34m.\u001b[0m\u001b[0menter_context\u001b[0m\u001b[0;34m(\u001b[0m\u001b[0mopen\u001b[0m\u001b[0;34m(\u001b[0m\u001b[0mos_fspath\u001b[0m\u001b[0;34m(\u001b[0m\u001b[0mfile\u001b[0m\u001b[0;34m)\u001b[0m\u001b[0;34m,\u001b[0m \u001b[0;34m\"rb\"\u001b[0m\u001b[0;34m)\u001b[0m\u001b[0;34m)\u001b[0m\u001b[0;34m\u001b[0m\u001b[0;34m\u001b[0m\u001b[0m\n\u001b[0m\u001b[1;32m    418\u001b[0m             \u001b[0mown_fid\u001b[0m \u001b[0;34m=\u001b[0m \u001b[0;32mTrue\u001b[0m\u001b[0;34m\u001b[0m\u001b[0;34m\u001b[0m\u001b[0m\n\u001b[1;32m    419\u001b[0m \u001b[0;34m\u001b[0m\u001b[0m\n",
      "\u001b[0;31mFileNotFoundError\u001b[0m: [Errno 2] No such file or directory: '/g/data/x77/jm0124/synthetic_datasets/base_synthesis/u/2/0.1/train/1985240N16256-2.npy'"
     ]
    }
   ],
   "source": [
    "np.load('/g/data/x77/jm0124/synthetic_datasets/base_synthesis/u/2/0.1/train/1985240N16256-2.npy', allow_pickle=True)"
   ]
  },
  {
   "cell_type": "code",
   "execution_count": null,
   "id": "82fabe46-9171-4256-9acf-1f02b3e7466b",
   "metadata": {},
   "outputs": [],
   "source": [
    "prediction_model = predictionANN(1)"
   ]
  },
  {
   "cell_type": "code",
   "execution_count": null,
   "id": "7aa2ed17-cd86-4b4a-9f05-b6f5d1a1034b",
   "metadata": {},
   "outputs": [],
   "source": [
    "train(prediction_model, base_loader, len(train_ds), num_epochs=5)\n",
    "train(prediction_model, normal_perturb_loader, len(train_ds), num_epochs=5)"
   ]
  }
 ],
 "metadata": {
  "kernelspec": {
   "display_name": "Python [conda env:analysis3-22.01]",
   "language": "python",
   "name": "conda-env-analysis3-22.01-py"
  },
  "language_info": {
   "codemirror_mode": {
    "name": "ipython",
    "version": 3
   },
   "file_extension": ".py",
   "mimetype": "text/x-python",
   "name": "python",
   "nbconvert_exporter": "python",
   "pygments_lexer": "ipython3",
   "version": "3.9.12"
  }
 },
 "nbformat": 4,
 "nbformat_minor": 5
}
