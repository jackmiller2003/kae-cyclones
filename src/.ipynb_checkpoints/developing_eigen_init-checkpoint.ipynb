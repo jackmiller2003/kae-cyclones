{
 "cells": [
  {
   "cell_type": "code",
   "execution_count": 2,
   "id": "f71c3c2f-5bf5-4e17-922d-970bf03fad78",
   "metadata": {},
   "outputs": [],
   "source": [
    "import numpy as np\n",
    "import torch"
   ]
  },
  {
   "cell_type": "code",
   "execution_count": 16,
   "id": "77495c51-643a-4c76-a94f-d300851b038d",
   "metadata": {},
   "outputs": [],
   "source": [
    "def reconstruct_operator(w, v):\n",
    "    \"\"\"\n",
    "    Recreate a matrix from its eigenvalues and eigenvectors.\n",
    "    \"\"\"\n",
    "    R = np.linalg.inv(v)\n",
    "    # create diagonal matrix from eigenvalues\n",
    "    L = np.diag(w)\n",
    "    # reconstruct the original matrix\n",
    "    B = v.dot(L).dot(R)\n",
    "    return B"
   ]
  },
  {
   "cell_type": "code",
   "execution_count": 22,
   "id": "bf0f55cf-838d-42e2-8ff0-719ec00b954c",
   "metadata": {},
   "outputs": [],
   "source": [
    "def eigen_init_(n_units, std=1):\n",
    "    sampler = torch.distributions.Normal(torch.Tensor([0]), torch.Tensor([std/n_units]))\n",
    "    Omega = sampler.sample((n_units, n_units))[..., 0]  \n",
    "    w, v = np.linalg.eig(Omega.cpu().detach().numpy())\n",
    "    w =np.random.uniform(-2,2, w.shape[0])\n",
    "    return reconstruct_operator(w,v)"
   ]
  },
  {
   "cell_type": "code",
   "execution_count": 23,
   "id": "f6cda23a-c9e6-4243-856e-43303c157d9d",
   "metadata": {},
   "outputs": [
    {
     "name": "stdout",
     "output_type": "stream",
     "text": [
      "[-0.63836712  1.27272341 -1.96890697 -1.82173631  1.66471135]\n",
      "[[ 0.55234   +0.j          0.7566906 +0.j          0.7566906 -0.j\n",
      "  -0.41695145+0.j         -0.17405729+0.j        ]\n",
      " [-0.3922205 +0.j          0.1996129 +0.17983553j  0.1996129 -0.17983553j\n",
      "  -0.66501135+0.j         -0.3196221 +0.j        ]\n",
      " [ 0.12971687+0.j         -0.08042279-0.10640565j -0.08042279+0.10640565j\n",
      "   0.42012116+0.j         -0.844013  +0.j        ]\n",
      " [-0.0601375 +0.j         -0.40667504-0.343105j   -0.40667504+0.343105j\n",
      "   0.37898752+0.j          0.34135628+0.j        ]\n",
      " [-0.72155434+0.j          0.2057317 -0.10959933j  0.2057317 +0.10959933j\n",
      "   0.2525432 +0.j         -0.19663097+0.j        ]]\n"
     ]
    },
    {
     "data": {
      "text/plain": [
       "(array([-1.96890699-1.29908270e-08j, -1.82173625-4.59137936e-15j,\n",
       "        -0.63836711-4.21455068e-16j,  1.27272342-8.39741879e-09j,\n",
       "         1.66471139+2.29606237e-16j]),\n",
       " array([[ 0.75669068+0.00000000e+00j,  0.41695149-1.02486236e-07j,\n",
       "         -0.55233995-1.09789306e-08j,  0.75669063+0.00000000e+00j,\n",
       "          0.17405729-2.97513723e-08j],\n",
       "        [ 0.19961283-1.79835454e-01j,  0.66501134+0.00000000e+00j,\n",
       "          0.3922205 -2.94885593e-09j,  0.19961291+1.79835533e-01j,\n",
       "          0.31962211-1.13231523e-08j],\n",
       "        [-0.08042274+1.06405593e-01j, -0.42012116-8.12922651e-09j,\n",
       "         -0.12971687+1.51768766e-09j, -0.08042279-1.06405644e-01j,\n",
       "          0.84401298+0.00000000e+00j],\n",
       "        [-0.40667502+3.43105008e-01j, -0.37898749+6.11834306e-08j,\n",
       "          0.0601375 +7.94463760e-09j, -0.40667505-3.43104990e-01j,\n",
       "         -0.34135629+2.12215151e-08j],\n",
       "        [ 0.20573177+1.09599277e-01j, -0.25254318-4.61054146e-08j,\n",
       "          0.72155434+0.00000000e+00j,  0.2057317 -1.09599333e-01j,\n",
       "          0.19663096-7.58132572e-09j]]))"
      ]
     },
     "execution_count": 23,
     "metadata": {},
     "output_type": "execute_result"
    }
   ],
   "source": [
    "np.linalg.eig(eigen_init_(5,1))"
   ]
  },
  {
   "cell_type": "code",
   "execution_count": null,
   "id": "dbc4a2f0-7872-4152-aed8-48bc07886d32",
   "metadata": {},
   "outputs": [],
   "source": []
  }
 ],
 "metadata": {
  "kernelspec": {
   "display_name": "Python [conda env:analysis3-22.01]",
   "language": "python",
   "name": "conda-env-analysis3-22.01-py"
  },
  "language_info": {
   "codemirror_mode": {
    "name": "ipython",
    "version": 3
   },
   "file_extension": ".py",
   "mimetype": "text/x-python",
   "name": "python",
   "nbconvert_exporter": "python",
   "pygments_lexer": "ipython3",
   "version": "3.9.12"
  }
 },
 "nbformat": 4,
 "nbformat_minor": 5
}
