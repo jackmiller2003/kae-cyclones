{
 "cells": [
  {
   "cell_type": "code",
   "execution_count": null,
   "id": "95c4abab-827e-4861-bc90-3451f959e17d",
   "metadata": {},
   "outputs": [
    {
     "name": "stderr",
     "output_type": "stream",
     "text": [
      " 92%|█████████▏| 673/734.984375 [07:04<00:41,  1.50it/s]"
     ]
    }
   ],
   "source": [
    "import torch\n",
    "import xarray\n",
    "from datasets import *\n",
    "from models import *\n",
    "from dl_pipeline import *\n",
    "from loss import *\n",
    "import seaborn\n",
    "import numpy as np\n",
    "import matplotlib.pyplot as plt\n",
    "\n",
    "\n",
    "base_train_ds = CycloneDataset('/g/data/x77/ob2720/partition/train/', tracks_path=train_json_path, \n",
    "                            save_np=False, load_np=True, partition_name='train', synthetic=True, \n",
    "                            synthetic_type='base_synthesis', sigma=0.1)\n",
    "normal_perturb_train_ds = CycloneDataset('/g/data/x77/ob2720/partition/train/', tracks_path=train_json_path, \n",
    "                            save_np=False, load_np=True, partition_name='train', synthetic=True, \n",
    "                            synthetic_type='normal_perturb_synthesis', sigma=0.1)\n",
    "\n",
    "base_loader = torch.utils.data.DataLoader(base_train_ds, batch_size=256, num_workers=8, pin_memory=True, shuffle=True)\n",
    "normal_perturb_loader = torch.utils.data.DataLoader(normal_perturb_train_ds, batch_size=256, num_workers=8, pin_memory=True, shuffle=True)\n",
    "\n",
    "prediction_model = predictionANN(1)\n",
    "\n",
    "def train(model, train_loader, ds_length, num_epochs, batch_size):\n",
    "    loss_fn = L2_Dist_Func_Mae().to(0)\n",
    "    optimizer = torch.optim.AdamW(model.parameters(), lr=1e-3, weight_decay=0.01)\n",
    "    \n",
    "    for epoch in range(num_epochs):\n",
    "        model.train()\n",
    "        avg_loss = 0\n",
    "        for i, data in tqdm(enumerate(train_loader), total = ds_length/batch_size):\n",
    "            \n",
    "            if data == []:\n",
    "                continue\n",
    "            else:\n",
    "                example = data[0]\n",
    "                label = data[1]\n",
    "            \n",
    "            pred = model.forward(example)\n",
    "            optimizer.zero_grad(set_to_none=True)\n",
    "            loss = loss_fn(pred, label)\n",
    "            loss.backward()\n",
    "            optimizer.step()\n",
    "            avg_loss += loss.item()     \n",
    "\n",
    "        print(f\"Average loss: {loss}\")\n",
    "    \n",
    "    return model\n",
    "\n",
    "\n",
    "train(prediction_model, base_loader, len(base_train_ds), num_epochs=8, batch_size=256)"
   ]
  },
  {
   "cell_type": "code",
   "execution_count": null,
   "id": "1f1ab6c4-5f45-46aa-b7b2-13ed5bcf4c1a",
   "metadata": {},
   "outputs": [],
   "source": []
  }
 ],
 "metadata": {
  "kernelspec": {
   "display_name": "Python [conda env:analysis3]",
   "language": "python",
   "name": "conda-env-analysis3-py"
  },
  "language_info": {
   "codemirror_mode": {
    "name": "ipython",
    "version": 3
   },
   "file_extension": ".py",
   "mimetype": "text/x-python",
   "name": "python",
   "nbconvert_exporter": "python",
   "pygments_lexer": "ipython3",
   "version": "3.9.9"
  }
 },
 "nbformat": 4,
 "nbformat_minor": 5
}
