{
 "cells": [
  {
   "cell_type": "code",
   "execution_count": 29,
   "id": "74a8dcb9-75b2-4f20-a9c3-f12d93390235",
   "metadata": {},
   "outputs": [],
   "source": [
    "import torch\n",
    "import xarray\n",
    "from datasets import *\n",
    "from models import *\n",
    "from dl_pipeline import *\n",
    "from loss import *\n",
    "import seaborn\n",
    "import numpy as np\n",
    "import matplotlib.pyplot as plt"
   ]
  },
  {
   "cell_type": "code",
   "execution_count": 30,
   "id": "8b303176-17ae-4635-915e-810e635cb2a8",
   "metadata": {},
   "outputs": [],
   "source": [
    "base_train_ds = CycloneDataset('/g/data/x77/ob2720/partition/train/', tracks_path=train_json_path, \n",
    "                            save_np=False, load_np=True, partition_name='train', synthetic=True, \n",
    "                            synthetic_type='base_synthesis', sigma=0.1)\n",
    "normal_perturb_train_ds = CycloneDataset('/g/data/x77/ob2720/partition/train/', tracks_path=train_json_path, \n",
    "                            save_np=False, load_np=True, partition_name='train', synthetic=True, \n",
    "                            synthetic_type='normal_perturb_synthesis', sigma=0.1)"
   ]
  },
  {
   "cell_type": "code",
   "execution_count": 31,
   "id": "7c0d3eac-fdb3-442f-abd6-4cc61bfd8812",
   "metadata": {},
   "outputs": [],
   "source": [
    "base_loader = torch.utils.data.DataLoader(base_train_ds, batch_size=256, num_workers=8, pin_memory=True, shuffle=True)\n",
    "normal_perturb_loader = torch.utils.data.DataLoader(normal_perturb_train_ds, batch_size=256, num_workers=8, pin_memory=True, shuffle=True)"
   ]
  },
  {
   "cell_type": "code",
   "execution_count": 32,
   "id": "54f34ff8-03a5-4e35-b62e-5c03dd7f93f3",
   "metadata": {},
   "outputs": [],
   "source": [
    "prediction_model = predictionANN(1)"
   ]
  },
  {
   "cell_type": "code",
   "execution_count": 33,
   "id": "116b3fc9-9fb0-4ab8-806d-a971aea80c86",
   "metadata": {},
   "outputs": [
    {
     "name": "stdout",
     "output_type": "stream",
     "text": [
      "188156\n"
     ]
    }
   ],
   "source": [
    "print(len(base_train_ds))"
   ]
  },
  {
   "cell_type": "code",
   "execution_count": 34,
   "id": "c8994bc8-6ef2-4d50-8f8e-b5315adff99b",
   "metadata": {},
   "outputs": [],
   "source": [
    "def train(model, train_loader, ds_length, num_epochs=5, batch_size=256):\n",
    "    loss_fn = L2_Dist_Func_Mae().to(0)\n",
    "    optimizer = torch.optim.AdamW(model.parameters(), lr=1e-3, weight_decay=0.01)\n",
    "    \n",
    "    for epoch in range(num_epochs):\n",
    "        model.train()\n",
    "        avg_loss = 0\n",
    "        for i, data in tqdm(enumerate(train_loader), total = ds_length/batch_size):\n",
    "            \n",
    "            if data == []:\n",
    "                continue\n",
    "            else:\n",
    "                example = data[0]\n",
    "                label = data[1]\n",
    "            \n",
    "            pred = model.forward(example)\n",
    "            optimizer.zero_grad(set_to_none=True)\n",
    "            loss = loss_fn(pred, label)\n",
    "            loss.backward()\n",
    "            optimizer.step()\n",
    "            avg_loss += loss.item()     \n",
    "\n",
    "        print(f\"Average loss: {loss}\")\n",
    "    \n",
    "    return model"
   ]
  },
  {
   "cell_type": "code",
   "execution_count": null,
   "id": "0ae75cd0-f4b4-418c-ac1d-94d3878ea68a",
   "metadata": {},
   "outputs": [
    {
     "name": "stderr",
     "output_type": "stream",
     "text": [
      "100%|██████████| 735/734.984375 [03:29<00:00,  3.50it/s]"
     ]
    },
    {
     "name": "stdout",
     "output_type": "stream",
     "text": [
      "Average loss: 29.728195333291612\n"
     ]
    },
    {
     "name": "stderr",
     "output_type": "stream",
     "text": [
      "\n",
      "100%|██████████| 735/734.984375 [03:21<00:00,  3.66it/s]"
     ]
    },
    {
     "name": "stdout",
     "output_type": "stream",
     "text": [
      "Average loss: 31.21376988268088\n"
     ]
    },
    {
     "name": "stderr",
     "output_type": "stream",
     "text": [
      "\n",
      "100%|██████████| 735/734.984375 [03:21<00:00,  3.64it/s]"
     ]
    },
    {
     "name": "stdout",
     "output_type": "stream",
     "text": [
      "Average loss: 28.612871387648205\n"
     ]
    },
    {
     "name": "stderr",
     "output_type": "stream",
     "text": [
      "\n",
      "100%|██████████| 735/734.984375 [03:22<00:00,  3.63it/s]"
     ]
    },
    {
     "name": "stdout",
     "output_type": "stream",
     "text": [
      "Average loss: 28.294182322801106\n"
     ]
    },
    {
     "name": "stderr",
     "output_type": "stream",
     "text": [
      "\n",
      "100%|██████████| 735/734.984375 [03:22<00:00,  3.64it/s]"
     ]
    },
    {
     "name": "stdout",
     "output_type": "stream",
     "text": [
      "Average loss: 30.450344560165252\n"
     ]
    },
    {
     "name": "stderr",
     "output_type": "stream",
     "text": [
      "\n",
      "100%|██████████| 735/734.984375 [03:21<00:00,  3.64it/s]"
     ]
    },
    {
     "name": "stdout",
     "output_type": "stream",
     "text": [
      "Average loss: 28.369306607851907\n"
     ]
    },
    {
     "name": "stderr",
     "output_type": "stream",
     "text": [
      "\n",
      "100%|██████████| 735/734.984375 [03:22<00:00,  3.63it/s]"
     ]
    },
    {
     "name": "stdout",
     "output_type": "stream",
     "text": [
      "Average loss: 28.896483935060957\n"
     ]
    },
    {
     "name": "stderr",
     "output_type": "stream",
     "text": [
      "\n",
      "100%|██████████| 735/734.984375 [03:22<00:00,  3.63it/s]"
     ]
    },
    {
     "name": "stdout",
     "output_type": "stream",
     "text": [
      "Average loss: 30.25399226990957\n"
     ]
    },
    {
     "name": "stderr",
     "output_type": "stream",
     "text": [
      "\n",
      "100%|██████████| 735/734.984375 [03:23<00:00,  3.62it/s]"
     ]
    },
    {
     "name": "stdout",
     "output_type": "stream",
     "text": [
      "Average loss: 28.783015247848297\n"
     ]
    },
    {
     "name": "stderr",
     "output_type": "stream",
     "text": [
      "\n",
      "100%|██████████| 735/734.984375 [03:21<00:00,  3.65it/s]"
     ]
    },
    {
     "name": "stdout",
     "output_type": "stream",
     "text": [
      "Average loss: 28.97770292276428\n"
     ]
    },
    {
     "name": "stderr",
     "output_type": "stream",
     "text": [
      "\n",
      "100%|██████████| 735/734.984375 [03:21<00:00,  3.65it/s]"
     ]
    },
    {
     "name": "stdout",
     "output_type": "stream",
     "text": [
      "Average loss: 28.742693858487264\n"
     ]
    },
    {
     "name": "stderr",
     "output_type": "stream",
     "text": [
      "\n",
      " 92%|█████████▏| 674/734.984375 [03:05<00:13,  4.37it/s]"
     ]
    }
   ],
   "source": [
    "train(prediction_model, base_loader, len(base_train_ds), num_epochs=20)"
   ]
  },
  {
   "cell_type": "code",
   "execution_count": 21,
   "id": "a23ae5a7-4e55-49c6-9e12-4648af302915",
   "metadata": {},
   "outputs": [
    {
     "data": {
      "text/plain": [
       "(1, 1, 20, 20)"
      ]
     },
     "execution_count": 21,
     "metadata": {},
     "output_type": "execute_result"
    }
   ],
   "source": [
    "np.load('/g/data/x77/jm0124/synthetic_datasets/base_synthesis/u/2/0.1/train/1985240N16256-2.npy', allow_pickle=True).shape"
   ]
  },
  {
   "cell_type": "code",
   "execution_count": null,
   "id": "82fabe46-9171-4256-9acf-1f02b3e7466b",
   "metadata": {},
   "outputs": [],
   "source": [
    "prediction_model = predictionANN(1)"
   ]
  },
  {
   "cell_type": "code",
   "execution_count": 36,
   "id": "7aa2ed17-cd86-4b4a-9f05-b6f5d1a1034b",
   "metadata": {},
   "outputs": [
    {
     "name": "stderr",
     "output_type": "stream",
     "text": [
      "100%|██████████| 735/734.984375 [03:22<00:00,  3.64it/s]"
     ]
    },
    {
     "name": "stdout",
     "output_type": "stream",
     "text": [
      "Average loss: 30.18215855908772\n"
     ]
    },
    {
     "name": "stderr",
     "output_type": "stream",
     "text": [
      "\n",
      "100%|██████████| 735/734.984375 [03:21<00:00,  3.65it/s]"
     ]
    },
    {
     "name": "stdout",
     "output_type": "stream",
     "text": [
      "Average loss: 30.482336185754292\n"
     ]
    },
    {
     "name": "stderr",
     "output_type": "stream",
     "text": [
      "\n",
      "100%|██████████| 735/734.984375 [03:20<00:00,  3.66it/s]"
     ]
    },
    {
     "name": "stdout",
     "output_type": "stream",
     "text": [
      "Average loss: 28.811776593090997\n"
     ]
    },
    {
     "name": "stderr",
     "output_type": "stream",
     "text": [
      "\n",
      "100%|██████████| 735/734.984375 [03:20<00:00,  3.66it/s]"
     ]
    },
    {
     "name": "stdout",
     "output_type": "stream",
     "text": [
      "Average loss: 30.152442959565963\n"
     ]
    },
    {
     "name": "stderr",
     "output_type": "stream",
     "text": [
      "\n",
      "100%|██████████| 735/734.984375 [03:20<00:00,  3.66it/s]"
     ]
    },
    {
     "name": "stdout",
     "output_type": "stream",
     "text": [
      "Average loss: 30.002978052884814\n"
     ]
    },
    {
     "name": "stderr",
     "output_type": "stream",
     "text": [
      "\n",
      "100%|██████████| 735/734.984375 [12:38<00:00,  1.03s/it]"
     ]
    },
    {
     "name": "stdout",
     "output_type": "stream",
     "text": [
      "Average loss: 30.966229676254212\n"
     ]
    },
    {
     "name": "stderr",
     "output_type": "stream",
     "text": [
      "\n",
      "100%|██████████| 735/734.984375 [03:20<00:00,  3.66it/s]"
     ]
    },
    {
     "name": "stdout",
     "output_type": "stream",
     "text": [
      "Average loss: 32.41251075930066\n"
     ]
    },
    {
     "name": "stderr",
     "output_type": "stream",
     "text": [
      "\n",
      "100%|██████████| 735/734.984375 [03:21<00:00,  3.66it/s]"
     ]
    },
    {
     "name": "stdout",
     "output_type": "stream",
     "text": [
      "Average loss: 28.9825183678241\n"
     ]
    },
    {
     "name": "stderr",
     "output_type": "stream",
     "text": [
      "\n",
      "100%|██████████| 735/734.984375 [03:21<00:00,  3.65it/s]"
     ]
    },
    {
     "name": "stdout",
     "output_type": "stream",
     "text": [
      "Average loss: 29.729422370592754\n"
     ]
    },
    {
     "name": "stderr",
     "output_type": "stream",
     "text": [
      "\n",
      "100%|██████████| 735/734.984375 [03:21<00:00,  3.64it/s]"
     ]
    },
    {
     "name": "stdout",
     "output_type": "stream",
     "text": [
      "Average loss: 31.92813471763853\n"
     ]
    },
    {
     "name": "stderr",
     "output_type": "stream",
     "text": [
      "\n"
     ]
    },
    {
     "data": {
      "text/plain": [
       "predictionANN(\n",
       "  (fc1): Linear(in_features=400, out_features=16, bias=True)\n",
       "  (fc2): Linear(in_features=16, out_features=16, bias=True)\n",
       "  (fc3): Linear(in_features=16, out_features=2, bias=True)\n",
       ")"
      ]
     },
     "execution_count": 36,
     "metadata": {},
     "output_type": "execute_result"
    }
   ],
   "source": [
    "train(prediction_model, base_loader, len(base_train_ds), num_epochs=10)\n",
    "train(prediction_model, normal_perturb_loader, len(normal_perturb_train_ds), num_epochs=5)"
   ]
  },
  {
   "cell_type": "code",
   "execution_count": null,
   "id": "7080804a-2e7b-4a9f-a736-004eb44b36a8",
   "metadata": {},
   "outputs": [],
   "source": [
    "cyclone_ds = xarray.open_dataset('/g/data/x77/ob2720/partition/train/1985240N16256.nc', \n",
    "                            engine='netcdf4', decode_cf=True, cache=True)\n",
    "\n",
    "cyclone_ds = cyclone_ds[dict(time=[1],\n",
    "                        level=[2])]['u']\n",
    "print(cyclone_ds)\n",
    "\n",
    "cyclone_array = cyclone_ds.to_numpy()\n",
    "\n",
    "cyclone_array = cyclone_array[:,:,40:120,40:120]\n",
    "cyclone_array = cyclone_array[:,:,::4,::4]\n",
    "size = 20\n",
    "\n",
    "cyclone_array = cyclone_array.reshape(1, -1, size, size) \n",
    "np.save('/g/data/x77/jm0124/synthetic_datasets/base_synthesis/u/2/0.1/train/1985240N16256-2.npy', cyclone_array)"
   ]
  }
 ],
 "metadata": {
  "kernelspec": {
   "display_name": "Python [conda env:analysis3-22.01]",
   "language": "python",
   "name": "conda-env-analysis3-22.01-py"
  },
  "language_info": {
   "codemirror_mode": {
    "name": "ipython",
    "version": 3
   },
   "file_extension": ".py",
   "mimetype": "text/x-python",
   "name": "python",
   "nbconvert_exporter": "python",
   "pygments_lexer": "ipython3",
   "version": "3.9.12"
  }
 },
 "nbformat": 4,
 "nbformat_minor": 5
}
