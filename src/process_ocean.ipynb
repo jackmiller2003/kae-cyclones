{
 "cells": [
  {
   "cell_type": "code",
   "execution_count": 1,
   "id": "b7a29197-8e8c-49ec-a3f2-98f552b6c983",
   "metadata": {},
   "outputs": [],
   "source": [
    "import os\n",
    "import numpy as np\n",
    "import matplotlib.pyplot as plt\n",
    "import torch\n",
    "from torch.utils.data import Dataset\n",
    "from torch.utils.data import DataLoader\n",
    "import json\n",
    "import xarray\n",
    "from pathlib import Path\n",
    "import dask\n",
    "from tqdm import tqdm"
   ]
  },
  {
   "cell_type": "markdown",
   "id": "a3390975-098a-4c65-b672-67a97d13e4bf",
   "metadata": {},
   "source": [
    "## Preprocess"
   ]
  },
  {
   "cell_type": "code",
   "execution_count": 9,
   "id": "9601f5b3-d7d8-4371-80f1-a59940de95bf",
   "metadata": {},
   "outputs": [],
   "source": [
    "prefix = '/g/data/x77/jm0124/ocean'\n",
    "\n",
    "def sst():\n",
    "    prefix = '/g/data/x77/jm0124/ocean'\n",
    "    # path = '/home/156/cn1951/kae-cyclones/input/sstday.npy'\n",
    "    path = '/g/data/x77/jm0124/ocean/sstday.npy'\n",
    "    X = np.load(path)\n",
    "    t, m, n = X.shape\n",
    "    indices = range(3600)\n",
    "    training_idx, valid_idx, test_idx = indices[220:1315], indices[1315:2557], indices[2557:2922] # 6 years\n",
    "    \n",
    "    # mean subtract\n",
    "    X = X.reshape(-1,m*n)\n",
    "    X -= X.mean(axis=0)    \n",
    "    \n",
    "    # scale \n",
    "    X = X.reshape(-1,m*n)\n",
    "    X = 2 * (X - np.min(X)) / np.ptp(X) - 1\n",
    "    X = X.reshape(-1,m,n) \n",
    "    \n",
    "    # split into train, valid and test set\n",
    "    \n",
    "    X_train = X[training_idx]  \n",
    "    X_valid = X[valid_idx]\n",
    "    X_test = X[test_idx]\n",
    "    \n",
    "    np.save(f'{prefix}/sstday_train.npy', X_train)\n",
    "    np.save(f'{prefix}/sstday_valid.npy', X_valid)\n",
    "    np.save(f'{prefix}/sstday_test.npy', X_test)\n",
    "\n",
    "    return X_train, X_valid, X_test, m, n"
   ]
  },
  {
   "cell_type": "code",
<<<<<<< HEAD
   "execution_count": 46,
=======
   "execution_count": 10,
   "id": "cc2970ae-43e0-4c22-bb5f-599d9fcf0fbb",
   "metadata": {},
   "outputs": [
    {
     "data": {
      "text/plain": [
       "(array([[[0.2610705 , 0.27098513, 0.2774123 , ..., 0.2708447 ,\n",
       "          0.2725873 , 0.2730229 ],\n",
       "         [0.26274228, 0.2722441 , 0.27820063, ..., 0.26982963,\n",
       "          0.27314556, 0.27748108],\n",
       "         [0.26836777, 0.27740026, 0.2815336 , ..., 0.275033  ,\n",
       "          0.27932715, 0.28374207],\n",
       "         ...,\n",
       "         [0.20286238, 0.20286238, 0.20286238, ..., 0.47588623,\n",
       "          0.47862363, 0.4763602 ],\n",
       "         [0.20286238, 0.20286238, 0.20286238, ..., 0.48712564,\n",
       "          0.48646808, 0.48315907],\n",
       "         [0.20286238, 0.20286238, 0.20286238, ..., 0.48575592,\n",
       "          0.48911333, 0.49041247]],\n",
       " \n",
       "        [[0.27239287, 0.2777785 , 0.2804314 , ..., 0.25121927,\n",
       "          0.24918807, 0.24811387],\n",
       "         [0.27708375, 0.28054714, 0.28197467, ..., 0.25322354,\n",
       "          0.2535205 , 0.25483668],\n",
       "         [0.28270924, 0.28570318, 0.2868173 , ..., 0.25842726,\n",
       "          0.2612114 , 0.26260698],\n",
       "         ...,\n",
       "         [0.20286238, 0.20286238, 0.20286238, ..., 0.4751315 ,\n",
       "          0.47786868, 0.47711492],\n",
       "         [0.20286238, 0.20286238, 0.20286238, ..., 0.47580326,\n",
       "          0.47816503, 0.47787535],\n",
       "         [0.20286238, 0.20286238, 0.20286238, ..., 0.47216928,\n",
       "          0.47477186, 0.47531617]],\n",
       " \n",
       "        [[0.27692163, 0.27853322, 0.27892172, ..., 0.22631037,\n",
       "          0.23333704, 0.24132049],\n",
       "         [0.2808578 , 0.2820568 , 0.28121996, ..., 0.22378576,\n",
       "          0.23615944, 0.24502397],\n",
       "         [0.28723824, 0.28872263, 0.28757226, ..., 0.22898936,\n",
       "          0.24762464, 0.25732327],\n",
       "         ...,\n",
       "         [0.20286238, 0.20286238, 0.20286238, ..., 0.49249232,\n",
       "          0.4974941 , 0.49674034],\n",
       "         [0.20286238, 0.20286238, 0.20286238, ..., 0.49165475,\n",
       "          0.49854517, 0.49750078],\n",
       "         [0.20286238, 0.20286238, 0.20286238, ..., 0.4872656 ,\n",
       "          0.49439728, 0.4949416 ]],\n",
       " \n",
       "        ...,\n",
       " \n",
       "        [[0.21049786, 0.19550335, 0.17173767, ..., 0.28594077,\n",
       "          0.27862597, 0.27528727],\n",
       "         [0.22651112, 0.21789742, 0.19743526, ..., 0.2834164 ,\n",
       "          0.2814486 , 0.27370703],\n",
       "         [0.25176167, 0.24871731, 0.23699927, ..., 0.27578807,\n",
       "          0.27555275, 0.27392936],\n",
       "         ...,\n",
       "         [0.20286238, 0.20286238, 0.20286238, ..., 0.5657095 ,\n",
       "          0.55787945, 0.547313  ],\n",
       "         [0.20286238, 0.20286238, 0.20286238, ..., 0.5746845 ,\n",
       "          0.5679885 , 0.5593958 ],\n",
       "         [0.20286238, 0.20286238, 0.20286238, ..., 0.5793532 ,\n",
       "          0.5759175 , 0.5689137 ]],\n",
       " \n",
       "        [[0.20219481, 0.1917293 , 0.1724925 , ..., 0.26329637,\n",
       "          0.25069773, 0.2383014 ],\n",
       "         [0.21367908, 0.20883965, 0.1936611 , ..., 0.26454604,\n",
       "          0.25125587, 0.23747587],\n",
       "         [0.23440099, 0.23362088, 0.22718656, ..., 0.26295602,\n",
       "          0.2491343 , 0.2376982 ],\n",
       "         ...,\n",
       "         [0.20286238, 0.20286238, 0.20286238, ..., 0.55514205,\n",
       "          0.5488218 , 0.5405196 ],\n",
       "         [0.20286238, 0.20286238, 0.20286238, ..., 0.56562686,\n",
       "          0.5589305 , 0.5533571 ],\n",
       "         [0.20286238, 0.20286238, 0.20286238, ..., 0.5733148 ,\n",
       "          0.56761444, 0.5628749 ]],\n",
       " \n",
       "        [[0.18936288, 0.18267143, 0.16947329, ..., 0.2708447 ,\n",
       "          0.26805854, 0.26094592],\n",
       "         [0.19178939, 0.18921435, 0.18233883, ..., 0.27284896,\n",
       "          0.26786184, 0.26163006],\n",
       "         [0.19892454, 0.20116365, 0.20152283, ..., 0.2697494 ,\n",
       "          0.26423073, 0.25732327],\n",
       "         ...,\n",
       "         [0.20286238, 0.20286238, 0.20286238, ..., 0.58684456,\n",
       "          0.58052397, 0.5692028 ],\n",
       "         [0.20286238, 0.20286238, 0.20286238, ..., 0.5965743 ,\n",
       "          0.5913876 , 0.58355   ],\n",
       "         [0.20286238, 0.20286238, 0.20286238, ..., 0.6019976 ,\n",
       "          0.5978073 , 0.59306777]]], dtype=float32),\n",
       " array([[[0.18860805, 0.1841811 , 0.17551184, ..., 0.28518605,\n",
       "          0.2846644 , 0.28057098],\n",
       "         [0.18726051, 0.18468523, 0.18460333, ..., 0.28794515,\n",
       "          0.28597736, 0.2827648 ],\n",
       "         [0.17477036, 0.18153834, 0.18944585, ..., 0.28861976,\n",
       "          0.28461075, 0.27845836],\n",
       "         ...,\n",
       "         [0.20286238, 0.20286238, 0.20286238, ..., 0.6245854 ,\n",
       "          0.6235485 , 0.609208  ],\n",
       "         [0.20286238, 0.20286238, 0.20286238, ..., 0.6388439 ,\n",
       "          0.6374316 , 0.62959385],\n",
       "         [0.20286238, 0.20286238, 0.20286238, ..., 0.6420032 ,\n",
       "          0.6400769 , 0.633073  ]],\n",
       " \n",
       "        [[0.19087255, 0.1864456 , 0.18004072, ..., 0.28971505,\n",
       "          0.29145777, 0.29264808],\n",
       "         [0.18348634, 0.1831758 , 0.18611288, ..., 0.29247415,\n",
       "          0.2935257 , 0.29559684],\n",
       "         [0.17099631, 0.17700958, 0.18718147, ..., 0.2923938 ,\n",
       "          0.29140413, 0.29053545],\n",
       "         ...,\n",
       "         [0.20286238, 0.20286238, 0.20286238, ..., 0.61703706,\n",
       "          0.6175102 , 0.6061889 ],\n",
       "         [0.20286238, 0.20286238, 0.20286238, ..., 0.6328056 ,\n",
       "          0.6366769 , 0.6220455 ],\n",
       "         [0.20286238, 0.20286238, 0.20286238, ..., 0.6178491 ,\n",
       "          0.62724507, 0.62703466]],\n",
       " \n",
       "        [[0.22408438, 0.21814787, 0.20947862, ..., 0.2836764 ,\n",
       "          0.28541934, 0.2911384 ],\n",
       "         [0.22198212, 0.22167146, 0.22007966, ..., 0.28945482,\n",
       "          0.29126108, 0.2948419 ],\n",
       "         [0.2147758 , 0.21852446, 0.22341263, ..., 0.2908845 ,\n",
       "          0.28762984, 0.28751612],\n",
       "         ...,\n",
       "         [0.20286238, 0.20286238, 0.20286238, ..., 0.58307016,\n",
       "          0.5782596 , 0.56844807],\n",
       "         [0.20286238, 0.20286238, 0.20286238, ..., 0.5965743 ,\n",
       "          0.5928973 , 0.58279526],\n",
       "         [0.20286238, 0.20286238, 0.20286238, ..., 0.5861466 ,\n",
       "          0.5879946 , 0.58400977]],\n",
       " \n",
       "        ...,\n",
       " \n",
       "        [[0.22559404, 0.22267687, 0.21098828, ..., 0.18932426,\n",
       "          0.18955755, 0.18772852],\n",
       "         [0.22122717, 0.22091675, 0.21253157, ..., 0.18981898,\n",
       "          0.19011569, 0.1891675 ],\n",
       "         [0.21251118, 0.21097648, 0.20454216, ..., 0.18898392,\n",
       "          0.18874884, 0.18712533],\n",
       "         ...,\n",
       "         [0.20286238, 0.20286238, 0.20286238, ..., 0.01620233,\n",
       "          0.02271378, 0.02045035],\n",
       "         [0.20286238, 0.20286238, 0.20286238, ..., 0.03046095,\n",
       "          0.03055811, 0.0264945 ],\n",
       "         [0.20286238, 0.20286238, 0.20286238, ..., 0.05098093,\n",
       "          0.04377103, 0.03450263]],\n",
       " \n",
       "        [[0.23540676, 0.23475397, 0.22985876, ..., 0.17422783,\n",
       "          0.17446113, 0.17414176],\n",
       "         [0.24160719, 0.24054182, 0.23668575, ..., 0.17472255,\n",
       "          0.17652893, 0.17633557],\n",
       "         [0.23289132, 0.23286593, 0.23397994, ..., 0.17615199,\n",
       "          0.17818141, 0.17731273],\n",
       "         ...,\n",
       "         [0.20286238, 0.20286238, 0.20286238, ..., 0.00638962,\n",
       "          0.02120411, 0.02497911],\n",
       "         [0.20286238, 0.20286238, 0.20286238, ..., 0.02140319,\n",
       "          0.0275389 , 0.02800417],\n",
       "         [0.20286238, 0.20286238, 0.20286238, ..., 0.04343271,\n",
       "          0.03999698, 0.03299296]],\n",
       " \n",
       "        [[0.23163271, 0.23475397, 0.23514235, ..., 0.15988636,\n",
       "          0.1638937 , 0.16432917],\n",
       "         [0.24009752, 0.24054182, 0.23970509, ..., 0.15811658,\n",
       "          0.16445184, 0.1672777 ],\n",
       "         [0.2321366 , 0.23513055, 0.23473501, ..., 0.15803647,\n",
       "          0.16534948, 0.16976452],\n",
       "         ...,\n",
       "         [0.20286238, 0.20286238, 0.20286238, ..., 0.0154475 ,\n",
       "          0.02648783, 0.03328216],\n",
       "         [0.20286238, 0.20286238, 0.20286238, ..., 0.02668691,\n",
       "          0.02980328, 0.0317781 ],\n",
       "         [0.20286238, 0.20286238, 0.20286238, ..., 0.04267788,\n",
       "          0.04226136, 0.03752184]]], dtype=float32),\n",
       " array([[[ 0.21955562,  0.22645092,  0.23212302, ...,  0.16441536,\n",
       "           0.1616292 ,  0.15753579],\n",
       "         [ 0.22500145,  0.22921944,  0.2329117 , ...,  0.1664195 ,\n",
       "           0.16671622,  0.16350365],\n",
       "         [ 0.22383356,  0.22607255,  0.2294513 , ...,  0.17011344,\n",
       "           0.16912353,  0.16599047],\n",
       "         ...,\n",
       "         [ 0.20286238,  0.20286238,  0.20286238, ..., -0.00795197,\n",
       "          -0.00068563,  0.00459909],\n",
       "         [ 0.20286238,  0.20286238,  0.20286238, ...,  0.00932622,\n",
       "           0.01093292,  0.01064336],\n",
       "         [ 0.20286238,  0.20286238,  0.20286238, ...,  0.02682674,\n",
       "           0.02490056,  0.02016103]],\n",
       " \n",
       "        [[ 0.20521402,  0.21210945,  0.21778166, ...,  0.16366053,\n",
       "           0.16011953,  0.15602612],\n",
       "         [ 0.20990503,  0.21412337,  0.21857   , ...,  0.16792917,\n",
       "           0.16671622,  0.16350365],\n",
       "         [ 0.21100175,  0.21475053,  0.21812892, ...,  0.17313266,\n",
       "           0.17138803,  0.16900969],\n",
       "         ...,\n",
       "         [ 0.20286238,  0.20286238,  0.20286238, ...,  0.00865412,\n",
       "           0.01214623,  0.01365697],\n",
       "         [ 0.20286238,  0.20286238,  0.20286238, ...,  0.01989353,\n",
       "           0.0199908 ,  0.02045596],\n",
       "         [ 0.20286238,  0.20286238,  0.20286238, ...,  0.02984595,\n",
       "           0.02867472,  0.02619958]],\n",
       " \n",
       "        [[ 0.20219481,  0.2060709 ,  0.20947862, ...,  0.16441536,\n",
       "           0.16313887,  0.15980017],\n",
       "         [ 0.20990503,  0.2126137 ,  0.21253157, ...,  0.1709485 ,\n",
       "           0.16973555,  0.16652286],\n",
       "         [ 0.21704018,  0.21701479,  0.21586454, ...,  0.17539716,\n",
       "           0.17365241,  0.17051935],\n",
       "         ...,\n",
       "         [ 0.20286238,  0.20286238,  0.20286238, ...,  0.01846671,\n",
       "           0.01818478,  0.01592147],\n",
       "         [ 0.20286238,  0.20286238,  0.20286238, ...,  0.02593207,\n",
       "           0.02451956,  0.02045596],\n",
       "         [ 0.20286238,  0.20286238,  0.20286238, ...,  0.03437495,\n",
       "           0.03244877,  0.02921891]],\n",
       " \n",
       "        ...,\n",
       " \n",
       "        [[ 0.13652563,  0.14342105,  0.15664136, ...,  0.219517  ,\n",
       "           0.21748567,  0.21641159],\n",
       "         [ 0.1359328 ,  0.14317036,  0.15516543, ...,  0.20491529,\n",
       "           0.20219278,  0.20048976],\n",
       "         [ 0.14533246,  0.15134573,  0.16076279, ...,  0.18822908,\n",
       "           0.1857295 ,  0.18788016],\n",
       "         ...,\n",
       "         [ 0.20286238,  0.20286238,  0.20286238, ...,  0.10678041,\n",
       "           0.10045993,  0.10498977],\n",
       "         [ 0.20286238,  0.20286238,  0.20286238, ...,  0.0953753 ,\n",
       "           0.09245312,  0.09669256],\n",
       "         [ 0.20286238,  0.20286238,  0.20286238, ...,  0.09626997,\n",
       "           0.0920794 ,  0.09564281]],\n",
       " \n",
       "        [[ 0.1357708 ,  0.14115655,  0.15437686, ...,  0.2142334 ,\n",
       "           0.20918262,  0.206599  ],\n",
       "         [ 0.13517797,  0.14090586,  0.15290105, ...,  0.19585752,\n",
       "           0.1908704 ,  0.18841267],\n",
       "         [ 0.14306796,  0.14908135,  0.15849829, ...,  0.17917132,\n",
       "           0.17365241,  0.17353857],\n",
       "         ...,\n",
       "         [ 0.20286238,  0.20286238,  0.20286238, ...,  0.12187672,\n",
       "           0.11253703,  0.11253798],\n",
       "         [ 0.20286238,  0.20286238,  0.20286238, ...,  0.10292351,\n",
       "           0.09849191,  0.10122144],\n",
       "         [ 0.20286238,  0.20286238,  0.20286238, ...,  0.09777963,\n",
       "           0.09509861,  0.0979073 ]],\n",
       " \n",
       "        [[ 0.13501608,  0.13889205,  0.15060282, ...,  0.21272361,\n",
       "           0.20918262,  0.20961821],\n",
       "         [ 0.13744247,  0.14166069,  0.15290105, ...,  0.19661236,\n",
       "           0.1931349 ,  0.19596088],\n",
       "         [ 0.14608729,  0.15210056,  0.16151762, ...,  0.18294537,\n",
       "           0.18044579,  0.18410611],\n",
       "         ...,\n",
       "         [ 0.20286238,  0.20286238,  0.20286238, ...,  0.12565076,\n",
       "           0.12461412,  0.12159586],\n",
       "         [ 0.20286238,  0.20286238,  0.20286238, ...,  0.10669756,\n",
       "           0.10603988,  0.10876954],\n",
       "         [ 0.20286238,  0.20286238,  0.20286238, ...,  0.10155368,\n",
       "           0.10340166,  0.10545552]]], dtype=float32),\n",
       " 70,\n",
       " 150)"
      ]
     },
     "execution_count": 10,
     "metadata": {},
     "output_type": "execute_result"
    }
   ],
   "source": [
    "sst()"
   ]
  },
  {
   "cell_type": "code",
   "execution_count": 11,
>>>>>>> 66b2ba0cecdfdb641fce7940ebd7db23706b9d43
   "id": "dbc3b114-03e1-4321-9f80-1a51308152a8",
   "metadata": {},
   "outputs": [],
   "source": [
    "path = f'{prefix}/sstday_train.npy'\n",
    "X_train = np.load(path)"
   ]
  },
  {
   "cell_type": "code",
<<<<<<< HEAD
   "execution_count": 48,
   "id": "c392bd74-429a-4a5c-af4d-bea576114563",
   "metadata": {},
   "outputs": [
    {
     "data": {
      "text/plain": [
       "(1095, 70, 150)"
      ]
     },
     "execution_count": 48,
     "metadata": {},
     "output_type": "execute_result"
    }
   ],
   "source": [
    "X_train.shape"
   ]
  },
  {
   "cell_type": "code",
   "execution_count": 21,
=======
   "execution_count": 12,
>>>>>>> 66b2ba0cecdfdb641fce7940ebd7db23706b9d43
   "id": "7fb432a8-3ba4-4db7-957d-0945fe9e318c",
   "metadata": {},
   "outputs": [],
   "source": [
    "#X_train.shape[0], X_valid.shape[0], X_test.shape[0]"
   ]
  },
  {
   "cell_type": "code",
   "execution_count": 18,
   "id": "4af0392b-d2cb-4d11-a474-75d11cf2c5e5",
   "metadata": {},
   "outputs": [
    {
     "data": {
      "image/png": "iVBORw0KGgoAAAANSUhEUgAAAXAAAAC+CAYAAAAsjFRPAAAAOXRFWHRTb2Z0d2FyZQBNYXRwbG90bGliIHZlcnNpb24zLjUuMSwgaHR0cHM6Ly9tYXRwbG90bGliLm9yZy/YYfK9AAAACXBIWXMAAAsTAAALEwEAmpwYAACanUlEQVR4nO39ebgsSVYfCP6OuUfEXd59e+5ZmVkbVZW1s0OBACGJAjEUaqkFkuimW8ygmWm6JU33J4GkTz1Sj2aY0YzUmumelhgagQAJ9NEgQALEIrZqiQKqKKgiq5LKqsrKfXn5Xr7t3hsRbnbmj2PH7Ji5x3Lfy3xLEefLl3HDw93c3Nz9Z8d+ZyNmxkY2spGNbOT2E3ezO7CRjWxkIxu5NtkA+EY2spGN3KayAfCNbGQjG7lNZQPgG9nIRjZym8oGwDeykY1s5DaVDYBvZCMb2chtKtcF4ET0XiJ6lIgeI6LvfKU6tZGNbGQjG1ktdK1+4ETUAPgDAH8cwFMAfgvAn2PmR1657m1kIxvZyEYWyfVo4F8I4DFm/hQzzwD8CID3vTLd2shGNrKRjayS9jqOvQ/Ak+b7UwC+aNkB462TvLV7LxC1fmb5X/wW9yL5P8nfRPKF8kZQ/ET6oN65GJybNFvTee3WasPQudI5l7VPsS/yn/zM2j6X59Uvpl0iiv/iNTu5MuccQIBz8XcHuLifi1Owo7I5jt1jzv9C4OKTmcEhjr/eBy7HhAMjhFAP5EaOIOWjQ3CNM88T957Hxcf3n3PYn4p2uNg/tUEDbwvZP6m3rRB9Pvov1+o2Vhy77rmP3EZ93vr9L770210AI1jn3qV+kekUVRhT97fos8hLz/zuOWa+o273egB8aJh7l0NE3w7g2wFga+dufPHX/hBCvOrQeXAICSwEnASRXNvAEcln0wh4ORf3ITiXXwJyso1DBh1t04JP+j2BU0AIDD/vwGY/ck5eMufQjlqQIzRNUxzrOx8BMB/nmgbkKB0TugDvPYIP6GZz6Y8P6dx6Ljk2n280GaFpHMZbY7jWYWt7jKZx2N4dYzJpMB47bG01aBpga+LQOGAyzmDODPgAdB7oOuBwGuA9cPVqh64L2N+fo5sHzGcdurkHB4ZP/ZKxO9yfopt3CD7Ad37xU7CRpTKajHDsxC5c49LY6jNcPqflq+NcVhzI5ee82IfK7Rw4vVv6rOtvThUC5+Aob7eKiau2yXtGvf5xWALeej7TllWQQij7t+zY+hh73DLq1/bfnoeZo/JS9iFwfh/ztgEgr/qu7dn2F/UlK18RvxTbSN59e922j97L5z/923d+ZuharwfAnwLwGvP9fgDP1Dsx8/cA+B4AOH7mYQbkYQrM8Ya5NBPkByyCtSO4pkHTNsWD7AyQ63GOCMESQhFXm6bJL4lujB92uMk5A6pm0ONksUxC4N5Dx8WDEnQs0nd9QFwIcm5RjeWh8Hl/DvLdOXkRmBmB5cbKyyFg7fXS4kV1HpjPgXnH6DqOnwHdPCB4aZMDp5e+fii7eYf5dL70ujeyWpqmwfbupACTbu7ThKkAVz8/Q8DtqNrHZYVHJMDpc1A9sjX4c+AEHOno+BzrJGPFOepNMrUU700CUQAhTjDxOkPgHrguAu/63HpcPTEU1xb7v2yiSde8ZJd1jj+KyDvevxfXI9cD4L8F4I1E9FoATwP4ZgB/ftkBhKxxNgDQNOAIYFYjIOeSxu0aV2jbAHoPNoCe5qEyOCvqQ+AcHAKC+b6OhAi0qsFzCAhwICc3iAPDakX98zu4COL1Oa1GHwKDSAA7RC3Ze4fGM3xgoBOAdiTj1jSAj8ryfM6YzQW8pzMB7elUgKOb+wQiFry9D5gdztKksZFrl8n2BDt723FlFTWr+Cjos5qe34Ghdm3Uyiot2z4vFgfIEZhcAm4Koffs9Z41s/JVscoIBx7q2kIA6mvwKD9B4AA0jYBvqI6r+1K2nft3JBAf0P4XSb2CWQbgtfatfV/HKYQDIzi5R8E5UFqF9feTz8Xv4jUDODN3RPQdAP4tBI+/j5l/f+lBRL1ZH5E6aNom7lJSJLrksFJrIsDwkmdpVxzJixOfjFojSOdytZYyPJgcAjgYUnoNsS/n0IOrGnf6O04O3gcEL/t3HcM5eUlCIHgvgD+fM6bTAB8Y00OhceYzD99lAFfwttr37HC2oUxeAZnsTHD81C4AmRh7q7EIRPWzXVMesk3BPO9jwSIBZkMgXbU5Bzsz1G1oH2TjgI3HaLHraIw9rRsL3lOnsxilV6VUzvptc1gMjqtAHMAgzVFQK2ayG6JJ1jmX3WdIitWNYZ85BHAasHwOmUyWgzdwfRo4mPlnAPzMEY+pbpjr8X21xq2Ui/5dyzrgXQPvOsujRRrLIq0a6N9AcgRi0c4JQICCY5446mN851N/u7h8bBqHtm0wmchEFxigoA8noesg2npghCDA3nUB3suncNkhavGhAG/vA/y8E6C5BQ2WTdtgZ2+nABLLLdpt3gdcvXgVwXscO7WH7d1Jrz17X2vu8/BghisXLqeX3jnCeGuCdtRgejgraCX9rehXpPPGW6N8jjTWAbVmt+4yfYi3XgQWQ9cFyEo3cAnii8S2vQ6IC0DpFzG0B+bB93XoHMBi4A9OlBdgmMpZBqzLwNsCpMUQS39aGeTyrwHQ0+RAMq7r3pMhuS4AP7IYbbJ385YYJ4Fh4O41X78c3PegqH/vP+ixPyvAewjoyGjz5AgOrnjZ7M1mykZM+1AKAHcAgPl0DucIhzgAOYfx9hi7x8YIAQheaQ9KXiXyXeiV+SxgOvXouoDpYQcOjPmsSwBux8rPO+xf3l+5xLxZMhqPcMe9JzEaNxm4KU9+TUNRAwRms4DHH+1wcPUQ9zxwGvfcs23uQW7TUXyBzbgxAy+8cIDHLl4Fgky05ByOnz6G7d0JLpy7XAB4M2px7NQumsahUUNU4wpt1N5zHfd1hQMnQ5f0v89Lq6jhSzU3PT7bWgAOHi6udHvniu/kEAetbS2SRBEV9AvWAnE53lwTDay4Q9Tcg1l11Bz6AIjXIGuBW76HwgZUA/dKyuUVqKUgk6P0yQUGHNI9XIRNVm4sgKOczTPgub52cZ1E/+AMOjBzQycMZyz3a0wW1uhp2xtaEjdo4OEHuc5Vkh6i4DGfznF42ME1hPlc+j1tHZqGsLPTCgceGMGzALmvtOwIICFq4tnSHW5Z8AYitTOVSW08adE0FMEGaBoHimDeODHqbh3bAjmHyaRB2+Rlvbpelm0LyBDJRDiZiLbvvU/P6mjSomllBTSaZM1avYWayHPLZJKf5VfSCGafq0Uge5Q26m0WvNd5/q1Yj5dFmnjed+j4YerEiiOCR14VDRlCbycRmksmt4Qj0VOp3m+Z3HAAB4Zdl+Tv/l1UjxQAyeCpYgF0eAbtuxAu7dMRw5rIiQsfB0o8fn6JXbTUSj/bURO55y4dm/u53kN48dwlXHn5au4vEAFmhAdefwd2j7XoOgHwrgvoOo9uLp8C6AGhC9i/fID5LGuStyJtYmU+neH5J89hNBnh7tecwc7uWHj/gcl+NHJ48PVnwIGxu9vG38sVXI1PDgQmBhPh2LERXvfmu+A9Yx5dLAEBoWMntjGaSJsK7grYTWNdXClpxCGUWvEiWaSwcAiAsRtZ7T7tk7w7sNg/Onl49amYPC79dodk6Hl1jsBeNV1VZBjwa044EewX9R2Q10k0UzE11SC+lA9fon2/mmLZhjxu8X514hfnWhcnqNK1eB254QC+2ILtevv0tdn1L2xZ8El901WbzoDgeg+dPhzWAg4MW/JfLenmXZoArAQfMJt2GI1c1LQZ85mPLoMh+XqHxIH728pQGQIjTOfgwDIJdgFt69AYNiAb+IBJ66J2fvRzNQ1ha7tB8Jy8JWYz8dN0jcNo3PYDvyiDagbY6wMGBZZmWfDOEllHM70WTX6RsmFtBuoul347Qh8Cc3HNy0B5mWvjOkoRORJ65oiGyqPKEGWsKxU1FAcnVJHgS1gb624sgBMlwATUz9oVkWm1Zd7SK7UMLceAYfAul6AuadshBDRtIx4k5pwAqog5XWa6wmqvPLuL1wEA0+iK1+vvqzTbz6czPPP4OTSjDC6h8z1uT8fFD0wCt4ME7/HiMxcwmoxw+s7jOHV6O2nTgYHIlsRoU/nnCSBWg1HUtjlr4fUtIYraeiNg7r18Ag5NU3rs1AEvNkoWkOWwc4lOL89TPdOLANcjFNo+MyW+PfdZ2zKrz4r39QiiwTqHBuWkU/dpSKO1fPJy97oB7d5o4T2DvaFfHEfvGjI8twU/N8yHa79sP2tRxSt5bmaeJ7ZpFLtkMMXyNpeA/SqFbtXkWcekLJKbQqEAGbzrZfAyo2VP6x3goVef1/W+c+DC/S9rU30+s55oQhcKl0f1ob6RGm4IjCsXr96w890sCYFxcOUA0/1D7J3cSUYz+6RwQKauWJ8VkqVqfPkd0WAIdDSJyCciHcJIPvadM88pSi8Y1+TnVjyP1pus1wo2ScAlhq5A/cAf7YudLKyhOsc+VNe8gBdfpIDY7UNdd7rR2pQivSN97B+TtND4u3hlDAOXas0eCuzrGxrtdakR27Zp/fOtn/lQNKrt+1HF3rvarfCockMBnIgwmowzSA/4eg9Fm9UaBxCXTg4AXI5eiTLEpQ9FttnfevvHPjUx2EhcmfINVJ6bA2N+OJf2PSV3sY28ehIC49L5q5hPOxw7sY1TZ7YLN6zAHDVtRggE5zKIN/r7gAubCwCTBkQxGkexXaGm2rYBB3npurk8c7py851RPhylQCnvOa2GQhd6ofRWhrwoHBMoENC6IvAjhD4fvq4tRQ2WdfTjUQzZi3ZN233eQb0r1FDci1rW6w6i/BKRTLRV1GLh++76K3Abgr5I+hGgWQnsRXPHPmkfl4X4L5O6Txoen72jIra0rkeZ3VJGTKKcJyRtc1QYKoeOGQJYWd6GuKwyAx/KAVNaQ88jf1da+CCAZ88CNA6Yd3mNDsBFgyXmuK345M8WuXzhMi5fuAzgLE6d2e49I8ql1u+zvvSqiVshJ3QLkUYLRm2QASInXj0jJ7YFY5BKYh4DtT1Y4NZjmmYBgKEPQiEa7DhwpBZi4IeTPg1OBEVen9VL+bziXAxKy4BxmcKSfM8rEB/qh3LnHCkSNNFY3JQgDodiggAqf+/a22zAM0zplMCKBxHETSoCpa4WRX2uA+jWhbHntRYxxsdUGbrfUTzwbjAHPkyVLOK5C9cmu+xYx6MEJZ/exERTQwEguua2hhjbTgp+8cbQ6QPI0aBRcSM3VhY97yGIIVNAULTwRatVDRZzpMoBo2kACgR2ABPQtjEhVaN89HIuOC3Noc9y+ZIvM4jXbXPgRA3VkgApUijkHBCfz2txs7M8/xAoHaXJoxjkFrYxYAS0ovx5nS8l9yFvt99XSaadVo9jPU5DcSO1x4sLAYBLExRHQ85RQPymeKFYTXjID1W/6/72sxCfvUhcCDkPhNlXswi2o5wQqzFauRV1K8r0SEgGwE2I+a0rajwcEuXAVYRf1b9LLdzFpTsx0LaUDKEupikA4uR+2KFr+4mg6u+q2RXcqyspw8IjKsbqFhn7nE5ElFYVqoio8RSI+mOIK04f8nU15fuzDBcWZdaz3Pc62FcDZvHbCjDWfqziwvVeWeAG8uQ3vDKp7pH5mieZrIkH0w45KtxplhlN7XgpcNdBhgCAVnCLo42AyPqGrzfJ3DQjJoCeRrwoiGex62F58yyHZTV7pWHU31Kj0epmp/M5QvSVtrO1Zo7byO0rqoUTxdDlI0QKqshzxMVzq2K166NqvTXYOEeJJ61lUdvOUeHRMaRtDmnCkqZh/dVtvz/LPb5W+Z4Xx5lJ6dV2y13nMm3W1HXHpWfH4P4zUfiGM/fCT+wzect6oagHig2EkO1DD165LWdc04Q4DhwHuUE5MbSjnKPbEXqhztp+8AGXzl/BwdVD2VYtYzfa960pAlZIUZgAektVFdFy4t/IfKdH9s7gZLQy5yAxhJJTozqhHZVRc94LiPvId2uahlUvvtWUA7MYLGG4Xmh/OC2x07EDz3EDV2rMSaHJ+yw0IlaykA9fw0g/lDxrmL4sV9t9d8xhEa12NXVRHlNew1Bmx7BCE7fnWHbeWvNeFBme2nX5HpcrtOX0000JpUdjZtrekrIcQCtpGWgGVXYrl2zJyq4zOlEB3ja5PgCwz6HmG6C+/aR+0W3ys1pK7Se/uOuEc6skw3oC/TgBhOXa0lpt114SiyiE9L7kSafWwq3fs26z7a3iWlflAF90/KLsibbf9bXZiWXd+2D7sUiGfso5Rtbj569FEy/S0ia6JSQPuUXug7e2EZNLY4wF2N6M3SzOnKa5dDlyRn3XoNyuauBN4wrt++BwipdfumxmTC7Cyzdye4is5Er/4hCAhqjYVgbvCC9OlF9wR8Pady21Rql8q3pFkMsh5YkDZ6P2F20NgV80ulcLa32GLRhmzVUvnJJSQ0Sg5uhRhQk8jDcXEQ2G6NdUiVxT+XsN3Ito0iHNu2ej4lyAJPiYeTPSm0MuhHpv6xVD6RufszQeVYaSZdXpPfK+ofhMQB44JrZzPSO10k/LZCWAE9H3Afh6AC8w89vittMAfhTAQwAeB/BnmfnCqraGxGYfs1wZIK5HQ7ORCznfsQY4ALVnywAHbh4S7wMOrxzc0kmcNrJapCTf4t/7IcwZ7C2oq7Kw7HFwRAgxj4Xuu27o9ZDr7GD7vEirzc90TZ1oW96AbPbt7velLtqgKFFXvoHJObL82voaN1BSJrW2XfdzmSF6SGz2TmA5dbJIMoVxNE+Zo4TbH2UCtfYIXdW9Ehz49wP4HwD8M7PtOwH8EjN/NxF9Z/z+19fpZAJWKmkTBe8iaKeekXTgGp1xYwSXGSO93rrO3NUrh5hPs8vfRtv+7JDLL1/FZz7lsL07wV1376Bt+xkHAfS2KZWSAIsouRZzDJTh6vsiWqbQhNUzigiORNHQ6MTSwL6ggEjlPZLOUWngyv0v1OJDGXxSu8gW+5praIzWHgCzmjDeMgPJ5azyNaR1kyu3DY1dr/qQca+02ndaKVka1Gq7Fded/14fTFN+JEvbWspswC10sJ0FLqFa3lGDluC9jPGArWOZQXclgDPzrxHRQ9Xm9wH4yvj3DwD4FawD4EMvlss3rQ7aGVpmpQexkWCJDObcm/Gt8XP/8gH2L+2v7OJGbi/Zv7SP/Uv7OHH2BO68aye+VPl3q2XXosAcv6VjLXADw1psLcmP3PDQKpmPLjXsdbjOGiCJCE07rC2SQ+kPbbV0c0gNCOU7BxR5tyNQeV9SRXXfhtrVbTV41+dbBNxWLHgryC3K8y3bFlAZNsiP+j7XiUHiDOLF9Zh92ZsskEs0bRlDh1BV/gkQTly93jjENAlNeewyuVYO/C5mfhYAmPlZIrpzSedTVfqdvXulsswop12t03EOPZzFLJ2WGPb3vsdK00j488HVqYQ1zzfGyc9GOXZiFyfO7mH32ASjUS7ssAh8h1bK+u5pRoZaA0/7BaT6pMBiyoWcBJYwU0H3ATm7YA0O/ejgsr2CAlRFZUCTT4A75IURyqLFJa1TXUPVjmqStl/KvgwpWrUsqpe5DnhbSSl6B4KM7P1YlCepSCtsGAA9XmV2MEPXeYzGbcwB3y8YTSk2ID5n6hEXQj8sPyAlwhtKtqf8uXrTBceSOsEvn+hfdSMmm6r0p+9+B48mIzSjJoF3AvMI3G38tCXU0gNcPTyNJ2Pt7c/m3gdcPHcZs8Pphuv+LJWTdxzHW956KrkRJvcylu/ODd93fYcyl5p/s+1YWcVnOiIwIYa+Z08VF7jI6W1BRo7LbQwBWeFRZaiTZCRUMDSZ+taVIbCt84xIXzidyyaEWuRhUl9D3b4cT8PXW73nKuo2yCGDd02LDIF4EYxT9GOYu+fAOLh6iOn+IXZPHMNoMor2tLhfrd2HEsTJNcmlmSlHYBKiq3PTDGdSZAYF8YgjZ/KD82J+/loB/Hkiuidq3/cAeGGdg4jEhU8jHZ3RutWIkagUs4QDkNwA9YJdYBwcdkVlmfqhn808vPd/qMF7sj3BiTN7cTK79FkX+u8coW1kcpfUODkRUnz8ASwHX30frR85DyyLA/cBQyWDBJI3iNAZQB2p4QbaWATcus36SK8TeFQs9Q1na88x5LZnXTAL+iNSM5qkq7ieBV4jKqNxi/GkLQyVZYGN1eC97DpXgbhe47BGXraj1xdilapu3mE+nYsXWyxvp77isrrSzqKk79KYllHi+eLK56ue7BLVEvPfLJJrBfCfAvCtAL47fv7kOgeRk+oxkozfoWkdXBP9tBtnfLWReCV98HQJCQinOZ16XDh3ucdr1w9u8H+4qZOz957Ce77kDA5nwK//SsCFF16+2V16RUVXZjYRlSZCgmdblx3AYiC3WnfWiOoIOv3MrquJM4W47SHaZfQNTrYaI4H6fViURmLIS6MG+/TyO6FoJPe5GhohyaFQep/Y44b86NEghu6XPMDVi/sp2K049xI5fnoPk629pXz3MnNAHaUagKW5T4CcMKzwe+e8X03/iBGbcen8Fcxn8wT20/1DzA5n2N7dwomze/K86WjEiSJ0PmUrdU3l+02y+nK1q2GDwQhvpVG8D3DqfroEwtZxI/wXEIPlWSJ6CsB/CwHuf0lE3wbgCQD/8ap2AHmFmqa0pit4a51DHXhNPuQ9o5ur4VI9SyAlwxZUqNmI1GscTUY4dnwLezsBo9Zh9/g2poczAOVLoVrG7S6qeQkHHim1sFqTG8L0Rdr2UDIqK1YT1xdQU87qS70omf8iA/46kYm6n04uRX5r5a/X5JlVNN8IB5mEfMywuCrYTUsLLuxnzZmv6E69uuFg6rvqpFobG1npkdI7xe7nq/1C53vVqkJgIPhUN1VXQcyMrkNROKW4vp4XkF6s/M8WLO75uwcuElxdFwfOzH9uwU9fverYWsgRRuMW7Shq4I6Sxt220ZgZO9t14t/70ouXcfHc5Xh81gY4BEz3p0ftwh8aeeCN9+Btb93DzgSYtB3ahvFFX3ga0/lpdJ0YpziIwvj8cwf4g9978rNqMoy07VJhNlz4AOdt9wMq8DZaLyBKN+vs4STfCjeqlVGp2S9w6Sv7bwz3R9BaA3K/VBuX64vXYrnt2nA5ROMAmE07XHjxMubT+Ur326ZtcOquk5hsmeLP4zZrxEuuYZFrpXLvej2HBx7nn79YaLpD0qMlVriBMvPCalVOnS4i3et9wMGVqziMq5EQAiZbY+zsbct3Y3tRzVz/lnzywDzil3DsEeiZhXKBrBiaxiVXziG54aH0NXiLRk7JeJkc2Vm07+nh/A9FtZnrFa1wpHLi5AT3n+2SBkIM3HlCzCKdJ3Re+FkfCPP5BE3brKSbFtkShoDoZtgdAi+Pokz7DXiY1O2orGrPvvx1EFpNq+jw1vnAB9sd8NJYR3POq5AM5KUL46Lz1cFB5e/z6RyzQwGcZROPaxy2tsfY2R332k9/r0Gb9Pqn4xDTrc4OZ4Oc9lHkWp9RXV3NZ3NMD7IS2Y4ynBa2BDMxqXYOwLxvo176B47GkyG6zcoNBXDnCJNJW9AlTUNwjWjeynUD4kUArF42bgTY2tnCW979GuzttclQdfaUQ+NEW2KOS8nIEwciNJofG4zTJxu84wsfRNfFyvVBV0Acl6rAxQtXcf7Z833XLUc4e+8ZnDyzm7TYq1emePGpczcsrww5YP+A8ZnHr4AccO+9u9jZdjnlaDRoMqstpXQTzC+afFdXP68jVGnMmmfcSg30IRriOTBcq6HaoTjfSkpkTYSr90urAWRuXgz/q4+3Rj21P22hxV2vOdPjbIf8sB0Bk63RYN97UbFcgviQMXKorzt7E9z94B2DwTtKacjxJnqV+pPU5Zf3cfHcxaEh6cn0cIYLygRECmV2MCv2mU/nuPzycmVT+6zOFTkflIv37WiT0o2vyNM6tCM1WGbgbtu8tGJmNJ6ia+AGwFfJeHuMN752jHtOzYZ3UI0HDBDQqVcCAUzAiV3GsYdG8AHovCiM0xnQeYb3QNdJiO+F51/GUIXeU3ccw3337YBZAj7Onx/hpWfP39DEYIeHAU9/6gWQI5w5u42dbeU2+yC+SiyQS+SvUCIYoD6Ub1cjaaZHpJybgmdMYBz/XkMDX1Nx6bnGVdSOM0Dey1taHTcE3uruu7Xd9igOSy1l33lemAp3SGoQX9g/06ednRF2o4Zvg7GElw5polH7Wtu6dC12WJl5bQCfT+cr7UTXY5PLPH+OctU+Xlck5ispRMB4nD1PmiYaaKh8KZiBly9McfXKDAdXNzw3IONz94N34o6794qXhANje3eE7QlD8putfnkiTSveCsmTQVyVfZBP0TBjFkeKlMzr7+49UOQIJ05MMGo1h3WZROrVlssv7+Pxz2xh/+oM3nu0rk3XozLkWqhauPR1+AXxyBnjKMhkB/SNorWWHpLbno30jPTGmgVs1wU1oHY9tL2SlYC63S469xBw2+eiOJfLxrXBPlFMIXAN7ER9zLJ+2dWQjrMGOS1za2QGLl+e4nB/jisXD47eyVdInJP6wK5xUmaS6gnW9VYMQ3LDAXw0Uo8Tedg0MZDl5roOeP6Zi7jw/IU/1D7cVsg5vOnhM3j3G2boQoPOx2U+i1tT28jMvwjENaSchUkBE0eDseSUkc+cV3vcAj4CetsQzp4Z4eyZk+le1f66HF8gdFLRaKiw9KshL7/4Mi6+dAkcxG9X8r6X4AOUIA4S7r9pSt/dWjuvMxwyU5GAvzBMJn9CTiCubSjVSY4WVUW7JslgVn6XbToGcl+V0pF+Vx4TQAJI/Vt5+pqvX/Q62glLvGB4reNW/SZR2jYSNW/nkEPZmwYpUpSXzH4hMC68eOWmY0szarG1u1XkfrJGbmryRHXLaOCIoE3pUzo2nTEOD326kfOZx+xwvgHvSkRzZjhiNE7sBA2UfyQgct2M+qUzFMoKaZz6ROdzqlu1flcNXsUHdcmSF340ctg7fQyTwwn2L+2/qt4t6uaVvvuAiy9PEXiM3Z0G2xNKvuAK4oh9jVfUi9ZUQM8GygwQFPI28ZUWINexrUmjIsJzADivRWrgLrflyYvZ/jYM2rYd/d40tHb/bBpXe6013WLmt56o4XUoIG9I7Gog5yNZ/mx7zzg8mMF7vqHYYl0q7Zi2o3apMRhYDd7AjdbAQWhbSlo3INrcuXMzPPbIswhd5n3m0wV87h9iCYHRBYfAhM67Hqcr91o0cvubrs6YSq00HyPauHgvcAxBF02cWQAayC9f4fpFAHkB/o5E2zx1ssXDb78TV/c9/uAjz8bq8TdG5tMZPvnIM2hGDd7yrvtx7O4RGmSg9SnMXLVRmeCKd6lSk5MLHlMPrPRz3iGlc1C3r6TZGyMfEOkr45Vgtd9ayhB/A4gDUZVElbcHSiC3bpM2OK6mSRz1QZSZC994aStz30NSB9UNyRCG2VwtiRYZuD6Y60vg7yhNzsnIGrnx5566gIMrBwtdBV9pcY6wvbuFZgCslwGz9dfXMpCL5IYCODNjOmUQcaGBHx50mO5PN9VwBsQ5wmRnSwJzRhlU9Z1hNi9JBGDf+40RSANLeGFgriNJNieAz5lqcNHYFPdLdrL4qdx5KkTLwPaWAzMw2RljPt3CfDa/Ifc3BMb0YIpm3iB4ec6UNgoua97WbcsqE0OSkhhBjexZI1dQd0RFPm6VId/jdQ13QEnxAH2qQ/ZZobFaKslZEC9tGWkcFoB3/j4M3kt9st2wj/crKfVEUkRhBl7LEHk9Urvyuhh+344WE2d1IjJrY5J7cgtp4Af7czzyu88CKB+e6abi+0IZb03weV/6IO462+DEbkBggg+EEChmxqMqHzpBszNmhwQyoJ/H3dIkOaNj+cA4x3nS4Oq3dB4BeU342DixY+zuOLzlbXdiOg345KMv4qVnz78CI7K+uIbQNjD9z8t1ACCmZJi070nvnYnvn80J7n2mJkKglIyfmcED71yNXdoXTjPjMo0s9WzhPqqdLqIq5H3TfpZUyyK6xGrdyWhuvE2AxZp16tcK4F70E2tglVJ6IfY5cLHqrD1ghs6lqWhfbRlvTbB7Yqfn99338S77UrhxOlcm+VpRleeGArjv/NpuOxsR/mw0GeHOMw3uOzM3S2FKQSt18EoAgEgJUBWFt0wU2KgKHHCgqHkiGcFqUcBT/txHoxI54NQJh3nn8JSJzHu1pWkbtKMWjaOiT0oj6We9Eqm5/brQMWIoN4AU4cjReGeNlevKKk1cNbJVMqSk2Ymq2F65QC47p4K3UhRDwL3s2bJU0SshNpdLXYlnmfggJdheTXFOyjdu7UT3xuTvHV0aTcSvFeqtgvq+68vkplWl38hy2Tu1h4fffS+O7zU4tRcgVQlF+/ZG8w6h1Iwbx70Xs9bK7DOkNIuAdP8hJ2I41fwWPEvKm+sORECHTLkImF+70e4oMtme4A1vuw8nToxx9nSDtrHh8uUnsQFnlBRKoanrdl9yyrVQ5I4lUk9BT2YMG1yjfRgakpq+sJGe6diAgjNXDyPb9pAMBWHpARRtIDBarPdZ8w4+mOdnsTYJ5Htt3RYXaezLePJAlGuNUm6nLqCwbJKYTTtcPH8V89mrl+/n2IldbB3bEqUhepVoBGUq1KC0V6zlC5QBXSmYx3jcAKsNuhsAv0VlZ28Lb35tgxM7XXILDLFIQKmB0yCgFEUuiMHVut5+T88/a4TmqvaqHwMBpC+VAo491+oH8ZWS0bjFQw9s485TsYKLnVjYulHGCaZZDKbLPCfqnNm930n56gjiQJrR6mrxQ1JrmirWeOrc4iCPOuDGeosMHTO0v/ecgHuInihpgbydok3A+jVnjb2aRIIBuVo7NXSV0nVDZRSL9qicfLu5f9XTKE92JjhxalfiM6Ijhk6wIQDU5KjcRcU9AMSAozL3+yrZAPhtILVbYNpu6JP+p/CzojH2wTsMHCsSDWOD2mF/myOhE5jVuFaCiiOhVh563QmcOLWNF5+9hBeeOrf0eq9H5rMOn358H+cujHH3HS1O7BoNzmiqWaPrX6v9rRaZNLVoRNYIh/KrKO8sE6hMbvpCl/uh0rpyW9ZFzkYcLgLhYDXaYhLl3t9FkJE5T7omH1JFnmX1O4f4ZUnKVH6Xdsr+Sz3I/JsVj5AmAq9KgOfByUQ1ed3v8GCOg6tTzA7n0KyAuyeOoR01Pfpl2SpikTZsx1NpEz1O86/3shE6mApNWXJqEVOdbM0winXSyb4GUtD4bsjU8T3M/I/oFaxMv5FhqbVYNUTWHgEw2wITHDhGVEYjW7WvD33tXZfhoo1ycjlcpgQozy4uiAzi7N2hx7kY9POmhwjutRN86GOnce6Zl141P9zpwRQf/53H0YxafMGXvx4ndp1EBiKnDgix73ZcaiOmbkvjE0rw9kYTzkZSo+U6ShGaYtyUEzTNMJVRu/LpsYvoGp0Q7KoHyGCkWrSVfnm5/Lv32aPEat02LN32z56vV7kofvfg3koltaerEb+E6w/i2aOauJ0w6nPafRiM/cuHxXM2moxw6o49bO+Ok7YffNaYa9EKYa7JhdaHvHOKlUWIhY7juFj6KxmRiQtb0hBwa7I/aXewe0nW0cA7AP81M3+IiPYAfJCIfgHAf4ZrrEy/kcWyc3wHJ8/s4fQdx9A2XIH4sHbVA/RXmK2w9EnpA7746bKuhgLyvHJCeKUkBAkdryfARTJszDPAvhRE6+OoCJgKFSADWvm9mjScGp7zSx8MF1AH49jzLZJVAS41oBfGywo0i9JpZrKZTjscHszWMlaKUTT6Qq0ZqeuqiQ1AKsVYNi62hxDpm3bUYOvYdupXO2pTPQG9LiYB6qExytdqNPFqqDW/TC8Jl8vBY1Ybr9vWfW2pPK0NrNdb205qWScf+LMAtIDxZSL6GID7cK2V6TeyVO554Cy+9AuOYTxiTNpQaMkBYrzMGl92IbSadGBCYzhDC7R9OkX5WtW4hx+Wo4CvWM9vHGAvEx2PdaT2b18n+ZV6aBABTQSFwq2zPIMcU2uPVepYIHoExQhXx+qBEX8L/SW9tEM5qtHnyQKIPHKqzGP7b7XIPq2gQNLGPNh1ANCVS1O88NRLa3ubrBttuUxEyTlWtNG0LmnzwTG2dycFtaHXUEbDAgiU3D9rSRWQSNN9VNRX4ATidT3SdK905/iHnsv6ektyv35Vsnxxi8fqSBw4ET0E4N0APoA1K9OTqUq/tXvPUU73h0q2drYw3h7j+IkJjm0FtE0ogIcLukO1NBSfVgS4IkddHTckNYWg4EvU92oZkkxJZM45B4as18YrKcySnuHygXiijOOT/mowN7V2vCr4wib7H8rbAiDnbuFocHWUvC/sy20jFBNtFakiIIOOTAL5+HWyluaqWejlI9HztSNxdU3UTeBXLWhrVaWfsu9AUxHJQ4m4lOLpB9GUx6wri4zbhW+4Ae9clzRPEjbIcZWb5NoATkTHAPwvAP4KM19adyDZVKU/cfatrw7xeZuLc4Q3vO0+vPmNW9jdYozaaDE3wBvip4/Gs1CBuD6TDZQrF8u32E7690psQ5xQVr1PmqR15O9DXixlW3FfKieJGrh1UrkR4juPxx55Dk8+PsaDrz+DNzyY/dC1H9YIXD/Og54nhF7EpVItyxiBPnfa305Uei5o39TxzfucuEnFJpxK7oukGnN5XeoLHRgInpNhNQThjG1fHQGIS3tt26aAtplE77p7B6fP3J+uZT4PeOyR516V9Ak7ezvYO7mTiqEPpdJdVsEo7afVgXT1Eet/knlPFlEnhSETnDNMOuPrbTTxQuMeCMisaZPajXAVH7oWgBPRCALeP8zMPx43X1Nl+o2UokEnp06Nce/peXIZHPI8EdAZdhu0++iKK+1H5e/WOAfYiMoMxjWgrQJxu5+V5ELNy1cAr4ZcvnAZly8AZ+7cA7B+INGQvzw5pExVFD3BVPOWsVpvdSPfSw7calzyXQ2KkRIBL0zclPKFROCqC02oMFMq9KwavU+pBnKB5sBG847g4pqYw4jqFNCSXXR3N89eh4cD/PQ1Su1GNxq3iRaxY2CTPg2B95ASXU/QQ6umOshmnSRbqfqR0xWJ1bj7x0jkdGn/OIqs44VCAP5nAB9j5n9gfvopXENl+o1kGU1GeNcXvxb33DXC2RMBbZzCA8eUsDGKkAlwrF4Uwy5k9iGtgbs2clrOm5S/rTTwWhaBbwIhs816d2gAXOej/7rnG55lcpk3BxDHhzH4ouc25FPZkpQf5jqy5qYXu3fekpKhasZVzVvqyIq3kaZoXlSuTVIiELzL2rdrmmhkKwdHK2WJh4S0K0noyj7Lkl/Of3U/4MknLuPg6hT7l68/z3Y7anH6rpPFZDDeGqXSiz1/8srYao2fQ94jYhzM2SOXBRglGqpKL5y2hzwbB+2H9m+NuaymTtbx/1ZZRwN/D4D/BMBHiOjDcdvfwDVWpt9IlnbU4rWvGeFNd19GFxw6dgkoE4iTuphxBF0tssDwR9Roe37KBCBq3TV1Uh6Xz6PPuX3GnDmOOWdDJEKKGPXR+Krh0DcaxG2wjn2fxTMC0YNh+Nia07RVfnhIc6tWOLrL0LaeZwMPAXq2MSj/DMBo3ZrbfFgDVy1QxpwShaRFKnol2RwlwHYRWNomn7PeV3LfMJ5/8iUcXHlliiS0oxZ7J3ewtd0Olk6r0zoMecjkZF9l22oEZhOzwAtcjfIzU46R2BH62ot6jdTFM9ZZBUi7NS002K0k63ihvB+L14dHrky/kVKoAkLxEwUaYjBFLxPN58GUXmQ9tk+HrD6XGid1W/0dKA2fQw+apWrKc8jOjqnINcIRxE+dGuGht9yPKxcP8NJzF25IErPz567gDz7ZYnd3hLvuaAbHaFlUJbAY3HvGR0Nd2sluETDX57CGaUkmFblq7oO+UhoK3jKxU+88TJClkFPNXkBccrfYrIxyYGovAvh8znjh+QPM5r5HNShQHlydXVe0487xnVTRHRAAH43FaGkDnxQrVxn3bNbGFN4eb0j2f3eGB3dFu0Or3D6Ic2y3GpOGllWvS+cZUs5tvpd1ZBOJeQsIQZaxBIazGfLAkRMXz+LGBNjUc6p9toiqiaH4jXtAbmkQBWBvQuJrLxarbSOmna37gHgtlk4JAThz0uHY7nE88+wWLrx48YYA+LmnX8L5Z8/jzgfuxMkTZzEZ91cjFjyt1EbY4reU42SY32yqv3WSqCeDUIG2/C31SDXiM58zc96Zj44aeAStrIXaiUkr8lBheJXTGVokLuMblzX8g4OAJx57AfuX9/sXaa/jOlZVx47v4J7XnBz8bRWg2fPW/tY2SEr97xGzMtq6pbla0WpDexFdiX6B63UkOR+Y6Fp7PXqOVW6sGwC/CTLZnuDuB85i78QWjm33Vb+SxiA0CGAidKHkrx2iwQQlPUCRYhkyRKoMgbeVpOmQBiIM0yu1SD3EYVrBOVF02gbY3W1xx72ncbg/w6Xzl1/VXBWAvBTT/SleODfH9pbD3rEGowVPv/VMqV+gQZAf8OMuzr3kLRwymAbDt2tiLDUuKu+sxq98vymtpmyfanGUw81rv3AFbz3vdMq4ut/h6pU5urm/btprNBnh2IlduCb7Y4snDGNnbyuB7RDVNFjfsgqMAoD9/Q7Twy5ejxRRP7Y3NiHuMMdQioxNgEo0SM+oNm8nk6GJZdmEb6V26bRug/2EZovb2QD4TZC908fw3j+6hzt2DuBoBqLo7xu1WWeDb6L3RwCjdQRmB3YS4RdYXm4qlteZChmiR+rvDdUPq36mJxpQA1jSFqIGwpKpMBCnYhGIk0eIhjiZaAhtozy7HHvHaYfjn3sWFy97fPgDM1y5+OpXSbl47iI++lsH2D2+g7e+624cP1aiXHbJVFSVj2U5P4b8uOuXWN04PbiiSRa/4QqwHFdklq5qnHqICIiM2qx558kkTw5Kv6hveXq0Ko7Ygr8jwuXLc3z8d59CN+9ekSo2eyeP4c1vvwvjMcnqghnzrkz1GvKCLlNFWh/SDGyIqwk2Gqz3jIsXDnDu6ZfyOU8dw/bOWYybPIi6glGp2wBQ5D/XY2yumiGxvvi1FI4EMb2Cph+ui18XbV4vB76RV16axmF75LHTHmLObU9jTQCLXN9S6A37T8DTkXni0/EZrJdJraSp5g6U0YvZiLpcE7ecvIJ4Q4ipNYVrlQILlDRxHxocP30Mrm1MOwPaVuQqD64cXLO2rtV6RuN2JYdaHBfDs9eRNXdbeP6cwRDJ8FimuSWjKa8GDKvhD+UQ6Z0/afeSt2Q+nV/zeE+2J2iMF8n2sQkmE4fxiDDvZHIiYnCbgXzI53pRkWpAfK7VSCu0EqE1SyuJaiw9UZqmas8Nxygo7TckQyuCZa6Aml5BV1JsaBJ15xySDYVyCwtDw+IHlmKGF1cQb519oF2x3LoWH+uAslixpV0KzTyQFDZW31bDhasWn45HfhgbMNjl6wxMCA3Bj7JxdHeLcPw9Z5N2D2jwkNWI5e/9Q+C3PvBcoWFdq+gLX6RBHaBMgAwgdWWVdUWPycFDlu9EMhYCwKgl6IwcmNG2lI4ZojpU1GXT3jZrvygzKOrv1bU4SiHhzboz0QJxjnDf6+7E3ffspm1tSxiPdCxRGLkdUXoYOXHLFD/7wJg045hvnVn2v+uePZy5Y9fw01JkW90htR/1GOoY1yuDwGVFoWVadq3Z2+eF4mpBgt0YaLJzAJFbCdSLZAPgN1A0aGc0boucIxyr3gwF76hnChC1bmIEklwnHrleZS6qsFrq/CgAiv7YSSOdlwXErQbe59hRADmA5EnD8RzsCC7E0mNMQMPYHpftuXidCvyAeLBcnTbYPbaFixMJynEL1JYwoDbZl7AZtWmFEhaEPudxydqarCzWBzZ7P4bOoWCRU/9mKiRE6kX+ZnAg+ERvad/6XDdz/+8avG06Wf2ewIykr13IdMK60phVlGscdnbHOHE8e/3U0a96LawUoAKaK3+v/eWZLf1T8vhbWw10JujNT8nPOnvt2KpLQWvGxjqwAABfpuhdJEUg1sDfgfuZGS3NtS53XssGwG+g3PPQnXjPl5zG8Z2AvfFlAe7o+z2kQbvqU7xQOAb8ODTM6OKv+q5Zt7+hB8H6Q6so8AJIwKufjVleEvcnmTLTIKOhUHHr/UARvdbaj52XPMzcCI/+pV90EvvvOonG9blbvb7Oy3FdJ2lfu44xm+uLLkvXk8ddpHAgnj2cPRCoR2n1+zUk9oXU/RPoNzDGMdHGzp+f4vlnLqX9jx3fxlsf3sPuVm7Dh+xD33lp3/s+ENb8vQWKWuvOng/AdBrw3DOXMZt5PPDQSZw40eCFF2Z48TkJyglr1onbOb6DB95wF8Zjl1YVJ06M88qAcp97hRsM32+vQftYG/bUIK40k2jfdixKULfnkWNLrx0AQKyd6kMeO1mNUK/PtU3EVX0D0KNEKJXiM7RW1Mj1AbbZIOX31UrZBsBvoJw+u4N33fciJjTFYdhCiOBbK2cKnkDJN0vUpObdltCDlPQqPiAe0bBoXpp1hcA98NRtRAIktaafOHlwomCEWuFEA1n3RJsqwOZ4sTK0EmEmjFzAa++YwgFonEdLIbYf0jEMwjw0COxw6Fv44DDtGsw6F8FdAGbW5bHRepkCsmVty4KTHTB81b/l2od5fFQsLcEE7O/P8fwTL6ZtsztPwr1tD9uTkK45sACRD5T6PCfpo+Z1V7Ecdz2J11q3StcFnH/+Ig73p7jz7mM4dbLF5UtTPPPp5+tbsFQmW2Pcc882tiYKRv1JphYXgVjHu35eF9kekqtj06ejYkvJw0O3O5eB35EYgokq4I/pC5iAxngCMXMCYD0/IKCcVg92e7Vqk9/y+Fv+3kpNswRHKavkItkA+A2WwA6BGqlvyS5r4Mha+DJ3PQfEcmBiJIxsuPEdl2WgBfFaUrCNtmkoD/0eG4t9licxaeNF0p9+Xx0AR/IGNAbIdTLQvmdnj3zti8BbI0bTpFBNEmliYIIjB4LHSHnlhiQiNLYXlNbRlQUJGIaAmK4gXn7tnWG75sptCUeUj+1dRbk/EdBGyuH0XafwhrfcieN7De44EbA99gV15JnQeULbyCcQAclnbdyHTJPY/qjGff78DPtXZ6XPdGCpFTnrwMx44bkr2N+f4+VzVxb0vi97p/Zwx70nsbM7Rtv2VyF6rfVE5mGMj9HIrcZbBbg8Vjn3Sk2nZBsQCkDXtMtABulldUQBud/ZQycnoko2idDXrHV73X6dTTCnAK74+0o4UmYIVLzXi2QD4DdQpACxM8CNWGHHJU20idyvBdRashYeX1SSWpaBCTkRWgZxK6W/eKlx1/y1io0KjacrtXCjudvJQYBWCjI3BnAdhQTKANJKRDTy5U+sWvNtWy5CM1Hm7gM5BA4RUAmhlYLQAMCO0/jXlBNzCdyZ189jZD9rflfbsWKPEe1P/h6P5UR33HsCX/HuObaag0Qr6aTumeCDQxccpo2LAO4Ko29nnERqjls+GS8+d6nQ9ofkucefP3KagxNnjuFNbzqeQHKll0sat5jwKWQ6hDn/DViNtjTclu6Smc5QHrsP5quvI9kdKBr3G5kctTLOshJny645JKUs7su5RmqqSlRQYaLte8iLvKq02gbAb4KI0TJr3ZZGsJ4htfSiNZUbZB7UXIFSIxrSJOuAn8SB182xSZ05pL6suF5Uk4LNbpgmDAIW1FROx/TaZsr5SDjvJ4V1AxoQWhdibhnxoxfjryZ3AoIvtUSXzpdBdxGQqzRxWM5fZFzdDzh2zOHEMSr2V+BuGxnLO++Y4HPe+SDuu28HLe3HyU6eC6TxcUDsf0Pi1aN9d7E/V/cDLl2aV/y2cuHie364P1tyh7IMgXc7arF3SgooXH75CubTOY6fOY5jx7dx+uwORq2Z1BsAHilviz4qQ9GKxAR2DB9KDlzphlrzttGh9fg7ULIzJFsGlWA+lNY3UU4OxQpG7BaZ465XEXo8YLTmAUkRuJT7ZMFcxjy3V+eWXyUbAL+BwiwJqBp24lIXNfEyl0KEMwICNECm4pDlWRVNO0iUJkJ+YdRjRB+EvCQ1NEnVt6R9R83cFb/lYCLHBK0ExNynPDhaBAOkHwxZIgcQGkNzKE9urrgE47p/C9LssgJeta+jIG6XIV+sj2jaRGAUbjme12hfKuqJkHlTC+T9l8wHwpNP7ePxjz+L1z98L86+dSceywm4GweMW8k8+Y7XMd75uhaj5gDjpgOBU0ZKFRcadBxtJQnggBYCfIGB55/bx6c//szguAERxNc0Rg7J1s4Eb3z4LrQt4eMfAV5+8WW85nVn8cbXb6fJDciUFBCfT6M42AlQU49wfNApMLzPwKXvQ86wmEE0JV0z3iOw5wKJ6yrXBt1yNep99ArhCM7V6kkM8Vnjl6ApM6ZcGjzrWI4Cz42mPdSnUjtHSvGrK5RlsgHwmyiqfa+7r4q6+SkfDsPTUQTuZW5/VsNcJoUBlRhQ4E1gR3EVsOZFrCE1UC+ikuzvgV2a2PrXIFoZRUpJt6VrQqnN1cnCdFtNnSwS7wOmB1Ps789x6Wrpw9w2okWe2WOMRgLiI+d1LTbY3oEf4crhGF0gHM6EBtqfitY2m4uHzf7VGebT+eDxq8Q5wnhrAteWU7o1Hu6e2MHWlgTg7J3cgfcBu7sjRG/OwpZg57WCTzbNN5SLQgtAEjjSdNb4qOBpNeDaLhEGjMfa9SZq4Gos1H2GaIl6UVnce5f7kneI172G8dq2XxswXcjPW+0cAO57jNWyTj7wLQC/BmAS9/8xZv5vaVOV/ppENcYh8F7FfTsgabcN+bTEDiRBMzZzYWBEDm31cix5kBivERc9PPS8sgqUvkvl7WiZT+wFpeMXXrsaI5Gj8KzPuU2SVY9D4rZVGzVGUDkWcOqlYwCxoRBD0R0YHG0FKPzomRmNy6uKpqJOmgJQ1puwnvvMOVx86Uo8Lh8w3h7jK778LM7sHBRjrNfnDZAwAx/9zDY+9NsvpErqABBiJXWt8H549XB1hxbIeGuC173lHmzvjhLfq5qvcxL00jaE3R0Zq7e/4yQ4nMTWRCJphyTZEsykZyN8mcUlUr1oNCtitLAkLlr7YbXgmspwej7V7G0/jFdKUHoHA0CJ8nvON1OuHJzrT+ZJE9dtls+2LziVk4vT59eJAVr6ZakkLoKbFsk6GvgUwB9l5iuxMs/7iehnAfxH2FSlv2ZZxFmvIwqoQKQ7lN6gbNRUC7Z9QIdouj6XiILesL7oQRzBI1dN0Bwp1t1wXbGeIz2t2wD5kCh4F2PIEuDk8mKkf84E7Is7Wmvd9oUtgp0MyNpPqZjeYj6b4/CFPrCOJiMcTM+iY4cWMhHXYr1zDg4DXn7xUgpO4sCvSOIvqYLuMJqMsHtshGPH2sQxa45vcgLSjuSTCNieKAef2xq6730AVx97jqBXatUUULhiqtZrAXWIh7bnrxXrYDYU2SCHxqN+Dyrwthr4IoN2ouFUC69onjpeIVGeJBGb1magxtyhcohW1skHzgDUr2gU/zE2VemvSRRE7JLe/qaSvBCAHicNZG3cR4qkdeoNLccFpkGeNvlL65JXXfvUS0QNpdon00YTz6matI+fls6wft/KRQufGPK1V/1aBORJux8A8tr1UNtWRcuCu410tdGd6fzxhamLruVAofxyBY6TY2xDNUpd9dx33w6OH38dnn36Mp751HM9o6Cfd/jgB1/CJz+9g7d8zjG85Z7h2pG6QnvdfcD2174hnePCyx0+8ttPXHfhhN0Tx3DvQ2ewtdXi2LEW4xEJSDtZcWSDq9U+OQJ5nqzlt9WrPLkmU5lJwU4NePJAy9/Vysdq3jXQLnOY6VWXGvD6UFmoiVMfqIs87+YzAXKvI/3+6oSik4lDppFUCxdPmOVju25NzAbABwG8AcD/yMwfIKK1qtJvZLlYbboWS6kEsz8gL5G6HQq9UXqnNJQ54Uw/UKQv+svbBLwGYGsjI8y55VNBlHu/qfug8H4lraFtZo+X6iHlfO3LVio1SOv+PWoqRrpyNMD2r0UmOzWgWo27Xi7rOEq7eZsWmz51nHByb4TpdAfPfKrf5xAYT3/yOTz9SeDUqTfjc+6mwWdAJ/DTuzPsbbk08Ty7O8LHPzK6bgAfb41w553bmIypNBYOAjgn+sA5zp9x/Jo1AVzdOH3yt490HMu5a/64pjGOIvYYVwGv1XRrKZNpDU8a9f4Sl7GY/1ZRDd32xVGOos7H5lQXq0r2rQXgzOwBvIuITgL4CSJ62zrHSYfo2wF8OwBs7d6z7mGflUIkgOsopEAXIgcbjAAUjhMCUunByIBnjXZNPEo8PqjQWOPCGwCSR0u9/CXiFHCj/tpACdxD3Lb2oUhulbjnDOT2cwi4XTVBhLgySNcR5wgL2IU/ed0nbSf+1kVvny5Q0pg9Z008Gb3qyLhK81KpgVs/VQtnBo4fH+G1D78GXKl7ITDOPXMBVy5exROPX8L73YnC97k+j/ecvBc4AFcu72N2sJ5LoIpzhNP3nMbxkztpRbB7bIy2jcWQEzgLYI8SkDPahqM2HD/JfDert+Ia1VuGynsh3x2IxNPEupIGKidJO+4WRIcovyHgHDpmuILUirEzv9fPy9C+QwbJ+lyJaomui8WEFdQPPY7hK+kHzswvE9GvAHgv1qxKz8zfA+B7AODE2beuN1V/FosGt0jATqYUaiCy/uBDHhnJABiPayLOBwPsWp8ytWHoD50kyAA3kI2XQ1GhC33EDRBb8LfavDM6Zg3cvcAh1aStch//1tzpIb7tGrxT0k/5+oMBb89OXO/0H9vJZzGADIkCdQ3g6lq2d6zB7hv24r45JNx7xuHBXAD8D57BU489u/gkQ+e9hqIK5BzuvPs47rt/u9iesywi8d2S5pcxasXlcdSEArB1kitWbZXNol4t6rYQoltpAEJjOV/JNa/mgEWBUPW2+l5ZrXpIc6+163qblcHUshF4F/XPcuBDk37v3BAQV9DW4KayetPyGWYdL5Q7AMwjeG8D+GMA/u/YVKU/sjgnQNYgxAhCMoDUB/HBEmY1f5wcWBWMjQauln9kjVYBrwEKTbhHmyzxJhm8NmT+HOhr3EPadua+B81K0XCKTKnEAB0B81y9ZciAqkZODZJSCqL/8pURqzUwaFuLpN5fNStnPBPkPsf9HXDi1DZCd3Zhm4EZl89fwfRg2vttNBnhxNnjKec1h4DLL1/F/qX9Yp+9k8fgWicueI6wvTsqohata55yzJqjvW0gAE6cAVxXUq4E7WLirG06xsuokYEQTyEneT4ord6ExtKxXpaMTcfcigVNC9zJj38AuIfaKc5h+pALYiyXbJTsTwBDz1Xqu3leatfHVdXa1tHA7wHwA5EHdwD+JTP/ayL6D9hUpT+SEBFa16GhDg3J0HfUgCkA7NILr0CbNBkD5KqZ19qwVtUWTTufk2MEovyWtqb2Ut8qAE5tmf6kF5TLc1vwzobMHN6uHLicpw/WtWFT+uzj+ZpYFCibaIHoHmjC8e3xProa+qiBd4HQBRM63+vB8EtXe5hYbSgtlw1wWM0zuDKYRcercYQHHtjBffftDJ7XETCbMx75CDB9ug/gO3s7ePjtd2Jn26W+feyRC3jCAPjO3g7e+NY7MRm7tBRvW3u/clBM8jRxwGQklMmkZUxGHg0FAfAB43QaI2SXWFUSkp0mHtfo8fE3HydUJ5FoIJI85E0MhQ9mVQPk1Y6OoR1PFaVHlLu3hldLQ/QzcVarh+qe+0CSqTLOMUVlnSU0iZ6yvv9D4oCeobPOiLlI1vFC+T0A7x7Y/hI2VemPJM5RYdArtNPrJJcWzfBF20NL0UWGxEqGcoiv7hNXGvdi8C5oFMovlHrE+Iomqc+zrN8qYUXg1DIQH1rK2sRXoj1l0LEgXvsDE1GsTLS4Lzu7Exw7sVtsI+ewu7eF8YgwHmm/gO3dcdo3MGP72BbGIwm8qX2p7UpDjYRquMxaeEBDIRosQ5GcrPbdt7aJZRSKel1504aLY1FPgJYOWTZGum/9vU5ZUAeyWcnae9zHALf8ruUBF2vXtu26v0P72xWDvU7rRrlugN8mEvMGChHQoEODDm0k/BoXwIHAFFJSJyurlm2pVJMu09kExlReHIu8SYZ+sy9l/YJatz9C9r9eBKTRsTEdV3PWzvymv6tHCEM17RaaKWTRhJTcCrnUDJX7ZkYK07Za3SJRt0H92xrVagOnFtZoXAbxDP7l9xSCTbkfBUfqgAdfewL33L+XqA6bQnUyLsPC7713B6dPvwaBpYpM27rkXTIalVqpTUGrYDdqBOwmo4BJGzBuPMaNR+sCWud7tg25JrlrIV6fJGmr/PMd0CIkVMzJzSQXDQJSfhflwh3YJPQq78cyPlupE01X0DaM1sUVQGWcVkO2bS/dG7UpRa+iQCSZHjkfl97JeP80D45u03uu24qJTJ8XPcbsb4OSVCFfZfLYAPhNEAntDiByBb2wzKVwsB37QCNrCos01XxcBeSGQ14GatYrZAiMa2C+lr7Y41J7JGMm4yPftdlVboZWA7fLZGvoXCShApIh17N6Ge9DBnO7XY9P/s8Og1nsNNpya4uwtdUUXHXyqqhm9cmYMB418J7FGEgmj4jRrLWvuo/230VPlIaUcpCcLGJs73sPyXHRdmPGONkdFAShdogyrmDRmNsJc5nU3iU17+1cvIbI39deMsTlJJbpEcnXIzl5OPlmp0hac/8TOCsAV9dh215EnZTvb9/4ad0OF8kGwG+wqCFOlpSRPohufAyNqhRZpn2Le2EEN1LuUbRhq4GmfWFA19AheRuKfYc0b/VcSdxzOmZ1FKRtW/+utW6r2Rd9A4EjJ+4oatbkeiCelro1qMR/qi0mLnxg7igNkrwQUHpBUpT/YB42Ptkc5MljRf/2uk92b7Qvv7g+xu9V8Ka6GVKkbKzmPTEaOJG4K87N8UlbbRijVjjvifNonXDgLQ1Hfdoc9qp9d8EV9zgETbvg0AFp3wDERFwk3kHmX76eanipBO4yLbJq3uI908YJSAyw2cNK+91bKSCDt4w/F8UaaipHo0jt+NtJGoSE6PUcvczrZYhrX7VK3AD4TRDiAHIZyBMPbDws1m5rFXe9BFGXad4WvO1D2ANx3Tf2Xf5G8Zto026QA7f75H71Hnvx+Qah4QBPTkKy7YRQADahnsB6bpprUCjrSK1daV72wX0thWJe0AKsPIoXuJaVnLDRuNWrRH244x4YoQwkaZyAn4tg5yigJV/EK+TzG9BL5Niw9py0b6ai+lSI4C20lrp19iknlSG6RP9WekSuAWideM6kRGEGwGXiByhOOEDOzZ1BPpKSkQprQEBMeZs1/oqSqd6xwp0RfRnk4lH6kKtNYAPgt6BwXAOnrOCRIlCD46r8B3Js6To3tDStvUjsvmmf6wSxRRSJAnksGp5AXI5ZTRSR7Rhp7SE51inBsnQ5Xq4+ZJsB+CXXbTUuR5w0tmVL4oKSqFY19SSp7m2JlzfaeBsjEkMwWlioaZ/y3LY2owVvDcaxLnU6u5LpWxPpk9YFNM6jcQENSZbEJoWCxVUOCd/9qQun8KmnCWdOEh44Oy2uU4tSSzu5s1qcIjCh8w6eJbTeq/fJgNa9bLwtbaKc96gJGDVSbk8BPK3kSNwZfQBS3vUUXi8nsZWuGscFiOexJ/N36RqrtqhFnitDGrh1U6wDgZa5OgIbAL/h0jMEEsMxI0ROUa30vQjD5Ee9WDTl66LzHtWLZEgslzl4nooTtyAOZCAXG8Dq/qjR0pFU+1T4tr/Xq4xMqcTvrNpMzYlX56Lhv3vXyPKi2lD72tth0QRhf2sNcKcIURMQlCiWSJv4RMFwjz9XXlz47xyUkzPoaV9F89RzNpEvVt575Dxakn9C8/k0pppsAQA++RTwaz/3Mbzl816Le061RWRm6zJ1ofdHx76kTjQr4eIJ1Y6v3abctnLeo0ih6DU0cQJx4LSK0EyWYiCX3EGAi5p5vHes2rgYaTV7ZfYL1/HLakgx4auRFzlOYSgC1Iq+G3Xak3W08A2A30Tp0SdYbOSxvuE1v1p6dAiV4dlsX4ORSYDFVWQjLQ4msC6ASQPVFzZRJxnEpX/DXHzveo3hqOwnCwU1QKOkYzkH8NhlveY96V0zhoFCX56a7xzyhtAcIcsmpbodZsTk/RmstYqMapYK5EQAuqjNSf5g1JXSLb2goBMi5+UicIu2T0lLJhLAal1AS/KvIQ+pW5S9TwI3aWwZQnloVKiCqU4SagDNFytuoLWRszf2A+O0aBy1787QP4kCAmBtTPm4Mo0xOBvJ1fZkwZii1dJ6xti27Eq5T/plIE/DsIb+tC51orIB8BsoybhoQSTqlZIThc2DVM7ysi/FFXCpgdrPxBUDQMyPkrB4AFzyy8N5+QcxqAKrOXRto35ZrBHUGm41d/nScYq+OfICmRB80XuFm2VO45SMmQoQEG2rMEiiXN3UIDzoKxzznWslJSu2epEa0RwUyBX0yoyQNTAVmnfSwPOnVqO3IB6CGDyHgj2IsiaetXjN/CfeFNouHCXuW2iHgFHTYeTmGNMMI5pnCs58MgieG7PEp0SXjJyHA9DEIhWB5T52Uftm6PlzGgOSeaVw9Rsap1p0ZdE2HLXt7Dmj7oqLRBWnhqI9OM7rjtVPPb8PlsqQfhmvFPMcZyNmXP3pcWyoF+p7Ni3sI+VJfplsAPwGioJjoXnr4pTzcnOIFrBiDYhAScekZ4oU8HmpBq7aXm2IsRr5sutZ2G7irLPWU/4uYR3Dv62xZFh03oomqfurL2FdZq40jmVXMvleAn7Nvya6gEogaqqJtgdMMBpf9AvXawA03J0jSGbjFlBGeSqdYt0L9bbZzH96LtXO8zVEEIxGS5kgvVTIQfYs8exwYbqH/XkLZsaZe05jb28ER50AN9lnO9977Y9OVoVSUo2ZblslOuk6ZI28HNtMdQwrLmW+n6yZo3h+ht7FRflO9MwAUnqGZXRav0/Lab0h2QD4DRZHAS54uPi2NVFLlhcnzt4QFzlGmWo0J6JSaiKDs42UAyLfR4gaUzy+WM6ZSYBLcLGV34+KpYvAtwB0M0nZF6THn8fe1O1YO0JyZUuaYemBImliRTMmBtCUmo1q0Da/RxySQYqFOfsaN5F7dZSX8UNAXYsN305AG+O9R+ZeMSMZ+3wgjLpSS6/dElXrBrLGvsgIqN4nbcMSuOM6bLkpxjRFy3M0YQ4mh86NoAa/wzDBr/3eGJ989Bze8Oaz+BN//B4c2w4YReOnuh7qvZlH2kXSGbjEfet1y8RXju+QDIFaAnCz4snjJqZun7QZ1zserFq6i8/MYqVJVwn1+Mlv5aoTpBMrx2Ad2ZYjdMVLaRmw26jUFYvVDYDfTFEnLOVzVWtZdtP0gRjSLArjHjEcBwRySLlQ2LRhPqPaEY/Lx9dtDvbniAg/lJBL21m18ljYHhTADPdd7ach0eqrrkYra5QtQYTRIPOiWgkeETjUuyNzryFRKikPRt2HuvPEsW4pZW8PncRjP4EAMi5szEhZ+9RvWj1W6twhqu1qkIiMQ1xx6XfI5C8GP4+GOzj2cOzl2lnypB+GCfbnE7z44j7OPfMSXv+mszh1rEu+1qKBh97zku4JjNug2WXI9lBLbYuwRtmhEncBiLnxKX2Xay1pmsWGU8YyV16rsQ9tLwAYmbJbRxOv91sUuq+yAfAbKORI/CjYowkEJgdPDVruEMjFl9jFoB5AOWxnHqakvRkyxlIyNkWr/U00k7wcLlwMzfFgCcppKqpnSPTYgiM1y9LU5+qlDtCER9Jbx153LI4pjKnoTxbaw9If2Y4VABZPBWLAMYMXIMXQRBWiETSvgnJCp7aRsyuAtRR64J3SAS/wKAIEaIbmLHt/bGi5GgH1byBXuZl5wmwuQDmL8Tc2z7gCekMZyLXv4nnSofUzAfHQiT2FHC6Gk/i3Hz6JF144wHOfecm0V11XvCP2Gnz08+48RTfC8jpXRRrqPgGl1pvc7jgaGQOlIDbJOZQnLygnHw2Syc0z9lkUmP61SLGF+t7pZDJM+9icKinJFzEQsjKgiFzTlvVEq0O1zItlA+A3WPSlc+zB4GR0FN7RZNyLD9W6WqnN+qfGPk8utSn7QAA6LhuBrK1EynAhWNuXM/UnUTAD4LqE2yZwAvHi+gytsQq8a+u+ct9DY6Uvo/ykFFP18gxdtw0558y1Jlc5cO8zn9OscpZxsANaXDoOyeGkkDpAqXOS69w5B8Ch8xH4g+BSrfmxAYlkiIW4DDr2QvEFL2lO2WMWWnzi0fN47vHnAQDNQDXjoeem7qddAdoVT+85qZ4d1Wp1XwVvlZKScODAEgLPDqCQnu9Vq8khKV0E0fNU0X1U7D4y4SsXbv9eTZ+84l4oMZ3sbwN4mpm/flOV/ujy9BMX8TMfewh3nmJ83t1PYLe7iEBNepkDuQjmAkQNUdQiylSqCnwWVEvwZgBBclHEtgJL3hVvAC7RDdH7BRSB0nDr1tCq0nsRFPyRy5Kp2LzgQ8cK4Ga91e5Xn9OCs3gJmC6oG1vcz+m1p4mqPK9d1QwFTSjXDXAM3zcAjpwoqTVeD/WEsyyAamisrNReMXXKXitzbhGYMPMtRs0Ic+9w4Bw6T5h32d+6iKhlVFQGJ08hgEEsawgyDuftqMVDb7kXp09v4967GhB1mfbDIhtGnEAl6T085Wsrq90sVgDKMUS1n3x2PoI4QTTteExDEs4v4+YHVztWrM2Joo5OkFUcM4pUF3UfandIEOARvV2C5rM3BZ05+uNj+FlcJzfSUTTwvwzgYwCOx+/fiU1V+iPJc48/j597/Hk88Dn34q3/0Rb2wktoaA44wFOTgLohl4oVOw0yYBQP9BAw5MjOCGTMCGhyIAMiH84msEW/GxBfJD0ti81Lm5TySqOsgNu2IVp4X9suj8/kRQKvOGHkfsWXK23IBFRa8VTtFuA+cM2F5lWNdSqLh+wyp6Xo7MqG67GgkocFGP1ltLnH8Xp1cpDgmpyfRMes4xYeLaZujIYY86YB8whdI7QZouaH0AfunoGQBbwJ5jN2cTQZ4Q2v38ODd3s0Ebxd9SwOroDIGJPXcDHJlW/qCVDHyPY/jzdYvD/ERpHP1SCvMkN6HgZWReZ5Sc9UtJ2IoT8+eCv4cStqR1EbSv237YuPKwlLpaySdYsa3w/gTwL4ewD+T3Hz+wB8Zfz7B7CpSr9S7nrgDrzj3XfgnjPACTyK0fwATLIcbZo2eaQQcXQTE7BycamdNZcgxjMokIQi8CKBISFqUBn8XPrME8NRJQUpGCBdCMCW772Wk2k75nEvtxuNvXp5dNxUCm1GlCtZnpvNtVZftGfOqVy4BbhyX+Fc9W/bntVS1Se+th0MgXdDHRwCRmFaAKxzE3jygANCI/EE47ZBE7lnILvwKTjUPsa1a2oeJsLEzfCWt96BS5dP4PRxyTeS/OARXS4hboZDwTMUDb1wiEqFnrM/1jVdIp9ln5Jh1vYzthWUeuRIraBPVeX7IavbwC4VB3cxkN7HuyDeKgKu1hAeltAgtTFc/cvLfWQiKIzTQ9TMildmXQ38vwfw1wDsmW2bqvRHlDc9fBZ/8b5fRHt4BeH8GOyklhW1WwjUwDsBc8+NVOymTJQAGTBsYeSGfCrRZmmVpHlSQMMBTATPXFANSbtH341uSGoAlqjPYWqkFrvwVFPfKm5fQKrWYvsUi4KlQ6gbyOeMQK3URjB0izUYWjAf8vJRQ6UGjNRatdXCm4o+WhRcwsZjwu6v1EyDgIY6jHmKJswx7vZBzGjCHGDGqJ2gayZomg7UMFo3AjNhHhr4QGicK0L1UQF3kV4g9kOpk0ANdt1VfMXDY3ShxaH3ybibjoEkrQqcSQcrslLh+KiEnhFWttrxs/cgt2H3S58mv7uMcf49OKHnGAGeRRsuxpZRPDcyKZgQe0gEqRrC1SaSqJQKcNUnXfqhq0BKRkyvihNUu5d9U5ZJLq83pR5e8mqtUxPz6wG8wMwfJKKvXLX/wPGbqvRRru57vHTyddidXsD2/nmQlxfQhWg8QkCIYBzYJaNjEWyCDN5aXzP7YWRQG+QiI88pD5cUkHCWa9Q2Vqxyh8C6Zgbr85fHLNemF8kQZ5wnI8GlmnvVPtSBG0Nc5jJZ1rdEBS1YWi+1H8jG3NdBL56S0kjPi5fq9Fcm9+Kl+Sl0sxYHXYt5aHB12iQeXzVgG5CkQTxpQk/eE7EfJiqIEDB2Qpl07DD3LgJLnviSoRKl51N53ZSe4WB4sN4qaIAqSS56aczL7aj2tbLQ5ZZgUiBnO5MzfuHlc4OCSlEQv1bJ7oiGrqmu5ZUo6PAeAN9ARF8HYAvAcSL6IWyq0h9ZHvnQk/juZ07hodc9hP/8nR/F3oXPoPGSya1txvBuHnm6Bl61QwNaDjlSrkUXtfFInSAU2qom7NHf9G85Vjng0OMEa0OZBRwFKhXLueu+y4Cu56myAEIt8Nrrt342vf0pan6VP7v+rqHMMJqfAxKNpC/rUD+kvf5KRQNAACS6RMW6c9oxXbXKqa+tiWPsENBwhyZ0aLopXJijmR0ARPjQwUP4mZ9/ERymMdGV/NvZ28IXf9FpnDnuU9m01K7JA94qDcdeJgkD4oEa0RspRwvbpT6D0AWAqMngTVp8ozROOtWuoztfKkCygKqq0xBwPGlgym56JL3QoBldFS0b5+IZJ733MgF5RONyaOQKYq1afRY0wZWNaLV91D4XY8T5d+XQrTuiTbQ8lHdlmUfKOjUxvwvAd0kH6CsB/DfM/C1E9PexqUp/JDm4coCnHjuAc4RLn3cak51LAAAKHhSDJxw5uGgt91xqMkqTpJc60SbBeBD0QUBhpgfK1M9LMgRaQ2JLpBU89Aotel2p27G0yyJ3wXRs0uDyS3c957fgXYuC1qKIR9uW9dNfJLVGp1kb5R7Hf/F177aOITRjvPg04fknXuy1NZ/tofOnzXVE4yDpas5MMMYekg28BCa3cKzVg8JFzVTvi0NInC+jv9KptXOg78ZZT8C6UTVVr1p1BYa1i+FQn/XU6fm2E3gVc6FPmo3sVbdFOwktAtl13QGFZ8/XXoP/IrkeP/DvxqYq/TXJi89cwD/95Xtx5sz9+Pp3PIt7Ln0Mo+4QTOK2FZoGAUGMUuZBb6KxUnjRLheE4My1MgiI1Wqs5kAIaDQyTSu6YzUPvUwKzXJgFbBKakqEzauXgNECdwTvgAaeXfJn1+3Sp/WNpbWGCJRgCywAbaUKKu1dbM6ZgirGhriguxZJytES99HMgG2YowkSYEMcMJscxy+c/wI89kSHxx8bXPxKe4SU7EmTWBHF5FuurBcZqEHXjOV5aoDOjTHFFjy3mIVRzOXtoHlNZCwyiHeRI/acXWN1H8/VvaV+rpj0d8Ujm5FP/DnFlAg0AHTW3VPb0GckG56NvYjI3Edk2jIaQdXgr+eqVxKAjoFZAZv+qMdJGOBb+vQPAM6G5rqtWo4E4Mz8KxBvE2yq0l+7HFw5wO/9xiexd2oPf+ThE7gveITg4cIcjhwa7gBqo2dJfvAVvGW5Gw0vXNu3AeKQvFsAJKBx0YzS6EMLGA2iBtNhYA+gQa29XgWsIwXlA4JmHlSXQftbMjSazxq8r0esVliDdx1cA1QBUNIhsx8wNHy1m2ctLOv5dE4BDw/HId5npWtazNstfPTRKX73Pzy2/Lqo/Kdao2YitNx7cA0CNYKOEAD33KLjJhouHTQsXo2QiVrgnHBLViT5nhVl4szA1GNQA3cN6mr4y259ebtVdHKmyCXjYiZWvXf1c6QZLOs+1H/bPlspDL2s2xb3aUheTQ18I6+AOGJQN4NzDVr1QnGjpBmkquxAAm9dTh9F8hJZtXUkME8boEte435ljs+87tHOndowKwX7XQ1mSWMzy3bl8jNwl+kAtL9yvJyn5qOtx0PW4vN1Wc0MyJphD2TJLKXra1tgaCZk/+1sr+gTC2mlkVwPvXiacIcmzAXEg8flrbP47YsP4dwzhGeffH7hWNdiC//qxCl5wR1mvgU7GYOOWujUMQ8tDv0YgR2mfpTrXka6SDXcXiZA8zWYlZEd08HI1wVS0ykJxPVkRIU2n/dT4205YRZ2FM7PxOLzW48tSu6+yfUP1APaxbVU+wFUXAH9oijPIdkA+E0UciQpPP0c7Fuwa9CQE/cwhxRmn19qBe8FABOF67Llej7Dc8rxpfYuD3XU0FFa2K1Rbtm5F16rAW9dNaRJKH5X4FYPANbCxZo1TjU6q5EPaXe1Zq9/8/CLWhsoaxpFj9Vtq7xN6iAcBx8nwHz/+hx/1IQ1+CREI3WkTigaGC/54/i5X3hxkPNeJTaAJGmu0d1Qx0kBPLDDPDQJuOfeFUCl6WeJJK2AHSM/AGiFQdLSTNXqZpnGmbhuBXG9JwOafM4MaT7r+3nEhVsyescVQONiHyKS19SSvS41YK5aLYakrA2H7deyAfCbLAQGOERDphqp2BirFptk7BJ2Wfu1QW4RPSJat/7uBqiSDMK1t0rap1oZ1JNJAnIe4IJZncvUP1s/HThOZgGSIkCL5NaGp6EXszZ6DmUJtJ40g/7akZvUv2utXUFJM/JZH27VxB373urDNi+dlY+GhetW3vvC5G58+srdeOaFEQ6uPtnv3xKxYJLqbZKkdgWAqWvRcYBnQkNtAnkfGkx9E2tYxonF5etsHUsaWVU0dGUTGqmdGbKvc57c4vXVGjixWRsmTFwqKUqy2qbncynPuQVyOy6LQVwptYJigRRKYSBdX0MMD5c63DecD61k+/U/h65J0kEsD6ffAPhNFkcB5DugZQHxIEtnXUKr9gmU1AWTE667egJr/92aT5bti0FfNUBL3aTjKmrBGkgX8d892iRNTpxXEgOgr54QTOLtrisRRw7MLJ+QHODpOOOXXLRX0SZWyohK+UwUitEONTQ+8dSE3jFJyyZx72zRFbTXMgCvx8YF4bwbP4cLHZ7cvxPf/8+fw8GVA/h5N3Alw2K511xvU2cjhy56dDgAbSMRvqpp+yCatx4vNEyIJdgYk2aOxkkmQ9lHqr13kMjFzjkEmxCMuKCnao1Y1ZGcDKp/L3v3b4A6UQOpi32t0x0UdIraUdB/1jUq067nAAFvx4TgYghQCAWI99ITJAomt2MDevJ+8ZpgXSw32QhvC1nFaatWPATiK9s+It2RNPvqwekDd2m8tFq1GFLLiMsazPO2IS3eRa03xKVrI4ZYkhznjlnKX8UXdh3nFxt+XeQBL5baJXWSj82JwKxWZo+x7SgZJNdbTnCLxwFwugrjOJFH6iSAMDuYYT6dr77QKN57nL8YQNRiMhLPE5XABB8YRIQmQLL32erTZnyADCJaukyr10uIvzcA6BBIg8Ty4kh9w/W67Rhbf3wZP0N1kQ29N5WRKprMavhKl9Sad51YbZGoJ4pO0gUNBzIpGiLAW7/2AU28D+jSUg6lr4KFkEF8VbrdDYDfIpLAbgF/veq4RdKLkDRPU23YkfYEfla1ZQEpBYBUIK4adD7GAjwn8M60iukP6bG5jUCSYoAgKXHVLdKxQ6DS8LqIJloG3Db0vRgbMuCULwY274dq3g5B7BqVx5Clx3Qs7D2wGjeBDaUmq7J2dHTD8eGVA/zm+z+DydYY7/z8e/DA3SaXOItbW6I0XASPYGgSlykH9ezYbjs0zmOnnWHsZinMn5kwp1H0VCGTsKRJ4y3tyHXUhmInX2S84x8a0OKUArMrIqOhW9tDKlARNW9HakTuU2O6MkvPK8QmxUwg1wf5xPGrGynHtMwu5kphit46opIwbMASFxkwA+VScpqpECFTK8kddgWCbwD8JgtrVMWrIDmijorvg8t4oy0PkQ1DwG9BW+mBwg88atC6UrDgjXi2ol/FakL05XRs1MQdN7HWMMeXI1IXnPNO1C8l0Neqa/AuIicNIGg3lQ+173Vt8KxtA71xMpNVOY7yumuIPADMxsfgXZvyc+/vSx3Ko0gIjP1L+5gdzDCdRt5Hf+M8ynbEbaUhEOBMZKujzHk75Ghgh7wqYr0vRqOur9dV3y01p9o0M6Xoyl7SNZIMg+k3+5Nq3dVKyN4rO7kXofLIvPcgHWh4cM3vGeDitO5kRcgalFPm8k9at44151wqucZm1srXvdUbAL8FhEnUH9U0iQOIKBZ9kISrTNRbhg9p0NpeuTwf1vosmNSpT/OxVaGCSotU0K61aQFegCn6tFRPZNJImYuJwPZHNHi5dscyDolScE3ioi2HGQpNLZ5rYH602nNBCQ3QJ/pC10YvC9aqvWtWyOR9YumlBSsQF3xKTNX4KeajXfy7F9+Jjz46hYsa2EsvXkZ3BO67lqZBzGkt49lQBuWtsRgkd8ZzjCJAN87cCzMkIycrizHN0VIHpdHs+BHJ/W5IjOI1XWIB0kVPljqLIZCDf2zOldSnqD33K+ZwwX9bd051hVV+OcQKVbV3lvYrXVP1nql9JpCD58hvs2YdFCdDwMVsiIjjUEcE5/TNGiQkiceGU80ukg2A3yRpRy3atikf2gppCAxwgEZWLgLvWhbx4svAP4M7De5vv2c3wGU0SPK0htXzct8yqBfgnbbpdcc8LvHTsUegBg5e6n1y1gAJLC6QiT811z6kgduJaUBT7I0flbnLLSgokBVZISvbwNAKRLVuCh5goU4A4NNP+ZVBOtci9hFzxHBO0sO2LmDkPCZNl8qrSQ8z2AESGdpQiKlt+0Fk/fNVWjeVY24NnHaMlM6AOdoqGZLsLQKlOV9R7MSuhsx9krXdcLWr4pkwx0rbHDltStGbcng0rCMXRwngFNg0ROcVGnnUum04fd5nuTa+AfCbIGfvO4P3/ck7cc/ePu6bfnRgD04GrKj7AegDadxT/liSs6IPvP0JIC31qu19LVv7V/HhvUlDOf36NzOJaNuh8gtHttPniNJM1QBAEw1uyVMkeocLV6oGrz4tUlybWT6vEvsS5zZD0tRySlLfA+5FE54Fb+dnsq2bwY06uKOZQlaK91KVR65FwLttxLA5aT1GLmC3nWLLTTGiGVqeJ20zoEHHbbonKiEWe2OI33jHTdKMgahdJwphiMLKmrfaEPQ3244+1naVJVy1/kyF1lqsRnV1xtF7BMggjKzZF7RK9azYe65RzDmQSPqXba7y/FHkQfTTGjYBFGXgiipAEdht+bVlDOsGwG+CnDyzi6/Y/U3sPvUx8HgL3IzSbwpsUK2YHKgKfCm4vMRdZxnyTil9zMsJQSgc3c+bY0rAWeT2N6ixGu67Z8isaBPiUGjeCbyjJ4rsozy+JPtiZENZSr5E+eWUlyiDrl3qF900E59NK1Au+0vQtgaxOjhnkGKqJ+AavMMczs/FcOk7uDCXF/8VFO85lfJSg6Rz4g44cgHjpsOWm2IL+xh3B2j9VFw4XQtPLajZ1ikrj52OCGtiY5eNmDpeySWz7I+OaUlvlPaBZDw2NgjhoC2dFVK/bGpkNs9BAmfWQgwG4AcmcLvKsv3JVBFA0PKHIfL10ck00jENsZwrlN4pOunYpFg1iKcxil3bVKW/BWVQW47uAVpQVty7+vRD2maMhKmJyptlIZ1SadMD1G/cz/d56kVrOvUhN+fWBF0L+xCveVF4fjIssdoBpK9aXZ7ZoSGhU8CdeL3r+ZHBYWiSkZc8v/CUVg3laqTmeF2KBTUeJuDep1xjf+Xigk8rDxcycM+3T+Cxydvx0sEunnn66vAYH0HaUYsz95zC9u4Eu7sNfBAeXDTY4XuYvX/SFeeximBdJx3zkUtWTlnFusQtoqgKqqPukwHu9LeOa2VQ5Oj2ZyWAYp74bLuoeXR7bbZPSQlALsCN6rp71xB5fx/7rr/Z6vbWQJlBPKdzyGscteMsdyXcAPhNEtF6XdKgFbhllm5BgXsW9nwsRe2WojEvQBMQ9SYGq8EXVMgQ7WEO40y7KNAmqmNBHg81xCp/bYHXtltQJ8xwXBrnhlwjk284lEIByDEoMIgCAjUxd3V+GROHiZz8K/eZ0jhmpjS+OlXkXKKgjLatkZLW+2aRPUAN0CqF5t3N5O9uioOtk/gXvzDC4x//DObT2cJ7s66MJiO87o1ncPpkg8lYAnk0Jwqgfw9PcLVSkGgStIkPVy1XtXKbcXCIHhmi/oY4ahUf7RoarJUmc7MiErdSkohFdqlPHPcW91KXV0jmnbJBPIUmTtUq19AvgFmp9UAcEcQBpuwjnqJKWb1c9PxIqXF1zJQ+AanmvTFi3nJycHWGz7RvxD0P7uD4pafR7r8s2iqHFI2JaGAaEg0mHwQ6cPlyVNTJMt/roh2z3EcC3VD8llUJ/Zqpjwzi5TmGPE6sFCuIARohg6JMeJqEyaV8KmqmQgJbGwGZziO6UfQnrqNX8limcYwTgQ2uEX5bxyQXQ+hRXVwuyTX/e4q81X9gzGce04Pp4Nhci1Bm2QDEiEo7DtGTQznsllp0bpyoL0+tlPvjRmgSA5JpHBflhrFulgOURL29XvFoal1GiPd1IHWEaroKupGTHvIm0uvVvlnJ4evq/WSNlEggbttYpMH3xsE0VLyfmVmRE5i+qea9yvt/3aLGjwO4DFF/Omb+fCI6DeBHATwE4HEAf5aZL6zT3h92ef6Jc/j//PAJnD77IP73X3cCD1z5dZCfix9tI7eEyYFdU2i3KuRCDGqRByO4JvHl6rViQaTgmiHAtwpIkyggWSpAAV3BVPluirw1M9hJPW4FCzup9E6RePz4GWuF1sUECmrC6wQmIMpE8FQ+zklzjr7U9lyBnKk4YzTxerWA4clHNHBGo8ZH9sVYyfl1MVymQnB+Lm13M7huKuA9O5S2XmHum1kMmN5lwLBzdgAw96LhjsIEDEJHI8zbcdK6AxrMuY1g3xRgZ13j6uLNVvNeRGHp/k4nSKMlJ5sL5WRb9nwKtEKlUPQCyTxzkfek0pYXad/ZOOkSLVJo/EPgzZQiLosVQM/FMQK20e51paJ0DxJoyz7LwuiBo2ngX8XM58z37wTwS8z83UT0nfH7pir9GtLNO5x7+iXMDueY8QQUGAjZRcD5Llq6IaCoBRqyqht5waxFp+8RxK3hLANfrZEbsLEeINSfNHR7ngh0ozKE2eio7RXfreaxatJYQ0TbCnABCA4gpsSLF/sgRznKuWWcBfrzixSAOPGVgF23Va9m0tjaiQ6VYZbKFUuteUNdCI8YqLOuWNpkyKtBozJDBGgqxiUCFBuIjVrjEHirDAF2LYv2SdvNs6TrhsY8Rymlix5DSIWKF/VLr2ud/vWSXSlAK3hznlQWuQumflC/3qV9J4CseefvK7t4XRTK+wB8Zfz7ByCFHjYAfkRpyQPdFBQ6EDlwMxOvFCK4ZiRauGsAcsJ3E0lllbQ25qQBKu8HIG6LEYyhK7XE4HsgU0jSfksgT4DsEAHHp/W5gE8A1PIf6RRdFtbBRcW5eHjCAAaW3oWGK8cofeJC9F02kae1V4j2xbs2rho0UMivTksQj5dxFa1ex5asrUBXJ5amivQYmEHqcdLNAT8HAoO6OZowx4ouHFmaBmhbrYEpnzZEHoDk+AZh6iUUvqGmlyI2oAQW5bcHqZAVAVLWbU+1WtKMjSb5FyDPXEqrbICTVW2gpuibREZm7XgRdVN8V+BH1t5T3psBUNZ96v6kpGcmwEiBvc6LzsXEQznYhwGy1M0KWRfAGcDPk9yFfxILFd/FzM9KZ/hZIrpz6MBNVfrl4tkBzUhedj+Xlz8wuIn+z+lOM4go+0VHq7tylZS+W59jnw1tBkAcdz0aJGnviAAoERF9EGdjJ6+Mc9ovsvx8VNeGtO51k3Gp9KgcIPKUutzMq5W0vx3D1I6P3iqM4ACgiVNfXrrnrIyVoSqeP9FQlYFXqRoYEE/GXz/PAO693O9uLpNlOxI65/oXJzIWbYN21MI5iqCdNXENGklDGGmVLsRJdsinTccgafKZGhny8S4+F7k49drO1FMO8pLALW2PEbVizgAteVRC5I1zatte+wPgbe+vTVgGKB2yuL+1HUDBu9bQh6+1BHE9ZihF7jJZF8Dfw8zPRJD+BSL6+Lon2FSlXyzT/Sl++kP34jV3fwvec/8nce/HflF+cAS4FtS2gGsRRmPANUAYCUfeiL9E0ihBYPIFf5vyajCLqxoHON8VwFKDoRoOKaZsZaLEwxeuY+ppwgtAPO0YwRyud54hrlhponyM72nllqbI1zrP/ddzVEEntT+6bKS4vR9RaJNpma2prTwxmjzuMRVwMbbMoCATppvP5Lf5TLZ1HeA9Dl73Lvy7g/fg2c84vPjs0XJ9D8nxM8fxxrfejd2dBnecdpiMFLQ5Vqfn5Acuoe32ChWMnHHvKzVuqv4uhzR/H6IvAkq3wPqYoi2lwNingCLdruDN8bto48iTNy3Oe1+InjpRfSUdUgf5DDZRgbcWDqm175qbt+Oe185IKX3XkbUAnJmfiZ8vENFPAPhCAM8T0T1R+74HwOLKqhsZlOnBFO//+Y+jaRvc9x0P4d64nAYAcjMgjMGuFSNdO4oPafRJjd4WFGTByDE3SDJehgwuCbircG0BGANy0bCX/cwasIKl1cahYM8RADOIK/edDJpAAdZABGwD3oVGrfRLBO+FmREH+Ht1R6yLJeemM01CEsYJ54QLT+0ZX3bV/HrJwAaMlgm8Q0mlgIPke48rLHgPmk+BrgP7DggeF47djx/74adx6aVLg/0+quzsbeNNrx1hexIQAheBIDbToOYlURFNnGKyMErgDWSNO5WFi4bH4XFerKdpJOSy/fqBZk228yBq3uo7naiWRoyBlGkZK/VKyraj3cgTSh4Lq83rU1o/kQreMJ/ptwq89e+hR7QG9HVkJYAT0S4Ax8yX499/AsDfBfBTAL4VUp3+WwH85Fpn3EhPOAR8+JMT7LzpP8Vr3Gdw5vf/HXg6Fx9nN4O6FwLCv3IzSst8aiLQBVdoneJn7HvAnWmFIQ2cY9qVaAgNke4WB1fYEmyW583L3aiRwyfPFCtJCy5UvooS0fNEN67Bij4Vz1zQQJCJaOl4m/OzKQhhtXSGA8Uapcm/3XrhqB3BGiPtGFtg7+bSz/lUXELmM3A3j+4hXjxaKEfjXq+4CNBtI4BmK5wPAYeNzBQOOkdIDvlyD/lsW1kUlKWTsQJtHfGa9iONH3AGxAcokYEAn+SrbbTxRUbLwlga/6w9a6wse6pqA2QN2ItkqCDFuto3sJ4GfheAn4juTS2Af87MP0dEvwXgXxLRtwF4AsB/vPZZN1JICIxf/tlH8eu/2OJP/9m34093/xZ8cADMO8CReKk0M9HeRmMxdLZjgByo6aAGzcIFLmQNkSKQ9zxOjKENiBoqkLwmWN0TXVOBtzmudp1TDTaBn3LhWcMd/M30wf5Wa7+DFNAQFZT6GvrbiNKEuMhqmOijKlOktqkat/Lazs/7ffI+USb6yfN5+uRIobRhBmB7sB/XIuQIbQOMm4AuBqirRgnk0GxNJqU+1A65ko1o21HjNmHuZc70YaBe5DKoJQLFAMkxOKai0XR/A+KL2reG0Fo/TpSK7Fj1YwBRKxBnu20Fnjoue69/WyAu+xqPs7l6rkH7BtYAcGb+FIB3Dmx/CcBXr32mjSwV33n5FwB4Ly96CDEP6BTEIzFicgC1o2ToTNGbrs3gqe5+ClJKmQTD9UZjaWE1IwdQxTsP+JzV/uCwmr2eP629zQsYDaUWGLWdQoigEZeUMhKi2LemKYrfBmpaFjROBPCeu6ROMOTSq0fw0QuIi7YSgMeJ0mrcaWwj902hy/e068CzCODeg+dd8qJ5JcU5BWcGKuBmRsqLonVPdd/8r89Nr2uMXCWqZS7S4rMdpLJ/mAmgdjXMzWQgL7RxRI1/hSY+RL8UlMuCyWnRdcIA98L9DE3Va3tFsrVNJOYtJo0D+PAQYf8AcA7kCM57cNOARiOgHYGaRj6JwO1IQDIaPNlRDzQpvbkV2HEoM+U4AsUKKtJ+19M+AaPBBy9tR25X+F6f2krpAkz7cE3qZ53Ea1X+lkK0//UEAQxuS2MQXQ2LfVTbd2bSody/YsJRP3ulTqIGXkyIcVKD9zIe8xnYd+D9q+Cuk/s7nYG9R5h3GM0PUt7vV0KICG0jKWKZHRCAeXDR1zsWG45eKXDACLGKUHLl46I481FlGQVgE0KV28vziMuqNUKrtpqN9UrkAEDtNZSLcwOIxs86kVVxbUn7DrGtuHIxwOvqVULkx+0kKfstj6BMgJ0mz5L+sbIonYbKBsBvMbl6CNBrXov25ZfgX3geAODO3gne2QNdeVlAgAMQAsip+2B8FJwX3rZedtbudArcCm5KM7BL1WvJi5FSQ9Xr9qyGiW4eeV4WIAekDSD3RWmepgEa6SeF2L4abo86WBxyH81ExK58fQpgTfSPN+Mkqw5K/uhcTIQUt8lkNkBL2YkrrXoihRK8GCu7LlEmYd7Ff3OEeYfJwQW89nPejd3j23j+yXNHqntpZbI9wdbuFo6f2JJ6kAYUrfYdWOgJDasvF1xLNNRXSfrgrR4mpSdR2l/tP0MaeW40gbLVfuvrKwoImza0+lKw/n5Dfdewd8iaMSemGlhYDmn/6i9g2kvjwLRyMtgA+C0m/+v7n8Nzb/rzeMcbHd47//vgw0P88v3/W/zOHzh8y+d+Amd+9Z+LZt7I4pearDHDEUg18qYxU33FNVvtu+CfIccBQDMSrZ9UVYsS1HAYkhscz6fguXhVcBc13BDbjQldKPant4qwF580e1WHzGpCtV9XrQhIVil2vwzEln83WnF9Hj0XkFYN5Ajk5mnSoaFVjbZpVjIUOvk7eKCLNMnBvgD3lasIXYfu8lX46Qx+3iHMOjS/+NP4W2/+BK5+3ufi7/zyO/DY7z2Ba5HXP3wv3vP5Wxi3ATtjmQRCF3OdBELnUUQDugK4Sw1wyEWwFpsiYJG3kJVBMB4Ab/0U4I2Rocq9JwpN0TlErHZFe+Jaq9yJtjecM1/5ePk7pqdlCVqzkZ9AHcpfXctAJKWdIKz3iRqO5ZxIBuJqcADo+mFYNgB+i8m5p1/CuadfQvCfg689ewpor+D3H2/xgV/9BL7mXXfh7HgMci4t5cNMstZR1MjZewFh34BiXpVeYmEO4GA4YUs9hOzJkfKr1AAeQYvnUeuezaQfkedlXacDBYBT20RDrFBCSVtXWQTgRPlamqbk110AowXgZX9Gfy1aG3DtxJXGwGhoSj3IAXkcrFjg1gnNjo/3ci+itwl3HULXIcxE6/bzDv5wBj/rcPmJ53H1mRdxpptjZ+fzcK2yd2KM+09cggPjwI/gIx2mEX51KDfiUNWeEFYWgbjVelMOGwNuy7jtVZLBe3XIuwXyUqzRmiOIL74edW+sg5Csy6LsV2rsi3ltc8xAGL3dr65SVNfoXCYbAL9F5dOPvYQffeDb0e4BH//Vcwg+4Kd/cw+PveFvApCX8o1nX8bDH/oedC+dFy0UEA23aUTDbSpvDxWlTIJ56DViMk4O3HWJsyaTFpFD1DoDg2fiFhcOpwizyOlOZ+AQeiDuWtHA3XgE17agNnL6RbcMCLIYcGkkXD/GE+lPO8qA7ggIDkQ+0zPRP71Yfej1hw7sRJvLsTtKg3D+HlzyyEFVNiwBtU4+FS3FvstUkvfgbo5wcCCgfXAIP51hfvUA3eEcftbBzzrc994vwwff/R349fO7eOp3nl38UKwpIWqQnvuRhMnz4Yh81VG58CEwXwXeNlNgDeIL6RQF5J7y6lNmStHgkdJNDItDA4aPkbw2opPFupn3jOfyA0Ce7AbspLwa5HGQzIJUeZ4Y4MZiEF8mGwC/ReXc0y/hR3/wpWLbb/7Ko/jNX8nfv/Lr3oKHR2OEw0PZ4Bxc5xPFQhE0e3lpw8CLlFz8ogdJE4G7aUrKgoMAUwjg6RTceYRDAaYw7xKAh07S4wKizbvWgZyDG0Xwbhq4ceX7HHRiYXAIJdgzyzUBAtZ2wmnES4QA0Z7VOkcoElwRJIoVTH0Drh0HNbQpdq+gntJqxv6mq5FOxiTMOxmjWYfucI7ucIbQBfhZh/DQm/CPf+gSzj//mX5/jihpPhmoOmPBW3OBryPLQGQRvdBPbpXdD1dJnfJ1pR93/TeblAoxLzeBY9GP4WtQGijRKZwaTt4rQ+CfJhmKtTATB56/x0bSQrZwJTTfa018HdkA+G0sTz5xFb/zNf873POu53D3B34Mh088mVwMiCjz49GbZUi4AjGKHDO1TcyJIpOBBX324joXDg7B3sMfTiM4zeGn8wjgvmjftY141IxGAuZtAzedlZNLPEfwouG7UYtmewtu1MLFPgh3Hl0LqQGHkI2MrNpz5LJHBArOGCTVRVIiTsmFrGAXror6R/wxatvs/SCA96gpQLxN5nOwAve8gz+cI8yz5h26OE7BL7w/q8Q5whve/gAeeGAXr7kLaF1IhRWs77fKkOYdmJbSKIukBrRVFdSPIqsALIHeAo+lnF45t6WaOFCOSwZUMYrKkzJMBxVRoBaQI05LpXmG1/OyrAg9SqtmbXO4VtkA+G0sn37kSXz3ow0eesu9+O53Pgj/iU8idBkMhA6hRIEUIOHcsCZujY7x0x6n1Agzwx8cAszorh6gi9qln3VZA1cqJZ6bnINrp2jGbfxbJ5iSYw+dR+g82q0xRixAPhqNhKIYK9/cpBeCvUcC25jfhNT1rxXNmxvRxsXAWVFHtTauFJMCdpxQ2HcZzPVlHBpDADzvhFaaz5MG3h0cws86dJH79nMB8MI//4jimgaf985j+NL7P42OWxzyFlJujqj3LqqpyElDjDw5BIBsncp1NGabH7yWmlNOWvUK/+ZrkV5fI4hn7d9abQcaMDy5DbFXLVzPkTVu83vcnie15IUORiz9ZiaPXCu0/DwqqG8A/DaWEBghdLj88gGeuP/Lcd/XnUxRjuOn/wD7H/19cOAEnhyMVuG45MDN9tg4AAGxZDSMoM/egwMjzDsgCA3AEXRD57H3wF3Y+YIvBMZbpYEUADeaHjd7jtRRjvzR38aLv/n7AIBmEv3dfZyY1CIHX5rnreHTx0kodOma05XbAKBgwLu2CyiPbSijZJhkM3aDNEwAd0KhJOqkC+mfUESMe7/oTdh++zvw+H3vwXzW9dtZU4iANswQ1K3UdoVLit96QhBl35FlnPi6y/kAWgDiA8/Zuhp2gsXl/PmyicZml1xleEx57If6y5WB1XLVhDi4df9RaudA4sZruRaNfAPgnwVy7pnz+HvffwKjyRekbd/xTZ+PB37nr4M7nzTcpIlbQB4SC+wD2jt3XjTwwxmC98mbQrXunS/4Qvy9Z78Fzz19KR1XUzWLxDUOf/cbH8L+z34A490xXNsgdAHN9pZQKOOx9KdpCupCPmK/R+KJQ+qL3TQS8AQUHLWC9CCHDSQvG04GyQjgcRIDoiZeTYQyuQl4h9kcs8v7CF3A7MohQucxPxCa6fBPfTu+6ycfwNXfOMSVCxfWGp8h0VD49C+CY06kROm7dV9LY260P6sRLgvkWZQvxIJ4DapDGv1S4DXGz6IyTkWbDG1P+edZC2uvDkrKXHsQk6nhwq2R0nLyck1k9uHozaIGUxdbtIbOkp4Z9L3fcOB/eMR3Hi89e77Y9vSlN+MtD79JgIoceDbF9Oln0R0cZlBetPy3WlwEqvGJk2jvvRe8fxUHn3kK4eAQIYKaapa7d53E9r134er9D+Op/3ABLzx1brD9ZdK0DQ5Hx6I2LxSDG0c6RlXJEDMgukpjtq6LQcu6Ranzo0TAHgTvFPgT20wgH/IKJI6Lcv2JzlEeP4K3n1d8N4Azn3MvJqeP4zF6EE9/6jn47ugUStM2OHHmOHb2tnBs2w/W/VzqHrggXH6VHCVXdX2+4vsCkC/3yb7fNUgfJbgog+5yf/Wl2nnkz204fi+/Sfxd84onX/qofQejsdfXMBTIs851bgD8s1R+8ucu4MOv+6sSERaAN7zO4Ru3/l+49KGPZErFZX5cRdwE+/SK/7L34n/69Ffh7W/3eM+F78LBC+eTxq1Gue1v/Cb8k6ffi+fff4gLL15bXmsiqY4zP5iDHMHPOpAjhFilPUxn8rCr14yJ/uQIhNRJCgDyHdC0wKjNAU75QuUau64A7USVGO2cI1XEcTt3HiH6u3PcJ8w6+R7b8rN5Au75/hSh8+imHbZP7eLlb/+/4qd/7z58+qcvXRN4A8DuiV1885++E2848Rx2+AW03RSeWrQ0QYBDQyzsK0lelEXat5VoWRgU1aqHAHyhxo1QbLPBQU5z3SyLcrwO0B5siwHxF+9Xh7KRmrovQRLEqVFYfy+08Z6RWCcLA+6RQmmApI0DfdAeWrGskg2Af5bKM59+Hs98+vn0/cLnvhbf+Oa7MT7x6WTYJDfsYqhufNZqfuH4g/jArz2OEB7CV5w6ifHeueQqGGYdQudx7vQb8evf/4lrDgUHRPvv3Ag7p3fg2ibxxYX23YmPgAYDpUnHBgY5iuCsC1tAg4LiieKnAW9Lj0SgTlo3M9xkHIOkfOL/2QvvPz28JLRJJ/YBH8dEXQUBYLK3hZ2zx/Eb5+/FL/+bR655jACgbRvcv/cy7r3wUXTjXXTtlhRvJg9CG5fmy3nVod/qOpBqcFvEbw9J7TJYUycENrlNVnDhFXjX9ElRxGOgwlOmUTTPDgPU18R7xtYEtU0GUsOBy9eKBzcafBHwY/nz6F6YzluB91FTGaxblf4kgO8F8Da5DPxFAI9iU5X+tpFnnziPH/ycb8GZP/rni+COIQ0i/523P/pBxnz6GB595Bx+/Kv+FvYezsWBdTn+ux8kBP+J6+onh4Af+e2H8Pl/61/jc5sP4fCf/AOhH2YyKbhRK0vqOZVGVQVcQPzGiUCjTrxoRnOQV+68LSNTa61bATywcOCI3ijO4eJX/wX8+rm3pbFRX+ozx6b4ot/6f+D59/9OAm6O3jR+7tFNPe58+F5c/Y7vxm9fuB+/+u/3r2uMVFLVdBYKpeEODXmM0GHkhIN1TuJU5Z6rP/hyo6UWMkaa6wS0Cte6xJtnI+Oi4JTSICl8tmZgFDBfHZ05HNmZS/XxgEG8OJbz2oFzwtihE6VPaV9DgXK65jQ+5phFXjWWXlGNfVGWx2tZYayrgf8jAD/HzH+GiMYAdgD8DWyq0t82cvHcRfyrH7l43e08/8SL+Oc/8OIr0KNhCYHx/p//ON7/88Bf+j98Ab5wawx/aV+08E40XwekgCPVgMGcOGbnY9RnDP5xChDOlW4YQNbqrUEzetmw+c0R4fcP34R/9n19zfnBN92HL3n4bnSHM4mwnPu0cvDzgDD3mJw+gR/68GvwKz/zsVd8zDS5lgsC4h6NFGaggMYxQsg+y+u6m7MgWAZxQwksAiJHfaqj/DsbIxW4Fxkg6+vr9S8aKZdmPjTgXoBjBPMhsNfybS5eswb/qFGSNU0tcfa3X8MuYIF8cDuWT6qLZJ2KPMcB/BEA/xkAMPMMwIyI3gfgK+NuP4BNVfqNrCFf841vxXvf8mTx8jMTDsI2fuRXj+Gjv/kpfO2fehhf8TnP4bXP/xReOH9FNNnpDME3gCO4WZOoH1bvEONz3myNkx+7a0MMz4DQHybQSc4d+2GpGE0DEAKaY7u4/GV/Cs80D+GDHx5+XS5duIp//+C34g3/56/APb/4z/CJH38/3vhnvhyXvvKbEEiKYjzj7sQTP33lFR1LB0lrQMGDyCdN3LmAhhgthVgHk+EC9QoZe5Zyzl4qKyCwi7VWOdXEdAY8hyIjBdJy0QdreKzFgnbSwDn0NE8tzN0zEmrf1wFM2+9KS8+TRml/UH8S1dAl42GsDavTDnMC8qQ5czZwWpGoTn3O8hgsEqtbLDENFLKOBv46AC8C+KdE9E4AHwTwl7FmVfqNbETFOcL/5uFP4tNf/afgD0qt6p4vuANf9Ld/CY98sMH73vD7ePo/+Yv4+KTF5PgE7aRFuzVCM26BwDnCFALgfjZPGi85wigwXOuAMAZ4FFPfxijO0SjmeIl8uPUeUc3buAi6nV38+Gc+Fz/3rx5F8M8NXteFF17GP/wfLmNnbwff8+e+CrN/9kuYfumfxH/1j/cwO5hJdGt4GcG/NHj8tQoRp7zkznWpkLVDQEMenggNBYSYEpgiyEgaWRIQR0y0FADvxPhG7KK+SWnpnwx2xs/ZKSUSwVs9YZYVqFDAzp99CqUG2n4jKHjttcdrCVVjtfmUA5ylLwzKRZVJnAx14o8js3JSGdKuh0B6XeBWWQfAWwCfC+C/ZOYPENE/gtAlawkRfTuAbweArd17jta7jXxWSQiMT1x+Df7I/+0v4Oqjj+HD/7/fwO5923jbt3wF2je+Cb/8grwYfzB9Pb70r30LZo9/Gk+//yORTw4AxBhILgOE5Zw5BGyf3sOJP/ZVmJ++D6FpweQwefYxzD/+CFjBwkd2wLleQM7ovvux/7p3xSLRjMtbJ/HM/zpDN18eaOM7j9nhDI/ufgHe+V3fit9u3oHZwdMrjzuq7J3aw8Pvvhd339HilP8IXDcVd0nXCHhHLtyRaOHOsfjDDwCIAnlI+aulGr1nBsGl1KoMSvQIeLGrm+WzF4a4D4I3F3sMlcEbbCv6eA9tH+qfigXbQbrHUiwmJN+Rh02OJedxyRahWrh1ORwy/K7jirnOKkOudQXkE9HdAH6DmR+K378cAuBvAPCVpir9rzDzm5a1deLsW/k97/vRtTq2kc9O2Tu1h+Ond/Gfvm8LO//Fn8C9n/cQfuprfhgf+MA5vPzCRRzuH+L4meM4dnwb3/anJzj7f/kmHF48wGRvC65tRLMGEl2S8op4AfB7Pu8N+Mkv/x782q9mD5y/9M07eOvP/x2J5ozpaCXRV5WkC8CVr/om/N1/8zpcuXSQznPl5auYHkzXur4TZ09gd28LVy4dvGJV5q289Qteh+/80g9h54VPJnUtbO0ijLbgJzuYTo5j3m7jsjuFGY9wcbaLuXc4mLeYdg7MQOdjObVYdm3cCNCPGqnM0zpG43yvPiYA892jJQ8Hj5Y6EALaMF/IawOWuiiBe7FnyTCIcaz/KprxcI5ve75lUnu52LZygWs5T4iThSfRez2aOOk18HBpAkwZDG2fbbupyn1Jr6QVwIBB9EsePvlBZv78evs6NTGfI6IniehNzPwopA7mI/Hft2JTlX4jR5DLFy7j8oXL+NSLb8U3fM27sPWG1+PTnznEc49nwL300iVceukSHn/pYbz9y94Ff/Uq3NaWuD0qfRIBnDXrXzQ4Tt74Rjz5bFcEET318sN411veKv7iKcHXcOWiZ5sH8MLT57F/6do8RS6eu4iL567fWLxIxuMGW5dfAM6/ANreBbejXN4tGjKFRvFw0ZhJ5JLXjO95IHHkvQVIhCoQVzcPJBpFIfZaEzBZ8C62L/VAUSuqHlN5TEVfklXGzGvpp3q42IhOikCuAUFWE9fITdXEC5spFrseXq+s64XyXwL44eiB8ikA/znkXm6q0m/kmuQXf/FZPP32/zemBwGPPfLU4D4/+/PP47E3/3egkyU3GKJXiIqlB6YvB/zBR54p2vk3P/cCPvzgXyi2hYHQfucI5z+0j+n+etr2zRAigLoZ+PAQIAdqO4CcGBuJ0DQTAMCo3ZVPJ8mtZk79mSmNZQppYXERbFiRWjTchqIhLxpEiXJOESvZ+EdgajIHPuCXXV1NLw9OX0qOPPt652pAeq5F8kpo6DLG3rgfysQYop+4uhsGakSzroyamV/Pny5ZF2Sb5/5+q2QtAGfmDwPoqe/YVKXfyDXKS8+ex/ur8P9atDrR9coLT527prD+W1Y0l4sXlzetei8a+BzMLZrQIbgmRl9qXhPThAHxpIlHLjywgFugqIFHzdy6D1rgAaLnRgRXG1AzFFxTbs/q6jL3wVQH07Q/BP5HNWwu6t8irZ6sJs4MRz6BOOK4pTJsVFXvsXnF42XLOLucnrbS4FcB+SYScyMbuY2EHIFmh/CHUwmiGo3ELTJIbGHrxG1x0m7DNR4TtwMAmDUtuuAQHEHjZH2Q8HofIHaB6JQjWX6d2Bmc0AOeGcxNzFYpuqMHA9RmwyYBIPGlFhdEb/JyqyYrHwJi2T97iBfP9S/VMKoAnUHcAcWqgEzVnSEwLyYXqJug6d/A/qlt5ERWeh6OhUPU3TAZfqP2XZhYyWrYLtJVUj2JKX96dsmzZdUqYQPgG9nIbSSOAOrmkqrWxUjBdgQiJ0Wiuxmca9D4GZgcRm2HQA6tC9FomaNzJAc4wQcxaHJcwvvMUKQkTCkZEyhTLxCwoejrnrxTKFMbkrcmJDqlBldGBGiSvWuvlJ6feKRPBB8V9G04/eLqOTZac6Hr4oAmX/u9FymSdRKB+ou7pGEPAXBeuYTopWJoFyC5avo4wqvcCjcAvpGN3G7iPcIsJvXysUA0IFGnrbzS7eQABMZkdAA4YOzG6BoHHwjzBgLSUZhFG5diRQxEzVy0QwIxJNc4RFtnCnAue6Woc13SmEm0dAYjUJNAnKkZ9PZIGroBcQHZHNBTg/JiiiYC7xJf8WW8vPU8KbYvoFNy34VSCdlVfqmUofkRzIkTcOv1apKCRbIB8I1s5DYSIgK6TpJpAUAnNUEdADgSf3AA7fgqKHiMx3tAA0yaCQI7dMGhbaQSo4J4yhOW4u0Z8C6CtNIcQWiWuK1jLsCDEQBqjVmOE50SqAElEO6LrAmoCGPvacgViNWceN4uvjNqiLW+4gWnPtCTIRfC8pwDWRHVZzwC7hADv2jCUBdIoibRMA4OXUxGJuDtQBsA38hGPjvk/PkDPP2lX4+zD7wZo9/79zh85jkB9ciBUzsS+JqIH/uok8+Jm6FrGkxCg1kjqQR8cJV3D6L2LVVjVBNH9LkGM0IsSafRmgrwgTTlk4Tka1X3oF4phme22rQFw6z9Rg2eKBdjGNCmLYhbUa1c0yUMgfXgMar1DviWL+KiEy9ec/0D+/XEJtgioVNAQMsdOmqTP/kyHnwD4BvZyG0kj3/sGfytZ3Zx34Pvwd9963lMH/kE/HSGZnKA9vAQjfdw29twTQM3PsRWO0Y7nsFvtXCNl2IDTJh7oVNCIHQ+Vu8JHLllgmPhxeFdokSyJq6+9OpFngEqQFw8Gw5geAFyIsn/Hd0dk1d3wYmX9ErOMxLAxKA6a2YycA65GXrxwAkeTC7lHq+PzcdkiMyh8/0YAesWWUwAuq+C+IAMe7rop6lkT3HSQ0j5aJbJBsA3spHbSLp5h4vnLmJ3bwsggj+UQhcILIWiJ4cCmLNDAa9uhsY1aMMMbTtB6zqMmw5Ai7YRztaH4ZBvjhXW5W8UmrgYMIWqCLHAr5InBIZPoCY8eUADzRoCqNdGVQu18goRjrh0Gczcd9SumXu/pfaicbUOP+qDaQzOWSN0f+j4OuBH+tfvk163Fau9i5+5SwZQRyFOhBsKZSMb+awScgTav4KrL1xCM27hWofxsS1MDg7R7mxjAoC2rqJtGjSTbQBAO5miHc/hRgGzZgwixtw3IGrQeclKaIsfB8S4nmjIFFqbhJrwQOsIbFLIBkfRdEnRoBfgyMFxzFgIRhOB12rFAsIK8Bl8Y8NFubi+xs0G1Ou8KHqMPVfOligUjaFboo830gSSQbjwQtG27IrBeqYAg1TKUIqBBM0sqwUxZgoFFWijgW9kI5+VwoHB27vYPn0M8/0p5vszuLZBczAFOYcQ/cTd9BAgQjOfom2mGDWHGDdbYEcYOSn03FADSW3NklrWnkco8PypGjhRDMuPmfkoG0Jtkd/ADlLGrIGD8dE2kZTCY3OpgQNJW2cD7OqpojKknddSBwSVfy/XvJcl5bJ/L+LMh7j+oTZk5xAdDPMV6gS5SDYAvpGN3IZy4cVL+N7L34QHv+3P4Gue+1488g9/EN1UMjP6wxncqEW7s43ReAKaHaJpRxgHCazhbYdRswUeEWZBQNwHl3jxVCIsVagvCyQLMJvOhCaF2RNxBHEGUYOGYgUeCnBw0eEwJH/tVDuSxOeijO4sw8pJtW2qALRIoGU1dB4MCAIs6IpRVvly5dDVka8+h82kWEiyRlaAW00udU6YoQlCtW9HHrQB8I1s5LNPDq4c4Od+4vextbOF9/yld6Kbfj9cO0czOgQAjK+K90lzsC/eKQdX0bgG3I4xbiVR18RNQI7RNQ3mkX5wmuVvYOXeK2RkwFaCMBWOjS8zu5TJMAOxQ8tdBHk22mpTADPHgKDMnyMDvtVeo6dLHRBUc9ZHzX2CCvCHwDv7rOcCEMW1Drgu1pPMUB80OGiVbAB8Ixu5jaWbd/jZl74YX/b9P4i7P/Er+Mz3/Ut0h3N0Mf3taD8C+eEB0I7QNCOM2jGIA7qtMVrXgVuC5wYz16JjJyHdTCZPClKUJhA9VlBp5Uzo4MSYGbXGJuZhifV9kqE0+YiDE7+tRSGKYB0wOEZd5kLJi9371Jcc2fba15QXCpeh+ZVHyXDloNqYmZN92bB724+hNLpDXjHSH1qZ/nED4BvZyG0s3bzDj/7QI/hRAH/jr34zzrgfw/xgjtmVQ3BgjK7uo2GG274qkZquQduMQGOPrWYE70ZAC3hu0JIE+3hu4KMPsg+NGDMjqHsutUwb7q2gTySUSmAk1zjNLR5AaCIYBzBaigZNzp4lQxJicEvtkKGxivJ3zlNSyzLtW4A3XpF6rVA2ftZAPOSFAvSDf6y2vgi4h1YHzASOlJRbzqBsAHwjG7ndRVPjPvLMMXzzX/k/on3uM7jw/t9AdzhDmM1BTYMwPYQbj0Fti6YdgThg7EYI7RhMDp5aOBfguUGHFp4bidwkjvUzBdSp0M7LftjvbHKoKEmivHLKB0JCw0gISzZwriPZK2QFwq3bXhWanxNnIYL5ck1+3SyIg0m6FtAoon77pW1vAHwjG/kskZ/5yU/iV/Y+H3/8T3wD3nfXJ/DyJ57E/OohgvdwkzEQAlw3h+s60HgLk24Gbsdot/YR3Aiz8S68G6FzY8zdBAEOHY/g2WHOIzAT5qGB+oAnegXyt4/cuVIsAoKAGgq1/Jhn4cFd4qzVu6W8nqBcOlmahEut24Bh4qkHwNZq0XVOFeWw5bs3PuY+/lZPLCkUaf2bY/pmgZs45Jkv0S8wGRJzTpghudYCGxvZyEZuMTncP8T55y/g4hVI9SIAzEFi5EOQYs3xH4VOACX4lAwlgWD9zxgaFUyd+fsosk4lmpyxbziJVC0Lw9zX5L+HuOxFPRsyOl6r9DxQ6mpF6NM1/TaOWgb5OoSIXgRwFcDtll3/LG6vPt9u/QU2fb4Rcrv1F9j0WeVBZr6j3nhDARwAiOi3h4pz3spyu/X5dusvsOnzjZDbrb/Aps+rZEOhbGQjG9nIbSobAN/IRjaykdtUbgaAf89NOOf1yu3W59utv8CmzzdCbrf+Aps+L5UbzoFvZCMb2chGXhnZUCgb2chGNnKbyg0FcCJ6LxE9SkSPEdF33shzryNE9Boi+mUi+hgR/T4R/eW4/TQR/QIRfSJ+nrrZfbVCRA0R/Q4R/ev4/Vbv70ki+jEi+ngc6y+5Dfr8V+Mz8VEi+hdEtHWr9ZmIvo+IXiCij5ptC/tIRN8V38VHiehrbpH+/v34XPweEf0EEZ28Vfq7qM/mt/+GiJiIzpptr2qfbxiAk9Rh+h8BfC2AhwH8OSJ6+Eadf03pAPzXzPwWAF8M4L+IffxOAL/EzG8E8Evx+60kfxnAx8z3W72//wjAzzHzmwG8E9L3W7bPRHQfgP8KwOcz89sANAC+Gbden78fwHurbYN9jM/1NwN4azzm/0vUq4jwasv3o9/fXwDwNmZ+B4A/APBdwC3TX2C4zyCi1wD44wCeMNte9T7fSA38CwE8xsyfYuYZgB8B8L4beP6VwszPMvOH4t+XIcByH6SfPxB3+wEA33hTOjggRHQ/gD8J4HvN5lu5v8cB/BEA/zMAMPOMmV/GLdznKC2AbSJqAewAeAa3WJ+Z+dcAnK82L+rj+wD8CDNPmfnTAB6DvKM3TIb6y8w/z8xd/PobAO6Pf9/0/sb+DY0xAPxDAH8NZajmq97nGwng9wF40nx/Km67JYWIHgLwbgAfAHAXMz8LCMgDuPMmdq2W/x7y4NiY21u5v68D8CKAfxppn+8lol3cwn1m5qcB/D8h2tWzAC4y88/jFu6zkUV9vB3ex78I4Gfj37dsf4noGwA8zcy/W/30qvf5RgL4UFKDW9IFhoiOAfhfAPwVZr50s/uzSIjo6wG8wMwfvNl9OYK0AD4XwP/EzO+GpFa42dTDUom88fsAvBbAvQB2iehbbm6vrltu6feRiP4mhNL8Yd00sNtN7y8R7QD4mwD+9tDPA9te0T7fSAB/CsBrzPf7IcvQW0qIaAQB7x9m5h+Pm58nonvi7/cAeOFm9a+S9wD4BiJ6HEJJ/VEi+iHcuv0F5Dl4ipk/EL//GATQb+U+/zEAn2bmF5l5DuDHAXwpbu0+qyzq4y37PhLRtwL4egB/gbOf863a39dDJvbfje/h/QA+RER34wb0+UYC+G8BeCMRvZaIxhBy/6du4PlXChERhJv9GDP/A/PTTwH41vj3twL4yRvdtyFh5u9i5vuZ+SHIeP47Zv4W3KL9BQBmfg7Ak0T0prjpqwE8glu4zxDq5IuJaCc+I18NsY/cyn1WWdTHnwLwzUQ0IaLXAngjgN+8Cf0rhIjeC+CvA/gGZt43P92S/WXmjzDzncz8UHwPnwLwufE5f/X7zMw37B+Ar4NYlj8J4G/eyHOv2b8vgyxxfg/Ah+O/rwNwBmLB/0T8PH2z+zrQ968E8K/j37d0fwG8C8Bvx3H+VwBO3QZ9/jsAPg7gowB+EMDkVuszgH8B4ejnECD5tmV9hCz9PwngUQBfe4v09zEIb6zv3z++Vfq7qM/V748DOHuj+ryJxNzIRjaykdtUNpGYG9nIRjZym8oGwDeykY1s5DaVDYBvZCMb2chtKhsA38hGNrKR21Q2AL6RjWxkI7epbAB8IxvZyEZuU9kA+EY2spGN3KayAfCNbGQjG7lN5f8PayyvH9lq6uoAAAAASUVORK5CYII=\n",
      "text/plain": [
       "<Figure size 432x288 with 1 Axes>"
      ]
     },
     "metadata": {
      "needs_background": "light"
     },
     "output_type": "display_data"
    }
   ],
   "source": [
    "plt.imshow(X_train[1094], cmap='coolwarm')\n",
    "plt.show()"
   ]
  },
  {
   "cell_type": "markdown",
   "id": "24e0b5c7-97e3-4413-aea3-f9e4a58786da",
   "metadata": {},
   "source": [
    "## Generate dataset"
   ]
  },
  {
   "cell_type": "code",
   "execution_count": 62,
   "id": "fef526d5-7318-4b9b-bd7d-35acf17cf00c",
   "metadata": {},
   "outputs": [],
   "source": [
    "class OceanToOcean(Dataset):\n",
    "    def __init__(self, prediction_length, partition_name='train'):\n",
    "        self.ocean_array = np.load(f\"/home/156/cn1951/kae-cyclones/input/sstday_{partition_name}.npy\")\n",
    "        self.prediction_length = prediction_length\n",
    "    \n",
    "    def __len__(self):\n",
    "        return self.ocean_array.shape[0]\n",
    "    \n",
    "    def __getitem__(self, idx):\n",
    "        i = 0\n",
    "        for ocean_run in self.ocean_array:\n",
    "            j = self.prediction_length\n",
    "            for time_step in ocean_run[self.prediction_length:-self.prediction_length]:\n",
    "                if i == idx:\n",
    "                    return torch.from_numpy(ocean_run[j-self.prediction_length:j+self.prediction_length]), torch.from_numpy(np.flip(ocean_run[j-self.prediction_length:j+self.prediction_length], 0).copy())\n",
    "                j += 1\n",
    "                i += 1"
   ]
  },
  {
   "cell_type": "code",
   "execution_count": 63,
   "id": "c4adb14f-e22c-42dc-b0df-3a6ded387d81",
   "metadata": {},
   "outputs": [],
   "source": [
    "def generate_ocean_ds():\n",
    "    train_ds = OceanToOcean(4, 'train')\n",
    "    val_ds = OceanToOcean(4, 'valid')\n",
    "    test_ds = OceanToOcean(4, 'test')\n",
    "\n",
    "    return train_ds, val_ds, test_ds"
   ]
  },
  {
   "cell_type": "code",
   "execution_count": 68,
   "id": "8b265b72-bf67-4ea2-b6e1-aea15b175718",
   "metadata": {},
   "outputs": [],
   "source": [
    "train_ds, val_ds, test_ds = generate_ocean_ds()\n",
    "loader = torch.utils.data.DataLoader(train_ds, batch_size=64, num_workers=8, pin_memory=True, shuffle=True)\n",
    "val_loader = torch.utils.data.DataLoader(val_ds, batch_size=64, num_workers=8, pin_memory=True, shuffle=True)\n",
    "input_size = 2\n",
    "alpha = 4\n",
    "beta = 4\n",
    "learning_rate = 1e-4"
   ]
  },
  {
   "cell_type": "code",
   "execution_count": 76,
   "id": "c5f61ce8-5d47-4630-a05c-3e7d87c3611b",
   "metadata": {},
   "outputs": [
    {
     "data": {
      "text/plain": [
       "torch.Size([64, 8, 150])"
      ]
     },
     "execution_count": 76,
     "metadata": {},
     "output_type": "execute_result"
    }
   ],
   "source": [
    "img, output = next(iter(loader))\n",
    "img.shape"
   ]
  },
  {
   "cell_type": "markdown",
   "id": "f8f1effd-0247-4478-8936-973038f5904b",
   "metadata": {},
   "source": [
    "## Load trained model"
   ]
  },
  {
   "cell_type": "code",
   "execution_count": 31,
   "id": "2b950d50-f2d0-4da4-a584-ed757ca662a8",
   "metadata": {},
   "outputs": [],
   "source": [
    "from models import *"
   ]
  },
  {
   "cell_type": "code",
   "execution_count": 41,
   "id": "ab70754c-cf6c-4eb9-9ef8-86a65981375e",
   "metadata": {},
   "outputs": [
    {
     "name": "stdout",
     "output_type": "stream",
     "text": [
      "In eigen initialisation\n",
      "[ 1.9000695 -1.3011057j  -0.17601435+0.601464j   -0.84215266+0.43585145j\n",
      " -1.7740891 -0.90613854j  0.8458511 -1.5421984j   1.9230328 -1.2858156j\n",
      "  1.5648412 -0.8380359j   0.09560107-0.8313264j   1.6201988 -1.8076323j\n",
      "  0.94429475-0.21173549j  0.4252935 -1.0833628j   0.6704159 -0.9004774j\n",
      "  0.3741784 +1.1069468j   0.715604  -0.7500341j  -0.45531556+1.2417898j\n",
      "  0.57926095-1.3242528j ]\n"
     ]
    },
    {
     "data": {
      "text/plain": [
       "koopmanAE(\n",
       "  (encoder): encoderNetSimple(\n",
       "    (fc1): Linear(in_features=150, out_features=256, bias=True)\n",
       "    (fc2): Linear(in_features=256, out_features=256, bias=True)\n",
       "    (fc3): Linear(in_features=256, out_features=16, bias=True)\n",
       "  )\n",
       "  (decoder): decoderNetSimple(\n",
       "    (fc1): Linear(in_features=16, out_features=256, bias=True)\n",
       "    (fc2): Linear(in_features=256, out_features=256, bias=True)\n",
       "    (fc3): Linear(in_features=256, out_features=150, bias=True)\n",
       "  )\n",
       "  (dynamics): dynamics(\n",
       "    (dynamics): Linear(in_features=16, out_features=16, bias=False)\n",
       "  )\n",
       "  (backdynamics): dynamics_back(\n",
       "    (dynamics): Linear(in_features=16, out_features=16, bias=False)\n",
       "  )\n",
       ")"
      ]
     },
     "execution_count": 41,
     "metadata": {},
     "output_type": "execute_result"
    }
   ],
   "source": [
    "saved_models_path = '/home/156/cn1951/kae-cyclones/saved_models/ELEI-eigenloss_and_eigeninit-final.pt'\n",
    "\n",
    "model = koopmanAE(b=16, steps=4, steps_back=4, alpha=16, eigen_init=True, input_size=150).to(0)\n",
    "model.load_state_dict(torch.load(saved_models_path))\n",
    "model.eval()"
   ]
  },
  {
   "cell_type": "code",
   "execution_count": 45,
   "id": "b49cb91b-c20b-4cef-85c6-9170298fa300",
   "metadata": {},
   "outputs": [
    {
     "data": {
      "text/plain": [
       "torch.Size([8, 150])"
      ]
     },
     "execution_count": 45,
     "metadata": {},
     "output_type": "execute_result"
    }
   ],
   "source": [
    "train_ds, val_ds, test_ds = generate_ocean_ds()\n",
    "loader = torch.utils.data.DataLoader(train_ds, batch_size=64, num_workers=8, pin_memory=True, shuffle=True)\n",
    "val_loader = torch.utils.data.DataLoader(val_ds, batch_size=64, num_workers=8, pin_memory=True, shuffle=True)\n",
    "\n",
    "img, new = next(iter(loader))\n",
    "#plt.imshow(img, cmap='coolwarm')\n",
    "img[0].shape"
   ]
  },
  {
   "cell_type": "markdown",
   "id": "290537af-c063-4564-8dc6-4b6e7fa595c6",
   "metadata": {},
   "source": [
    "## Plotting results"
   ]
  },
  {
   "cell_type": "code",
   "execution_count": 6,
   "id": "4fc3fb3f-4690-4294-870e-e088ab1bf93a",
   "metadata": {},
   "outputs": [],
   "source": [
    "import pandas as pd\n",
    "import matplotlib as mpl\n",
    "import matplotlib.pyplot as plt\n",
    "import numpy as np\n",
    "from pylab import cm"
   ]
  },
  {
   "cell_type": "code",
   "execution_count": 3,
   "id": "92850569-5007-4adf-88fd-5ed9987accb5",
   "metadata": {},
   "outputs": [],
   "source": [
    "# forward losses\n",
    "path = '/home/156/cn1951/kae-cyclones/results/wandb_export_2022-07-05T20.csv'\n",
    "df = pd.read_csv(path)"
   ]
  },
  {
   "cell_type": "code",
   "execution_count": 4,
   "id": "86a463cc-ba0b-4815-85ac-df2c6e917e20",
   "metadata": {},
   "outputs": [],
   "source": [
    "regular = df['initial_run_ocean-ocean - forward loss'].to_numpy()\n",
    "eigenloss = df['eigenloss_only-ocean - forward loss'].to_numpy()\n",
    "eigeninit = df['eigen_init_vanilla-ocean - forward loss'].to_numpy()\n",
    "both = df['eigenloss_and_eigeninit-ocean - forward loss'].to_numpy()"
   ]
  },
  {
   "cell_type": "code",
   "execution_count": 5,
   "id": "590e490e-d195-4048-907b-4ad0bd000201",
   "metadata": {},
   "outputs": [
    {
     "data": {
      "image/png": "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",
      "text/plain": [
       "<Figure size 432x288 with 1 Axes>"
      ]
     },
     "metadata": {
      "needs_background": "light"
     },
     "output_type": "display_data"
    }
   ],
   "source": [
    "plt.loglog(df.Step, regular)\n",
    "plt.loglog(df.Step, eigenloss)\n",
    "plt.loglog(df.Step, eigeninit)\n",
    "plt.loglog(df.Step, both)\n",
    "plt.xlabel(\"Epoch\")\n",
    "plt.ylabel(\"Mean squared error (MSE)\")\n",
    "plt.show()"
   ]
  },
  {
   "cell_type": "code",
   "execution_count": 7,
   "id": "8af6a0d2-991a-4d6f-8dfe-b004b015880c",
   "metadata": {},
   "outputs": [],
   "source": [
    "# Edit the font, font size, and axes widthmpl.rcParams['font.family'] = 'Avenir'\n",
    "plt.rcParams['font.size'] = 18\n",
    "plt.rcParams['axes.linewidth'] = 2"
   ]
  },
  {
   "cell_type": "code",
   "execution_count": 35,
   "id": "94eb462f-b612-4c11-9620-11f753600bb8",
   "metadata": {},
   "outputs": [],
   "source": [
    "# Generate 2 colors from the 'tab10' colormap\n",
    "colours_low = cm.get_cmap('tab10', 2)\n",
    "colours_high = cm.get_cmap('plasma', 2)"
   ]
  },
  {
   "cell_type": "code",
   "execution_count": 36,
   "id": "8cf7cbe9-8e62-4636-95f2-26c1929c4f3d",
   "metadata": {},
   "outputs": [],
   "source": [
    "regular = regular[:50]\n",
    "eigenloss = eigenloss[:50]\n",
    "eigeninit = eigeninit[:50]\n",
    "both = both[:50]\n",
    "steps = df[\"Step\"].iloc[:50]"
   ]
  },
  {
   "cell_type": "code",
   "execution_count": 47,
   "id": "efc47dd0-2167-4597-be13-fde939bd4422",
   "metadata": {},
   "outputs": [
    {
     "data": {
      "image/png": "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\n",
      "text/plain": [
       "<Figure size 432x216 with 1 Axes>"
      ]
     },
     "metadata": {
      "needs_background": "light"
     },
     "output_type": "display_data"
    }
   ],
   "source": [
    "import warnings\n",
    "warnings.filterwarnings(\"ignore\")\n",
    "\n",
    "# Create figure object and store it in a variable called 'fig'\n",
    "fig = plt.figure(figsize=(6, 3))\n",
    "\n",
    "# Add axes object to our figure that takes up entire figure\n",
    "ax = fig.add_axes([0, 0, 1, 1])\n",
    "\n",
    "# Edit the major and minor ticks of the x and y axes\n",
    "ax.xaxis.set_tick_params(which='major', size=10, width=2, direction='in')\n",
    "ax.xaxis.set_tick_params(which='minor', size=7, width=2, direction='in')\n",
    "ax.yaxis.set_tick_params(which='major', size=10, width=2, direction='in')\n",
    "ax.yaxis.set_tick_params(which='minor', size=7, width=2, direction='in')\n",
    "\n",
    "# Plot the two sample absorbances, using previously generated colors\n",
    "ax.plot(steps, eigeninit, linewidth=2, color=colours_low(0), label='Eigeninit')\n",
    "ax.plot(steps, both, linewidth=2, color=colours_low(1), label='Both')\n",
    "\n",
    "# Edit the major and minor tick locations of x and y axes\n",
    "y_max = max(np.max(eigeninit), np.max(both))\n",
    "ax.xaxis.set_major_locator(mpl.ticker.MultipleLocator(25))\n",
    "ax.xaxis.set_minor_locator(mpl.ticker.MultipleLocator(12.5))\n",
    "ax.yaxis.set_major_locator(mpl.ticker.MultipleLocator(0.0025))\n",
    "ax.yaxis.set_minor_locator(mpl.ticker.MultipleLocator(0.00125))\n",
    "\n",
    "# Add the x and y-axis labels\n",
    "ax.set_xlabel(\"Epoch\", labelpad=10)\n",
    "ax.set_ylabel('MSE', labelpad=10)\n",
    "\n",
    "# Set the axis limits\n",
    "ax.set_xlim(0, 100)\n",
    "ax.set_ylim(0, 0.005)\n",
    "\n",
    "# Add legend to plot\n",
    "ax.legend(bbox_to_anchor=(1, 1), loc=1, frameon=False, fontsize=16)\n",
    "\n",
    "# Save figure\n",
    "plt.savefig('training_better.png', dpi=300, transparent=False, bbox_inches='tight')\n",
    "\n",
    "# Show figure\n",
    "plt.show()"
   ]
  },
  {
   "cell_type": "code",
   "execution_count": 48,
   "id": "95b6436b-c1f8-4f4a-9391-bd13e8fbead1",
   "metadata": {},
   "outputs": [
    {
     "data": {
      "image/png": "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\n",
      "text/plain": [
       "<Figure size 432x216 with 1 Axes>"
      ]
     },
     "metadata": {
      "needs_background": "light"
     },
     "output_type": "display_data"
    }
   ],
   "source": [
    "\n",
    "# Create figure object and store it in a variable called 'fig'\n",
    "fig = plt.figure(figsize=(6, 3))\n",
    "\n",
    "# Add axes object to our figure that takes up entire figure\n",
    "ax = fig.add_axes([0, 0, 1, 1])\n",
    "\n",
    "# Edit the major and minor ticks of the x and y axes\n",
    "ax.xaxis.set_tick_params(which='major', size=10, width=2, direction='in')\n",
    "ax.xaxis.set_tick_params(which='minor', size=7, width=2, direction='in')\n",
    "ax.yaxis.set_tick_params(which='major', size=10, width=2, direction='in')\n",
    "ax.yaxis.set_tick_params(which='minor', size=7, width=2, direction='in')\n",
    "\n",
    "# Plot the two sample absorbances, using previously generated colors\n",
    "ax.plot(steps, eigenloss, linewidth=2, color=colours_high(0), label='Eigenloss')\n",
    "ax.plot(steps, regular, linewidth=2, color=colours_high(1), label='Regular')\n",
    "\n",
    "# Edit the major and minor tick locations of x and y axes\n",
    "y_max = max(np.max(eigeninit), np.max(both))\n",
    "ax.xaxis.set_major_locator(mpl.ticker.MultipleLocator(25))\n",
    "ax.xaxis.set_minor_locator(mpl.ticker.MultipleLocator(12.5))\n",
    "ax.yaxis.set_major_locator(mpl.ticker.MultipleLocator(2.5))\n",
    "ax.yaxis.set_minor_locator(mpl.ticker.MultipleLocator(1.25))\n",
    "\n",
    "# Add the x and y-axis labels\n",
    "ax.set_xlabel(\"Epoch\", labelpad=10)\n",
    "ax.set_ylabel('MSE', labelpad=10)\n",
    "\n",
    "# Set the axis limits\n",
    "ax.set_xlim(0, 100)\n",
    "ax.set_ylim(0, 5)\n",
    "\n",
    "# Add legend to plot\n",
    "ax.legend(bbox_to_anchor=(1, 1), loc=1, frameon=False, fontsize=16)\n",
    "\n",
    "# Save figure\n",
    "plt.savefig('training_worse.png', dpi=300, transparent=False, bbox_inches='tight')\n",
    "\n",
    "# Show figure\n",
    "plt.show()"
   ]
  },
  {
   "cell_type": "code",
   "execution_count": null,
   "id": "8f9cf5bd-7be3-4fd9-8bee-a76d0a9b6718",
   "metadata": {},
   "outputs": [],
   "source": []
  },
  {
   "cell_type": "code",
   "execution_count": null,
   "id": "c20138ae-31e7-42f0-b486-af7bce2fe2f2",
   "metadata": {},
   "outputs": [],
   "source": []
  }
 ],
 "metadata": {
  "kernelspec": {
   "display_name": "Python [conda env:analysis3]",
   "language": "python",
   "name": "conda-env-analysis3-py"
  },
  "language_info": {
   "codemirror_mode": {
    "name": "ipython",
    "version": 3
   },
   "file_extension": ".py",
   "mimetype": "text/x-python",
   "name": "python",
   "nbconvert_exporter": "python",
   "pygments_lexer": "ipython3",
   "version": "3.9.12"
  }
 },
 "nbformat": 4,
 "nbformat_minor": 5
}
