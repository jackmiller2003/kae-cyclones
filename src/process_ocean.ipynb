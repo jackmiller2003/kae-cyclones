{
 "cells": [
  {
   "cell_type": "code",
   "execution_count": 1,
   "id": "b8b04c35-fe1b-48d5-bf87-93b4b85d2347",
   "metadata": {},
   "outputs": [],
   "source": [
    "import os\n",
    "import numpy as np\n",
    "import matplotlib.pyplot as plt\n",
    "import torch\n",
    "from torch.utils.data import Dataset\n",
    "from torch.utils.data import DataLoader\n",
    "import json\n",
    "import xarray\n",
    "from pathlib import Path\n",
    "import dask\n",
    "from tqdm import tqdm"
   ]
  },
  {
   "cell_type": "markdown",
   "id": "0182304a-7521-498e-b6da-04c8dfa8ce14",
   "metadata": {},
   "source": [
    "## Preprocess"
   ]
  },
  {
   "cell_type": "code",
   "execution_count": null,
   "id": "1e93fc53-5144-41e3-bbbc-48c24e09ff54",
   "metadata": {},
   "outputs": [],
   "source": [
    "prefix = '/g/data/x77/jm0124/ocean'\n",
    "\n",
    "def sst():\n",
    "    prefix = '/g/data/x77/jm0124/ocean'\n",
    "    #path = '/home/156/cn1951/kae-cyclones/input/sstday.npy'\n",
    "    path = '/g/data/x77/jm0124/ocean/sstday.npy'\n",
    "    X = np.load(path)\n",
    "    t, m, n = X.shape\n",
    "    indices = range(3600)\n",
    "    training_idx, valid_idx, test_idx = indices[220:1315], indices[1315:2557], indices[2557:2922] # 6 years\n",
    "    \n",
    "    # mean subtract\n",
    "    X = X.reshape(-1,m*n)\n",
    "    X -= X.mean(axis=0)    \n",
    "    \n",
    "    # scale \n",
    "    X = X.reshape(-1,m*n)\n",
    "    X = 2 * (X - np.min(X)) / np.ptp(X) - 1\n",
    "    X = X.reshape(-1,m,n) \n",
    "    \n",
    "    # split into train, valid and test set\n",
    "    \n",
    "    X_train = X[training_idx]  \n",
    "    X_valid = X[valid_idx]\n",
    "    X_test = X[test_idx]\n",
    "    \n",
    "    np.save(f'{prefix}/sstday_train.npy', X_train)\n",
    "    np.save(f'{prefix}/sstday_valid.npy', X_valid)\n",
    "    np.save(f'{prefix}/sstday_test.npy', X_test)\n",
    "\n",
    "    return X_train, X_valid, X_test, m, n"
   ]
  },
  {
   "cell_type": "code",
   "execution_count": null,
   "id": "b74d61eb-524a-4d3a-bd39-7300dd707074",
   "metadata": {},
   "outputs": [],
   "source": [
    "sst()"
   ]
  },
  {
   "cell_type": "code",
   "execution_count": null,
   "id": "480414d0-858e-47e5-a921-96fbf1e3917a",
   "metadata": {},
   "outputs": [],
   "source": [
    "path = f'{prefix}/sstday_train.npy'\n",
    "X_train = np.load(path)"
   ]
  },
  {
   "cell_type": "code",
   "execution_count": null,
   "id": "ec784083-c129-455f-90d9-adc89f0db0ec",
   "metadata": {},
   "outputs": [],
   "source": [
    "plt.imshow(X_train[1094], cmap='coolwarm')\n",
    "plt.show()"
   ]
  },
  {
   "cell_type": "markdown",
   "id": "86c8f99f-f5ce-44de-9312-4c10d45232ad",
   "metadata": {},
   "source": [
    "## Generate dataset"
   ]
  },
  {
   "cell_type": "code",
   "execution_count": 6,
   "id": "65594b2f-6087-4b1e-b528-bbb504fac4b9",
   "metadata": {},
   "outputs": [],
   "source": [
    "class OceanToOcean(Dataset):\n",
    "    def __init__(self, prediction_length, partition_name='train'):\n",
    "        self.ocean_array = np.load(f\"/home/156/cn1951/kae-cyclones/input/sstday_{partition_name}.npy\")\n",
    "        self.prediction_length = prediction_length\n",
    "    \n",
    "    def __len__(self):\n",
    "        return self.ocean_array.shape[0]\n",
    "    \n",
    "    def __getitem__(self, idx):\n",
    "        i = 0\n",
    "        for ocean_run in self.ocean_array:\n",
    "            j = self.prediction_length\n",
    "            for time_step in ocean_run[self.prediction_length:-self.prediction_length]:\n",
    "                if i == idx:\n",
    "                    return torch.from_numpy(ocean_run[j-self.prediction_length:j+self.prediction_length]), torch.from_numpy(np.flip(ocean_run[j-self.prediction_length:j+self.prediction_length], 0).copy())\n",
    "                j += 1\n",
    "                i += 1"
   ]
  },
  {
   "cell_type": "code",
   "execution_count": 7,
   "id": "c2d7f3cb-c5b9-4287-812b-8a0139ed9f48",
   "metadata": {},
   "outputs": [],
   "source": [
    "def generate_ocean_ds():\n",
    "    train_ds = OceanToOcean(4, 'train')\n",
    "    val_ds = OceanToOcean(4, 'valid')\n",
    "    test_ds = OceanToOcean(4, 'test')\n",
    "\n",
    "    return train_ds, val_ds, test_ds"
   ]
  },
  {
   "cell_type": "code",
   "execution_count": null,
   "id": "63c2afc7-83f5-4890-856b-083e032ae6bf",
   "metadata": {},
   "outputs": [],
   "source": [
    "train_ds, val_ds, test_ds = generate_ocean_ds()\n",
    "loader = torch.utils.data.DataLoader(train_ds, batch_size=64, num_workers=8, pin_memory=True, shuffle=True)\n",
    "val_loader = torch.utils.data.DataLoader(val_ds, batch_size=64, num_workers=8, pin_memory=True, shuffle=True)\n",
    "input_size = 2\n",
    "alpha = 4\n",
    "beta = 4\n",
    "learning_rate = 1e-4"
   ]
  },
  {
   "cell_type": "code",
   "execution_count": null,
   "id": "d45e1df6-3daf-404d-baac-9c1e6ad060fa",
   "metadata": {},
   "outputs": [],
   "source": [
    "img, output = next(iter(loader))\n",
    "img.shape"
   ]
  },
  {
   "cell_type": "markdown",
   "id": "6e8e1f45-e4fa-49f5-b177-60ddb57c71da",
   "metadata": {},
   "source": [
    "## Load trained model"
   ]
  },
  {
   "cell_type": "code",
   "execution_count": 8,
   "id": "b13cb538-790d-496a-b416-662237f9e285",
   "metadata": {},
   "outputs": [],
   "source": [
    "from models import *"
   ]
  },
  {
   "cell_type": "code",
   "execution_count": null,
   "id": "579f8c30-996a-4131-889a-f1cc556a33db",
   "metadata": {},
   "outputs": [],
   "source": [
    "saved_models_path = '/home/156/cn1951/kae-cyclones/saved_models/ELEI-eigenloss_and_eigeninit-final.pt'\n",
    "\n",
    "model = koopmanAE(b=16, steps=4, steps_back=4, alpha=16, eigen_init=True, input_size=150).to(0)\n",
    "model.load_state_dict(torch.load(saved_models_path))\n",
    "model.eval()"
   ]
  },
  {
   "cell_type": "markdown",
   "id": "3525d857-9b53-4076-ac50-ba412d5f63ce",
   "metadata": {},
   "source": [
    "## Plotting results"
   ]
  },
  {
   "cell_type": "code",
   "execution_count": 9,
   "id": "514d94c9-71d3-4469-9d61-6678ad0e4c83",
   "metadata": {},
   "outputs": [],
   "source": [
    "import pandas as pd"
   ]
  },
  {
   "cell_type": "code",
   "execution_count": null,
   "id": "3ae34658-9eb8-4aa2-b93e-5a32592c1a8f",
   "metadata": {},
   "outputs": [],
   "source": [
    "# forward losses\n",
    "path = '/home/156/cn1951/kae-cyclones/results/wandb_export_2022-07-05T20.csv'\n",
    "df = pd.read_csv(path)\n",
    "df.columns"
   ]
  },
  {
   "cell_type": "code",
   "execution_count": null,
   "id": "7d29a66d-52e2-4a8f-8f00-7626a3da1d6a",
   "metadata": {},
   "outputs": [],
   "source": [
    "regular = df['initial_run_ocean-ocean - forward loss'].to_numpy()\n",
    "eigenloss = df['eigenloss_only-ocean - forward loss'].to_numpy()\n",
    "eigeninit = df['eigen_init_vanilla-ocean - forward loss'].to_numpy()\n",
    "both = df['eigenloss_and_eigeninit-ocean - forward loss'].to_numpy()"
   ]
  },
  {
   "cell_type": "code",
   "execution_count": null,
   "id": "6c7869c0-cd23-431f-b1c3-ac2b77f94483",
   "metadata": {},
   "outputs": [],
   "source": [
    "plt.loglog(df.Step, regular)\n",
    "plt.loglog(df.Step, eigenloss)\n",
    "plt.loglog(df.Step, eigeninit)\n",
    "plt.loglog(df.Step, both)\n",
    "plt.xlabel(\"Epoch\")\n",
    "plt.ylabel(\"Mean squared error (MSE)\")\n",
    "plt.show()"
   ]
  }
 ],
 "metadata": {
  "kernelspec": {
   "display_name": "Python [conda env:analysis3]",
   "language": "python",
   "name": "conda-env-analysis3-py"
  },
  "language_info": {
   "codemirror_mode": {
    "name": "ipython",
    "version": 3
   },
   "file_extension": ".py",
   "mimetype": "text/x-python",
   "name": "python",
   "nbconvert_exporter": "python",
   "pygments_lexer": "ipython3",
   "version": "3.9.12"
  }
 },
 "nbformat": 4,
 "nbformat_minor": 5
}
