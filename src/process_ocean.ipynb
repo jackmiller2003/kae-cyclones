{
 "cells": [
  {
   "cell_type": "code",
   "execution_count": 1,
   "id": "b7a29197-8e8c-49ec-a3f2-98f552b6c983",
   "metadata": {},
   "outputs": [],
   "source": [
    "import os\n",
    "import numpy as np\n",
    "import matplotlib.pyplot as plt\n",
    "import torch\n",
    "from torch.utils.data import Dataset\n",
    "from torch.utils.data import DataLoader\n",
    "import json\n",
    "import xarray\n",
    "from pathlib import Path\n",
    "import dask\n",
    "from tqdm import tqdm"
   ]
  },
  {
   "cell_type": "markdown",
   "id": "a3390975-098a-4c65-b672-67a97d13e4bf",
   "metadata": {},
   "source": [
    "## Preprocess"
   ]
  },
  {
   "cell_type": "code",
   "execution_count": 9,
   "id": "9601f5b3-d7d8-4371-80f1-a59940de95bf",
   "metadata": {},
   "outputs": [],
   "source": [
    "prefix = '/g/data/x77/jm0124/ocean'\n",
    "\n",
    "def sst():\n",
    "    prefix = '/g/data/x77/jm0124/ocean'\n",
    "    # path = '/home/156/cn1951/kae-cyclones/input/sstday.npy'\n",
    "    path = '/g/data/x77/jm0124/ocean/sstday.npy'\n",
    "    X = np.load(path)\n",
    "    t, m, n = X.shape\n",
    "    indices = range(3600)\n",
    "    training_idx, valid_idx, test_idx = indices[220:1315], indices[1315:2557], indices[2557:2922] # 6 years\n",
    "    \n",
    "    # mean subtract\n",
    "    X = X.reshape(-1,m*n)\n",
    "    X -= X.mean(axis=0)    \n",
    "    \n",
    "    # scale \n",
    "    X = X.reshape(-1,m*n)\n",
    "    X = 2 * (X - np.min(X)) / np.ptp(X) - 1\n",
    "    X = X.reshape(-1,m,n) \n",
    "    \n",
    "    # split into train, valid and test set\n",
    "    \n",
    "    X_train = X[training_idx]  \n",
    "    X_valid = X[valid_idx]\n",
    "    X_test = X[test_idx]\n",
    "    \n",
    "    np.save(f'{prefix}/sstday_train.npy', X_train)\n",
    "    np.save(f'{prefix}/sstday_valid.npy', X_valid)\n",
    "    np.save(f'{prefix}/sstday_test.npy', X_test)\n",
    "\n",
    "    return X_train, X_valid, X_test, m, n"
   ]
  },
  {
   "cell_type": "code",
   "execution_count": 10,
   "id": "cc2970ae-43e0-4c22-bb5f-599d9fcf0fbb",
   "metadata": {},
   "outputs": [
    {
     "data": {
      "text/plain": [
       "(array([[[0.2610705 , 0.27098513, 0.2774123 , ..., 0.2708447 ,\n",
       "          0.2725873 , 0.2730229 ],\n",
       "         [0.26274228, 0.2722441 , 0.27820063, ..., 0.26982963,\n",
       "          0.27314556, 0.27748108],\n",
       "         [0.26836777, 0.27740026, 0.2815336 , ..., 0.275033  ,\n",
       "          0.27932715, 0.28374207],\n",
       "         ...,\n",
       "         [0.20286238, 0.20286238, 0.20286238, ..., 0.47588623,\n",
       "          0.47862363, 0.4763602 ],\n",
       "         [0.20286238, 0.20286238, 0.20286238, ..., 0.48712564,\n",
       "          0.48646808, 0.48315907],\n",
       "         [0.20286238, 0.20286238, 0.20286238, ..., 0.48575592,\n",
       "          0.48911333, 0.49041247]],\n",
       " \n",
       "        [[0.27239287, 0.2777785 , 0.2804314 , ..., 0.25121927,\n",
       "          0.24918807, 0.24811387],\n",
       "         [0.27708375, 0.28054714, 0.28197467, ..., 0.25322354,\n",
       "          0.2535205 , 0.25483668],\n",
       "         [0.28270924, 0.28570318, 0.2868173 , ..., 0.25842726,\n",
       "          0.2612114 , 0.26260698],\n",
       "         ...,\n",
       "         [0.20286238, 0.20286238, 0.20286238, ..., 0.4751315 ,\n",
       "          0.47786868, 0.47711492],\n",
       "         [0.20286238, 0.20286238, 0.20286238, ..., 0.47580326,\n",
       "          0.47816503, 0.47787535],\n",
       "         [0.20286238, 0.20286238, 0.20286238, ..., 0.47216928,\n",
       "          0.47477186, 0.47531617]],\n",
       " \n",
       "        [[0.27692163, 0.27853322, 0.27892172, ..., 0.22631037,\n",
       "          0.23333704, 0.24132049],\n",
       "         [0.2808578 , 0.2820568 , 0.28121996, ..., 0.22378576,\n",
       "          0.23615944, 0.24502397],\n",
       "         [0.28723824, 0.28872263, 0.28757226, ..., 0.22898936,\n",
       "          0.24762464, 0.25732327],\n",
       "         ...,\n",
       "         [0.20286238, 0.20286238, 0.20286238, ..., 0.49249232,\n",
       "          0.4974941 , 0.49674034],\n",
       "         [0.20286238, 0.20286238, 0.20286238, ..., 0.49165475,\n",
       "          0.49854517, 0.49750078],\n",
       "         [0.20286238, 0.20286238, 0.20286238, ..., 0.4872656 ,\n",
       "          0.49439728, 0.4949416 ]],\n",
       " \n",
       "        ...,\n",
       " \n",
       "        [[0.21049786, 0.19550335, 0.17173767, ..., 0.28594077,\n",
       "          0.27862597, 0.27528727],\n",
       "         [0.22651112, 0.21789742, 0.19743526, ..., 0.2834164 ,\n",
       "          0.2814486 , 0.27370703],\n",
       "         [0.25176167, 0.24871731, 0.23699927, ..., 0.27578807,\n",
       "          0.27555275, 0.27392936],\n",
       "         ...,\n",
       "         [0.20286238, 0.20286238, 0.20286238, ..., 0.5657095 ,\n",
       "          0.55787945, 0.547313  ],\n",
       "         [0.20286238, 0.20286238, 0.20286238, ..., 0.5746845 ,\n",
       "          0.5679885 , 0.5593958 ],\n",
       "         [0.20286238, 0.20286238, 0.20286238, ..., 0.5793532 ,\n",
       "          0.5759175 , 0.5689137 ]],\n",
       " \n",
       "        [[0.20219481, 0.1917293 , 0.1724925 , ..., 0.26329637,\n",
       "          0.25069773, 0.2383014 ],\n",
       "         [0.21367908, 0.20883965, 0.1936611 , ..., 0.26454604,\n",
       "          0.25125587, 0.23747587],\n",
       "         [0.23440099, 0.23362088, 0.22718656, ..., 0.26295602,\n",
       "          0.2491343 , 0.2376982 ],\n",
       "         ...,\n",
       "         [0.20286238, 0.20286238, 0.20286238, ..., 0.55514205,\n",
       "          0.5488218 , 0.5405196 ],\n",
       "         [0.20286238, 0.20286238, 0.20286238, ..., 0.56562686,\n",
       "          0.5589305 , 0.5533571 ],\n",
       "         [0.20286238, 0.20286238, 0.20286238, ..., 0.5733148 ,\n",
       "          0.56761444, 0.5628749 ]],\n",
       " \n",
       "        [[0.18936288, 0.18267143, 0.16947329, ..., 0.2708447 ,\n",
       "          0.26805854, 0.26094592],\n",
       "         [0.19178939, 0.18921435, 0.18233883, ..., 0.27284896,\n",
       "          0.26786184, 0.26163006],\n",
       "         [0.19892454, 0.20116365, 0.20152283, ..., 0.2697494 ,\n",
       "          0.26423073, 0.25732327],\n",
       "         ...,\n",
       "         [0.20286238, 0.20286238, 0.20286238, ..., 0.58684456,\n",
       "          0.58052397, 0.5692028 ],\n",
       "         [0.20286238, 0.20286238, 0.20286238, ..., 0.5965743 ,\n",
       "          0.5913876 , 0.58355   ],\n",
       "         [0.20286238, 0.20286238, 0.20286238, ..., 0.6019976 ,\n",
       "          0.5978073 , 0.59306777]]], dtype=float32),\n",
       " array([[[0.18860805, 0.1841811 , 0.17551184, ..., 0.28518605,\n",
       "          0.2846644 , 0.28057098],\n",
       "         [0.18726051, 0.18468523, 0.18460333, ..., 0.28794515,\n",
       "          0.28597736, 0.2827648 ],\n",
       "         [0.17477036, 0.18153834, 0.18944585, ..., 0.28861976,\n",
       "          0.28461075, 0.27845836],\n",
       "         ...,\n",
       "         [0.20286238, 0.20286238, 0.20286238, ..., 0.6245854 ,\n",
       "          0.6235485 , 0.609208  ],\n",
       "         [0.20286238, 0.20286238, 0.20286238, ..., 0.6388439 ,\n",
       "          0.6374316 , 0.62959385],\n",
       "         [0.20286238, 0.20286238, 0.20286238, ..., 0.6420032 ,\n",
       "          0.6400769 , 0.633073  ]],\n",
       " \n",
       "        [[0.19087255, 0.1864456 , 0.18004072, ..., 0.28971505,\n",
       "          0.29145777, 0.29264808],\n",
       "         [0.18348634, 0.1831758 , 0.18611288, ..., 0.29247415,\n",
       "          0.2935257 , 0.29559684],\n",
       "         [0.17099631, 0.17700958, 0.18718147, ..., 0.2923938 ,\n",
       "          0.29140413, 0.29053545],\n",
       "         ...,\n",
       "         [0.20286238, 0.20286238, 0.20286238, ..., 0.61703706,\n",
       "          0.6175102 , 0.6061889 ],\n",
       "         [0.20286238, 0.20286238, 0.20286238, ..., 0.6328056 ,\n",
       "          0.6366769 , 0.6220455 ],\n",
       "         [0.20286238, 0.20286238, 0.20286238, ..., 0.6178491 ,\n",
       "          0.62724507, 0.62703466]],\n",
       " \n",
       "        [[0.22408438, 0.21814787, 0.20947862, ..., 0.2836764 ,\n",
       "          0.28541934, 0.2911384 ],\n",
       "         [0.22198212, 0.22167146, 0.22007966, ..., 0.28945482,\n",
       "          0.29126108, 0.2948419 ],\n",
       "         [0.2147758 , 0.21852446, 0.22341263, ..., 0.2908845 ,\n",
       "          0.28762984, 0.28751612],\n",
       "         ...,\n",
       "         [0.20286238, 0.20286238, 0.20286238, ..., 0.58307016,\n",
       "          0.5782596 , 0.56844807],\n",
       "         [0.20286238, 0.20286238, 0.20286238, ..., 0.5965743 ,\n",
       "          0.5928973 , 0.58279526],\n",
       "         [0.20286238, 0.20286238, 0.20286238, ..., 0.5861466 ,\n",
       "          0.5879946 , 0.58400977]],\n",
       " \n",
       "        ...,\n",
       " \n",
       "        [[0.22559404, 0.22267687, 0.21098828, ..., 0.18932426,\n",
       "          0.18955755, 0.18772852],\n",
       "         [0.22122717, 0.22091675, 0.21253157, ..., 0.18981898,\n",
       "          0.19011569, 0.1891675 ],\n",
       "         [0.21251118, 0.21097648, 0.20454216, ..., 0.18898392,\n",
       "          0.18874884, 0.18712533],\n",
       "         ...,\n",
       "         [0.20286238, 0.20286238, 0.20286238, ..., 0.01620233,\n",
       "          0.02271378, 0.02045035],\n",
       "         [0.20286238, 0.20286238, 0.20286238, ..., 0.03046095,\n",
       "          0.03055811, 0.0264945 ],\n",
       "         [0.20286238, 0.20286238, 0.20286238, ..., 0.05098093,\n",
       "          0.04377103, 0.03450263]],\n",
       " \n",
       "        [[0.23540676, 0.23475397, 0.22985876, ..., 0.17422783,\n",
       "          0.17446113, 0.17414176],\n",
       "         [0.24160719, 0.24054182, 0.23668575, ..., 0.17472255,\n",
       "          0.17652893, 0.17633557],\n",
       "         [0.23289132, 0.23286593, 0.23397994, ..., 0.17615199,\n",
       "          0.17818141, 0.17731273],\n",
       "         ...,\n",
       "         [0.20286238, 0.20286238, 0.20286238, ..., 0.00638962,\n",
       "          0.02120411, 0.02497911],\n",
       "         [0.20286238, 0.20286238, 0.20286238, ..., 0.02140319,\n",
       "          0.0275389 , 0.02800417],\n",
       "         [0.20286238, 0.20286238, 0.20286238, ..., 0.04343271,\n",
       "          0.03999698, 0.03299296]],\n",
       " \n",
       "        [[0.23163271, 0.23475397, 0.23514235, ..., 0.15988636,\n",
       "          0.1638937 , 0.16432917],\n",
       "         [0.24009752, 0.24054182, 0.23970509, ..., 0.15811658,\n",
       "          0.16445184, 0.1672777 ],\n",
       "         [0.2321366 , 0.23513055, 0.23473501, ..., 0.15803647,\n",
       "          0.16534948, 0.16976452],\n",
       "         ...,\n",
       "         [0.20286238, 0.20286238, 0.20286238, ..., 0.0154475 ,\n",
       "          0.02648783, 0.03328216],\n",
       "         [0.20286238, 0.20286238, 0.20286238, ..., 0.02668691,\n",
       "          0.02980328, 0.0317781 ],\n",
       "         [0.20286238, 0.20286238, 0.20286238, ..., 0.04267788,\n",
       "          0.04226136, 0.03752184]]], dtype=float32),\n",
       " array([[[ 0.21955562,  0.22645092,  0.23212302, ...,  0.16441536,\n",
       "           0.1616292 ,  0.15753579],\n",
       "         [ 0.22500145,  0.22921944,  0.2329117 , ...,  0.1664195 ,\n",
       "           0.16671622,  0.16350365],\n",
       "         [ 0.22383356,  0.22607255,  0.2294513 , ...,  0.17011344,\n",
       "           0.16912353,  0.16599047],\n",
       "         ...,\n",
       "         [ 0.20286238,  0.20286238,  0.20286238, ..., -0.00795197,\n",
       "          -0.00068563,  0.00459909],\n",
       "         [ 0.20286238,  0.20286238,  0.20286238, ...,  0.00932622,\n",
       "           0.01093292,  0.01064336],\n",
       "         [ 0.20286238,  0.20286238,  0.20286238, ...,  0.02682674,\n",
       "           0.02490056,  0.02016103]],\n",
       " \n",
       "        [[ 0.20521402,  0.21210945,  0.21778166, ...,  0.16366053,\n",
       "           0.16011953,  0.15602612],\n",
       "         [ 0.20990503,  0.21412337,  0.21857   , ...,  0.16792917,\n",
       "           0.16671622,  0.16350365],\n",
       "         [ 0.21100175,  0.21475053,  0.21812892, ...,  0.17313266,\n",
       "           0.17138803,  0.16900969],\n",
       "         ...,\n",
       "         [ 0.20286238,  0.20286238,  0.20286238, ...,  0.00865412,\n",
       "           0.01214623,  0.01365697],\n",
       "         [ 0.20286238,  0.20286238,  0.20286238, ...,  0.01989353,\n",
       "           0.0199908 ,  0.02045596],\n",
       "         [ 0.20286238,  0.20286238,  0.20286238, ...,  0.02984595,\n",
       "           0.02867472,  0.02619958]],\n",
       " \n",
       "        [[ 0.20219481,  0.2060709 ,  0.20947862, ...,  0.16441536,\n",
       "           0.16313887,  0.15980017],\n",
       "         [ 0.20990503,  0.2126137 ,  0.21253157, ...,  0.1709485 ,\n",
       "           0.16973555,  0.16652286],\n",
       "         [ 0.21704018,  0.21701479,  0.21586454, ...,  0.17539716,\n",
       "           0.17365241,  0.17051935],\n",
       "         ...,\n",
       "         [ 0.20286238,  0.20286238,  0.20286238, ...,  0.01846671,\n",
       "           0.01818478,  0.01592147],\n",
       "         [ 0.20286238,  0.20286238,  0.20286238, ...,  0.02593207,\n",
       "           0.02451956,  0.02045596],\n",
       "         [ 0.20286238,  0.20286238,  0.20286238, ...,  0.03437495,\n",
       "           0.03244877,  0.02921891]],\n",
       " \n",
       "        ...,\n",
       " \n",
       "        [[ 0.13652563,  0.14342105,  0.15664136, ...,  0.219517  ,\n",
       "           0.21748567,  0.21641159],\n",
       "         [ 0.1359328 ,  0.14317036,  0.15516543, ...,  0.20491529,\n",
       "           0.20219278,  0.20048976],\n",
       "         [ 0.14533246,  0.15134573,  0.16076279, ...,  0.18822908,\n",
       "           0.1857295 ,  0.18788016],\n",
       "         ...,\n",
       "         [ 0.20286238,  0.20286238,  0.20286238, ...,  0.10678041,\n",
       "           0.10045993,  0.10498977],\n",
       "         [ 0.20286238,  0.20286238,  0.20286238, ...,  0.0953753 ,\n",
       "           0.09245312,  0.09669256],\n",
       "         [ 0.20286238,  0.20286238,  0.20286238, ...,  0.09626997,\n",
       "           0.0920794 ,  0.09564281]],\n",
       " \n",
       "        [[ 0.1357708 ,  0.14115655,  0.15437686, ...,  0.2142334 ,\n",
       "           0.20918262,  0.206599  ],\n",
       "         [ 0.13517797,  0.14090586,  0.15290105, ...,  0.19585752,\n",
       "           0.1908704 ,  0.18841267],\n",
       "         [ 0.14306796,  0.14908135,  0.15849829, ...,  0.17917132,\n",
       "           0.17365241,  0.17353857],\n",
       "         ...,\n",
       "         [ 0.20286238,  0.20286238,  0.20286238, ...,  0.12187672,\n",
       "           0.11253703,  0.11253798],\n",
       "         [ 0.20286238,  0.20286238,  0.20286238, ...,  0.10292351,\n",
       "           0.09849191,  0.10122144],\n",
       "         [ 0.20286238,  0.20286238,  0.20286238, ...,  0.09777963,\n",
       "           0.09509861,  0.0979073 ]],\n",
       " \n",
       "        [[ 0.13501608,  0.13889205,  0.15060282, ...,  0.21272361,\n",
       "           0.20918262,  0.20961821],\n",
       "         [ 0.13744247,  0.14166069,  0.15290105, ...,  0.19661236,\n",
       "           0.1931349 ,  0.19596088],\n",
       "         [ 0.14608729,  0.15210056,  0.16151762, ...,  0.18294537,\n",
       "           0.18044579,  0.18410611],\n",
       "         ...,\n",
       "         [ 0.20286238,  0.20286238,  0.20286238, ...,  0.12565076,\n",
       "           0.12461412,  0.12159586],\n",
       "         [ 0.20286238,  0.20286238,  0.20286238, ...,  0.10669756,\n",
       "           0.10603988,  0.10876954],\n",
       "         [ 0.20286238,  0.20286238,  0.20286238, ...,  0.10155368,\n",
       "           0.10340166,  0.10545552]]], dtype=float32),\n",
       " 70,\n",
       " 150)"
      ]
     },
     "execution_count": 10,
     "metadata": {},
     "output_type": "execute_result"
    }
   ],
   "source": [
    "sst()"
   ]
  },
  {
   "cell_type": "code",
   "execution_count": 11,
   "id": "dbc3b114-03e1-4321-9f80-1a51308152a8",
   "metadata": {},
   "outputs": [],
   "source": [
    "path = f'{prefix}/sstday_train.npy'\n",
    "X_train = np.load(path)"
   ]
  },
  {
   "cell_type": "code",
   "execution_count": 12,
   "id": "7fb432a8-3ba4-4db7-957d-0945fe9e318c",
   "metadata": {},
   "outputs": [],
   "source": [
    "#X_train.shape[0], X_valid.shape[0], X_test.shape[0]"
   ]
  },
  {
   "cell_type": "code",
   "execution_count": 18,
   "id": "4af0392b-d2cb-4d11-a474-75d11cf2c5e5",
   "metadata": {},
   "outputs": [
    {
     "data": {
      "image/png": "[encoded data removed]",
      "text/plain": [
       "<Figure size 432x288 with 1 Axes>"
      ]
     },
     "metadata": {
      "needs_background": "light"
     },
     "output_type": "display_data"
    }
   ],
   "source": [
    "plt.imshow(X_train[1094], cmap='coolwarm')\n",
    "plt.show()"
   ]
  },
  {
   "cell_type": "markdown",
   "id": "24e0b5c7-97e3-4413-aea3-f9e4a58786da",
   "metadata": {},
   "source": [
    "## Generate dataset"
   ]
  },
  {
   "cell_type": "code",
   "execution_count": 62,
   "id": "fef526d5-7318-4b9b-bd7d-35acf17cf00c",
   "metadata": {},
   "outputs": [],
   "source": [
    "class OceanToOcean(Dataset):\n",
    "    def __init__(self, prediction_length, partition_name='train'):\n",
    "        self.ocean_array = np.load(f\"/home/156/cn1951/kae-cyclones/input/sstday_{partition_name}.npy\")\n",
    "        self.prediction_length = prediction_length\n",
    "    \n",
    "    def __len__(self):\n",
    "        return self.ocean_array.shape[0]\n",
    "    \n",
    "    def __getitem__(self, idx):\n",
    "        i = 0\n",
    "        for ocean_run in self.ocean_array:\n",
    "            j = self.prediction_length\n",
    "            for time_step in ocean_run[self.prediction_length:-self.prediction_length]:\n",
    "                if i == idx:\n",
    "                    return torch.from_numpy(ocean_run[j-self.prediction_length:j+self.prediction_length]), torch.from_numpy(np.flip(ocean_run[j-self.prediction_length:j+self.prediction_length], 0).copy())\n",
    "                j += 1\n",
    "                i += 1"
   ]
  },
  {
   "cell_type": "code",
   "execution_count": 63,
   "id": "c4adb14f-e22c-42dc-b0df-3a6ded387d81",
   "metadata": {},
   "outputs": [],
   "source": [
    "def generate_ocean_ds():\n",
    "    train_ds = OceanToOcean(4, 'train')\n",
    "    val_ds = OceanToOcean(4, 'valid')\n",
    "    test_ds = OceanToOcean(4, 'test')\n",
    "\n",
    "    return train_ds, val_ds, test_ds"
   ]
  },
  {
   "cell_type": "code",
   "execution_count": 68,
   "id": "8b265b72-bf67-4ea2-b6e1-aea15b175718",
   "metadata": {},
   "outputs": [],
   "source": [
    "train_ds, val_ds, test_ds = generate_ocean_ds()\n",
    "loader = torch.utils.data.DataLoader(train_ds, batch_size=64, num_workers=8, pin_memory=True, shuffle=True)\n",
    "val_loader = torch.utils.data.DataLoader(val_ds, batch_size=64, num_workers=8, pin_memory=True, shuffle=True)\n",
    "input_size = 2\n",
    "alpha = 4\n",
    "beta = 4\n",
    "learning_rate = 1e-4"
   ]
  },
  {
   "cell_type": "code",
   "execution_count": 76,
   "id": "c5f61ce8-5d47-4630-a05c-3e7d87c3611b",
   "metadata": {},
   "outputs": [
    {
     "data": {
      "text/plain": [
       "torch.Size([64, 8, 150])"
      ]
     },
     "execution_count": 76,
     "metadata": {},
     "output_type": "execute_result"
    }
   ],
   "source": [
    "img, output = next(iter(loader))\n",
    "img.shape"
   ]
  },
  {
   "cell_type": "markdown",
   "id": "f8f1effd-0247-4478-8936-973038f5904b",
   "metadata": {},
   "source": [
    "## Load trained model"
   ]
  },
  {
   "cell_type": "code",
   "execution_count": 31,
   "id": "2b950d50-f2d0-4da4-a584-ed757ca662a8",
   "metadata": {},
   "outputs": [],
   "source": [
    "from models import *"
   ]
  },
  {
   "cell_type": "code",
   "execution_count": 41,
   "id": "ab70754c-cf6c-4eb9-9ef8-86a65981375e",
   "metadata": {},
   "outputs": [
    {
     "name": "stdout",
     "output_type": "stream",
     "text": [
      "In eigen initialisation\n",
      "[ 1.9000695 -1.3011057j  -0.17601435+0.601464j   -0.84215266+0.43585145j\n",
      " -1.7740891 -0.90613854j  0.8458511 -1.5421984j   1.9230328 -1.2858156j\n",
      "  1.5648412 -0.8380359j   0.09560107-0.8313264j   1.6201988 -1.8076323j\n",
      "  0.94429475-0.21173549j  0.4252935 -1.0833628j   0.6704159 -0.9004774j\n",
      "  0.3741784 +1.1069468j   0.715604  -0.7500341j  -0.45531556+1.2417898j\n",
      "  0.57926095-1.3242528j ]\n"
     ]
    },
    {
     "data": {
      "text/plain": [
       "koopmanAE(\n",
       "  (encoder): encoderNetSimple(\n",
       "    (fc1): Linear(in_features=150, out_features=256, bias=True)\n",
       "    (fc2): Linear(in_features=256, out_features=256, bias=True)\n",
       "    (fc3): Linear(in_features=256, out_features=16, bias=True)\n",
       "  )\n",
       "  (decoder): decoderNetSimple(\n",
       "    (fc1): Linear(in_features=16, out_features=256, bias=True)\n",
       "    (fc2): Linear(in_features=256, out_features=256, bias=True)\n",
       "    (fc3): Linear(in_features=256, out_features=150, bias=True)\n",
       "  )\n",
       "  (dynamics): dynamics(\n",
       "    (dynamics): Linear(in_features=16, out_features=16, bias=False)\n",
       "  )\n",
       "  (backdynamics): dynamics_back(\n",
       "    (dynamics): Linear(in_features=16, out_features=16, bias=False)\n",
       "  )\n",
       ")"
      ]
     },
     "execution_count": 41,
     "metadata": {},
     "output_type": "execute_result"
    }
   ],
   "source": [
    "saved_models_path = '/home/156/cn1951/kae-cyclones/saved_models/ELEI-eigenloss_and_eigeninit-final.pt'\n",
    "\n",
    "model = koopmanAE(b=16, steps=4, steps_back=4, alpha=16, eigen_init=True, input_size=150).to(0)\n",
    "model.load_state_dict(torch.load(saved_models_path))\n",
    "model.eval()"
   ]
  },
  {
   "cell_type": "code",
   "execution_count": 45,
   "id": "b49cb91b-c20b-4cef-85c6-9170298fa300",
   "metadata": {},
   "outputs": [
    {
     "data": {
      "text/plain": [
       "torch.Size([8, 150])"
      ]
     },
     "execution_count": 45,
     "metadata": {},
     "output_type": "execute_result"
    }
   ],
   "source": [
    "train_ds, val_ds, test_ds = generate_ocean_ds()\n",
    "loader = torch.utils.data.DataLoader(train_ds, batch_size=64, num_workers=8, pin_memory=True, shuffle=True)\n",
    "val_loader = torch.utils.data.DataLoader(val_ds, batch_size=64, num_workers=8, pin_memory=True, shuffle=True)\n",
    "\n",
    "img, new = next(iter(loader))\n",
    "#plt.imshow(img, cmap='coolwarm')\n",
    "img[0].shape"
   ]
  },
  {
   "cell_type": "markdown",
   "id": "290537af-c063-4564-8dc6-4b6e7fa595c6",
   "metadata": {},
   "source": [
    "## Plotting results"
   ]
  },
  {
   "cell_type": "code",
   "execution_count": 4,
   "id": "4fc3fb3f-4690-4294-870e-e088ab1bf93a",
   "metadata": {},
   "outputs": [],
   "source": [
    "import pandas as pd"
   ]
  },
  {
   "cell_type": "code",
   "execution_count": 6,
   "id": "92850569-5007-4adf-88fd-5ed9987accb5",
   "metadata": {},
   "outputs": [
    {
     "data": {
      "text/plain": [
       "Index(['Step', 'eigenloss_and_eigeninit-ocean - forward loss',\n",
       "       'eigenloss_and_eigeninit-ocean - forward loss__MIN',\n",
       "       'eigenloss_and_eigeninit-ocean - forward loss__MAX',\n",
       "       'eigenloss_only-ocean - forward loss',\n",
       "       'eigenloss_only-ocean - forward loss__MIN',\n",
       "       'eigenloss_only-ocean - forward loss__MAX',\n",
       "       'eigen_init_vanilla-ocean - forward loss',\n",
       "       'eigen_init_vanilla-ocean - forward loss__MIN',\n",
       "       'eigen_init_vanilla-ocean - forward loss__MAX',\n",
       "       'initial_run_ocean-ocean - forward loss',\n",
       "       'initial_run_ocean-ocean - forward loss__MIN',\n",
       "       'initial_run_ocean-ocean - forward loss__MAX'],\n",
       "      dtype='object')"
      ]
     },
     "execution_count": 6,
     "metadata": {},
     "output_type": "execute_result"
    }
   ],
   "source": [
    "# forward losses\n",
    "path = '/home/156/cn1951/kae-cyclones/results/wandb_export_2022-07-05T20.csv'\n",
    "df = pd.read_csv(path)\n",
    "df.columns"
   ]
  },
  {
   "cell_type": "code",
   "execution_count": 9,
   "id": "86a463cc-ba0b-4815-85ac-df2c6e917e20",
   "metadata": {},
   "outputs": [],
   "source": [
    "regular = df['initial_run_ocean-ocean - forward loss'].to_numpy()\n",
    "eigenloss = df['eigenloss_only-ocean - forward loss'].to_numpy()\n",
    "eigeninit = df['eigen_init_vanilla-ocean - forward loss'].to_numpy()\n",
    "both = df['eigenloss_and_eigeninit-ocean - forward loss'].to_numpy()"
   ]
  },
  {
   "cell_type": "code",
   "execution_count": 12,
   "id": "590e490e-d195-4048-907b-4ad0bd000201",
   "metadata": {},
   "outputs": [
    {
     "data": {
      "image/png": "[encoded data removed]",
      "text/plain": [
       "<Figure size 432x288 with 1 Axes>"
      ]
     },
     "metadata": {
      "needs_background": "light"
     },
     "output_type": "display_data"
    }
   ],
   "source": [
    "plt.loglog(df.Step, regular)\n",
    "plt.loglog(df.Step, eigenloss)\n",
    "plt.loglog(df.Step, eigeninit)\n",
    "plt.loglog(df.Step, both)\n",
    "plt.xlabel(\"Epoch\")\n",
    "plt.ylabel(\"Mean squared error (MSE)\")\n",
    "plt.show()"
   ]
  },
  {
   "cell_type": "code",
   "execution_count": null,
   "id": "5368d04c-9c39-4061-98a0-98d98a3b8b48",
   "metadata": {},
   "outputs": [],
   "source": []
  }
 ],
 "metadata": {
  "kernelspec": {
   "display_name": "Python [conda env:analysis3]",
   "language": "python",
   "name": "conda-env-analysis3-py"
  },
  "language_info": {
   "codemirror_mode": {
    "name": "ipython",
    "version": 3
   },
   "file_extension": ".py",
   "mimetype": "text/x-python",
   "name": "python",
   "nbconvert_exporter": "python",
   "pygments_lexer": "ipython3",
   "version": "3.9.12"
  }
 },
 "nbformat": 4,
 "nbformat_minor": 5
}
