{
 "cells": [
  {
   "cell_type": "code",
   "execution_count": 3,
   "id": "c5117c4f-4e12-4d1b-a9ea-6161529085f3",
   "metadata": {},
   "outputs": [],
   "source": [
    "import torch\n",
    "import xarray\n",
    "from datasets import *\n",
    "from models import *\n",
    "from dl_pipeline import *\n",
    "import seaborn\n",
    "import numpy as np\n",
    "import matplotlib.pyplot as plt\n",
    "import copy"
   ]
  },
  {
   "cell_type": "code",
   "execution_count": 8,
   "id": "e2242aaa-8e55-4f10-863e-9505d0783f3d",
   "metadata": {},
   "outputs": [],
   "source": [
    "train_json_path = '/g/data/x77/ob2720/partition/train.json'\n",
    "valid_json_path = '/g/data/x77/ob2720/partition/valid.json'\n",
    "test_json_path = '/g/data/x77/ob2720/partition/test.json'"
   ]
  },
  {
   "cell_type": "markdown",
   "id": "2f3d3f85-38a0-42f5-bc77-93b162f63a9e",
   "metadata": {
    "tags": []
   },
   "source": [
    "## Perturbation of Eigenvalues for Synthesis\n",
    "\n",
    "We start with perturbation of the eigenvectors for synthesising new data from eiegenvalues closest to $0$. We take this perturbation to be sampled from a random distribution around a mean, $\\mu$, of $0$, with a standard deviation of $\\sigma$."
   ]
  },
  {
   "cell_type": "code",
   "execution_count": 3,
   "id": "464caed7-bd6f-4ac8-bc02-c2b708fcea1e",
   "metadata": {},
   "outputs": [],
   "source": [
    "mu, sigma = 0, 0.001 # mean and standard deviation"
   ]
  },
  {
   "cell_type": "code",
   "execution_count": 4,
   "id": "e1e055f0-d93c-415f-bf54-532657a75313",
   "metadata": {},
   "outputs": [
    {
     "name": "stdout",
     "output_type": "stream",
     "text": [
      "191235\n"
     ]
    }
   ],
   "source": [
    "train_ds, valid_ds, test_ds = generate_prediction_dataset()"
   ]
  },
  {
   "cell_type": "code",
   "execution_count": 5,
   "id": "95c90379-fa10-47b0-a7c0-f3a2bc733777",
   "metadata": {},
   "outputs": [],
   "source": [
    "def new_example(model,x, perturb=True, sigma=0.001):\n",
    "    W = model.dynamics.dynamics.weight.cpu().detach().numpy()\n",
    "    w, v = np.linalg.eig(W)\n",
    "    min_i = np.argmax(w)\n",
    "    s = np.random.normal(mu, sigma, len(v[0]))\n",
    "    \n",
    "    model_modified = copy.deepcopy(model).to(0)\n",
    "    \n",
    "    \n",
    "    if perturb:\n",
    "        v[min_i] += s\n",
    "    W_1 = reconstruct_operator(w,v).real\n",
    "    \n",
    "    model_modified.dynamics.dynamics.weight = torch.nn.Parameter(torch.from_numpy(W_1))\n",
    "    \n",
    "    model_modified.to(0)\n",
    "    x_modified = model_modified(x.to(0))\n",
    "    \n",
    "    return x_modified"
   ]
  },
  {
   "cell_type": "code",
   "execution_count": 4,
   "id": "2c3a41ee-85d2-4ec7-adbf-3be9410847ba",
   "metadata": {},
   "outputs": [
    {
     "data": {
      "text/plain": [
       "koopmanAE(\n",
       "  (encoder): encoderNetSimple(\n",
       "    (fc1): Linear(in_features=400, out_features=256, bias=True)\n",
       "    (fc2): Linear(in_features=256, out_features=256, bias=True)\n",
       "    (fc3): Linear(in_features=256, out_features=64, bias=True)\n",
       "  )\n",
       "  (decoder): decoderNetSimple(\n",
       "    (fc1): Linear(in_features=64, out_features=256, bias=True)\n",
       "    (fc2): Linear(in_features=256, out_features=256, bias=True)\n",
       "    (fc3): Linear(in_features=256, out_features=400, bias=True)\n",
       "  )\n",
       "  (dynamics): dynamics(\n",
       "    (dynamics): Linear(in_features=64, out_features=64, bias=False)\n",
       "  )\n",
       "  (backdynamics): dynamics_back(\n",
       "    (dynamics): Linear(in_features=64, out_features=64, bias=False)\n",
       "  )\n",
       ")"
      ]
     },
     "execution_count": 4,
     "metadata": {},
     "output_type": "execute_result"
    }
   ],
   "source": [
    "saved_models_path = '/home/156/jm0124/kae-cyclones/saved_models'\n",
    "\n",
    "model_dae = koopmanAE(64, steps=4, steps_back=4, alpha=16).to(0)\n",
    "model_dae.load_state_dict(torch.load(f'{saved_models_path}/dae-eigen-model-continued-5.591655742685876.pt'))\n",
    "model_dae.to(0)"
   ]
  },
  {
   "cell_type": "code",
   "execution_count": 13,
   "id": "52d945ac-af89-436b-a355-e349d6118337",
   "metadata": {},
   "outputs": [
    {
     "ename": "NameError",
     "evalue": "name 'train_ds' is not defined",
     "output_type": "error",
     "traceback": [
      "\u001b[0;31m---------------------------------------------------------------------------\u001b[0m",
      "\u001b[0;31mNameError\u001b[0m                                 Traceback (most recent call last)",
      "\u001b[0;32m/jobfs/41625324.gadi-pbs/ipykernel_3293556/737798126.py\u001b[0m in \u001b[0;36m<cell line: 1>\u001b[0;34m()\u001b[0m\n\u001b[1;32m      1\u001b[0m \u001b[0;32mfor\u001b[0m \u001b[0mi\u001b[0m \u001b[0;32min\u001b[0m \u001b[0mrange\u001b[0m\u001b[0;34m(\u001b[0m\u001b[0;36m1\u001b[0m\u001b[0;34m,\u001b[0m\u001b[0;36m20\u001b[0m\u001b[0;34m)\u001b[0m\u001b[0;34m:\u001b[0m\u001b[0;34m\u001b[0m\u001b[0;34m\u001b[0m\u001b[0m\n\u001b[0;32m----> 2\u001b[0;31m     \u001b[0mold\u001b[0m \u001b[0;34m=\u001b[0m \u001b[0mtrain_ds\u001b[0m\u001b[0;34m[\u001b[0m\u001b[0mi\u001b[0m\u001b[0;34m*\u001b[0m\u001b[0;36m100\u001b[0m\u001b[0;34m+\u001b[0m\u001b[0;36m1\u001b[0m\u001b[0;34m]\u001b[0m\u001b[0;34m[\u001b[0m\u001b[0;36m0\u001b[0m\u001b[0;34m]\u001b[0m\u001b[0;34m.\u001b[0m\u001b[0msqueeze\u001b[0m\u001b[0;34m(\u001b[0m\u001b[0;36m0\u001b[0m\u001b[0;34m)\u001b[0m\u001b[0;34m.\u001b[0m\u001b[0msqueeze\u001b[0m\u001b[0;34m(\u001b[0m\u001b[0;36m0\u001b[0m\u001b[0;34m)\u001b[0m\u001b[0;34m\u001b[0m\u001b[0;34m\u001b[0m\u001b[0m\n\u001b[0m\u001b[1;32m      3\u001b[0m     \u001b[0mx_reg\u001b[0m \u001b[0;34m=\u001b[0m \u001b[0mnew_example\u001b[0m\u001b[0;34m(\u001b[0m\u001b[0mmodel_dae\u001b[0m\u001b[0;34m,\u001b[0m\u001b[0mtrain_ds\u001b[0m\u001b[0;34m[\u001b[0m\u001b[0mi\u001b[0m\u001b[0;34m*\u001b[0m\u001b[0;36m100\u001b[0m\u001b[0;34m]\u001b[0m\u001b[0;34m[\u001b[0m\u001b[0;36m0\u001b[0m\u001b[0;34m]\u001b[0m\u001b[0;34m.\u001b[0m\u001b[0mto\u001b[0m\u001b[0;34m(\u001b[0m\u001b[0;36m0\u001b[0m\u001b[0;34m)\u001b[0m\u001b[0;34m,\u001b[0m \u001b[0;32mTrue\u001b[0m\u001b[0;34m,\u001b[0m \u001b[0msigma\u001b[0m\u001b[0;34m=\u001b[0m\u001b[0;36m0.2\u001b[0m\u001b[0;34m)\u001b[0m\u001b[0;34m[\u001b[0m\u001b[0;36m0\u001b[0m\u001b[0;34m]\u001b[0m\u001b[0;34m[\u001b[0m\u001b[0;36m0\u001b[0m\u001b[0;34m]\u001b[0m\u001b[0;34m.\u001b[0m\u001b[0msqueeze\u001b[0m\u001b[0;34m(\u001b[0m\u001b[0;36m0\u001b[0m\u001b[0;34m)\u001b[0m\u001b[0;34m.\u001b[0m\u001b[0msqueeze\u001b[0m\u001b[0;34m(\u001b[0m\u001b[0;36m0\u001b[0m\u001b[0;34m)\u001b[0m\u001b[0;34m.\u001b[0m\u001b[0mcpu\u001b[0m\u001b[0;34m(\u001b[0m\u001b[0;34m)\u001b[0m\u001b[0;34m.\u001b[0m\u001b[0mdetach\u001b[0m\u001b[0;34m(\u001b[0m\u001b[0;34m)\u001b[0m\u001b[0;34m.\u001b[0m\u001b[0mnumpy\u001b[0m\u001b[0;34m(\u001b[0m\u001b[0;34m)\u001b[0m\u001b[0;34m\u001b[0m\u001b[0;34m\u001b[0m\u001b[0m\n\u001b[1;32m      4\u001b[0m     \u001b[0mx_per\u001b[0m \u001b[0;34m=\u001b[0m \u001b[0mnew_example\u001b[0m\u001b[0;34m(\u001b[0m\u001b[0mmodel_dae\u001b[0m\u001b[0;34m,\u001b[0m\u001b[0mtrain_ds\u001b[0m\u001b[0;34m[\u001b[0m\u001b[0mi\u001b[0m\u001b[0;34m*\u001b[0m\u001b[0;36m100\u001b[0m\u001b[0;34m]\u001b[0m\u001b[0;34m[\u001b[0m\u001b[0;36m0\u001b[0m\u001b[0;34m]\u001b[0m\u001b[0;34m.\u001b[0m\u001b[0mto\u001b[0m\u001b[0;34m(\u001b[0m\u001b[0;36m0\u001b[0m\u001b[0;34m)\u001b[0m\u001b[0;34m,\u001b[0m \u001b[0;32mFalse\u001b[0m\u001b[0;34m,\u001b[0m \u001b[0msigma\u001b[0m\u001b[0;34m=\u001b[0m\u001b[0;36m2\u001b[0m\u001b[0;34m)\u001b[0m\u001b[0;34m[\u001b[0m\u001b[0;36m0\u001b[0m\u001b[0;34m]\u001b[0m\u001b[0;34m[\u001b[0m\u001b[0;36m0\u001b[0m\u001b[0;34m]\u001b[0m\u001b[0;34m.\u001b[0m\u001b[0msqueeze\u001b[0m\u001b[0;34m(\u001b[0m\u001b[0;36m0\u001b[0m\u001b[0;34m)\u001b[0m\u001b[0;34m.\u001b[0m\u001b[0msqueeze\u001b[0m\u001b[0;34m(\u001b[0m\u001b[0;36m0\u001b[0m\u001b[0;34m)\u001b[0m\u001b[0;34m.\u001b[0m\u001b[0mcpu\u001b[0m\u001b[0;34m(\u001b[0m\u001b[0;34m)\u001b[0m\u001b[0;34m.\u001b[0m\u001b[0mdetach\u001b[0m\u001b[0;34m(\u001b[0m\u001b[0;34m)\u001b[0m\u001b[0;34m.\u001b[0m\u001b[0mnumpy\u001b[0m\u001b[0;34m(\u001b[0m\u001b[0;34m)\u001b[0m\u001b[0;34m\u001b[0m\u001b[0;34m\u001b[0m\u001b[0m\n\u001b[1;32m      5\u001b[0m \u001b[0;34m\u001b[0m\u001b[0m\n",
      "\u001b[0;31mNameError\u001b[0m: name 'train_ds' is not defined"
     ]
    }
   ],
   "source": [
    "for i in range(1,20):\n",
    "    old = train_ds[i*100+1][0].squeeze(0).squeeze(0)\n",
    "    x_reg = new_example(model_dae,train_ds[i*100][0].to(0), True, sigma=0.2)[0][0].squeeze(0).squeeze(0).cpu().detach().numpy()\n",
    "    x_per = new_example(model_dae,train_ds[i*100][0].to(0), False, sigma=2)[0][0].squeeze(0).squeeze(0).cpu().detach().numpy()\n",
    "\n",
    "    seaborn.heatmap(old)\n",
    "    plt.show()\n",
    "    seaborn.heatmap(x_reg)\n",
    "    plt.show()\n",
    "    seaborn.heatmap(x_per)\n",
    "    plt.show()"
   ]
  },
  {
   "cell_type": "markdown",
   "id": "d7a6d9ca-213d-47f6-8b85-4fb8ac1fd8cc",
   "metadata": {
    "tags": []
   },
   "source": [
    "### Generation of New Data"
   ]
  },
  {
   "cell_type": "code",
   "execution_count": 5,
   "id": "077f8036-a0c5-4f29-b258-a52db312d491",
   "metadata": {},
   "outputs": [],
   "source": [
    "def create_modified_model(model, mu, sigma, perturb=True):\n",
    "    W = model.dynamics.dynamics.weight.cpu().detach().numpy()\n",
    "    w, v = np.linalg.eig(W)\n",
    "    max_i = np.argmax(w)\n",
    "    print(f\"Max eigenvalue: {np.max(np.absolute(w))}\")\n",
    "    print(f\"Min eigenvalue: {np.min(np.absolute(w))}\")\n",
    "    print(np.absolute(w))\n",
    "    \n",
    "    model_modified = copy.deepcopy(model).to(0)\n",
    "    \n",
    "    s = np.random.normal(mu, sigma, len(v[0]))\n",
    "    \n",
    "    if perturb:\n",
    "        v[max_i] += s\n",
    "    W_1 = reconstruct_operator(w,v).real\n",
    "    \n",
    "    model_modified.to(0)\n",
    "    model_modified.dynamics.dynamics.weight = torch.nn.Parameter(torch.from_numpy(W_1))\n",
    "    print(model_modified.dynamics.dynamics.weight)\n",
    "    \n",
    "    return model_modified"
   ]
  },
  {
   "cell_type": "code",
   "execution_count": 6,
   "id": "c97f886c-a5eb-4875-9d43-967618e60e64",
   "metadata": {},
   "outputs": [
    {
     "name": "stdout",
     "output_type": "stream",
     "text": [
      "Max eigenvalue: 6.847322463989258\n",
      "Min eigenvalue: 4.957252502441406\n",
      "[6.5875382 6.5875382 6.7793975 6.6053762 6.6053762 6.461615  6.461615\n",
      " 6.481649  6.481649  6.5130224 6.5130224 6.662136  6.662136  6.223304\n",
      " 6.223304  6.32061   6.32061   6.3453083 6.3453083 6.3402386 6.3402386\n",
      " 6.8147693 6.8147693 6.502285  6.502285  6.1855717 6.1855717 6.7730904\n",
      " 6.7730904 6.336106  6.336106  6.1776423 6.1776423 6.66242   6.66242\n",
      " 5.898575  5.898575  6.8063455 6.8063455 6.8473225 6.8473225 6.392312\n",
      " 6.392312  6.431583  6.431583  6.379235  6.379235  6.4183245 6.4183245\n",
      " 6.0297446 5.4545403 5.4545403 4.9572525 4.9572525 5.5032425 5.5032425\n",
      " 5.288476  5.288476  6.253626  6.253626  5.809612  5.809612  5.2625966\n",
      " 5.2625966]\n",
      "Parameter containing:\n",
      "tensor([[-1.0340e+00,  2.4186e-01,  8.5910e-01,  ...,  4.0923e-01,\n",
      "          4.0490e-01,  2.4862e-01],\n",
      "        [-7.1670e-01,  6.1313e-01, -9.3878e-02,  ..., -1.6699e-01,\n",
      "         -1.3004e+00, -1.3979e-01],\n",
      "        [ 2.1890e-01, -1.3489e+00, -5.9937e-01,  ...,  3.5908e-01,\n",
      "         -1.7464e+00,  2.7679e-01],\n",
      "        ...,\n",
      "        [-8.5346e-01,  1.9368e-01, -8.4682e-01,  ..., -7.8176e-01,\n",
      "         -2.6525e-01,  7.0444e-01],\n",
      "        [-1.3421e-01,  4.7262e-01,  9.3414e-01,  ...,  6.3368e-01,\n",
      "         -1.7204e-03, -5.4573e-02],\n",
      "        [ 4.4892e-01,  9.5656e-01, -4.0383e-01,  ...,  3.6577e-01,\n",
      "         -2.1841e-01, -5.8100e-01]], requires_grad=True)\n"
     ]
    }
   ],
   "source": [
    "mod_model = create_modified_model(model_dae, 0, 0.1).to(0)"
   ]
  },
  {
   "cell_type": "code",
   "execution_count": 12,
   "id": "54cb75e7-ab77-41c9-ad87-e495158bcdc4",
   "metadata": {},
   "outputs": [
    {
     "name": "stdout",
     "output_type": "stream",
     "text": [
      "[-6.4873104 +1.1540108j  -6.4873104 -1.1540108j  -6.7793975 +0.j\n",
      " -6.6023283 +0.2433621j  -6.6023283 -0.2433621j  -6.0207844 +2.352612j\n",
      " -6.0207844 -2.352612j   -5.867302  +2.7680612j  -5.867302  -2.7680612j\n",
      " -5.5767975 +3.3596287j  -5.5767975 -3.3596287j  -5.2910366 +4.0360217j\n",
      " -5.2910366 -4.0360217j  -5.222129  +3.3554766j  -5.222129  -3.3554766j\n",
      " -4.881251  +4.0555387j  -4.881251  -4.0555387j  -3.9436421 +4.9363556j\n",
      " -3.9436421 -4.9363556j  -3.6071634 +5.193271j   -3.6071634 -5.193271j\n",
      " -2.9101963 +6.169226j   -2.9101963 -6.169226j   -2.307437  +6.021591j\n",
      " -2.307437  -6.021591j   -2.3699331 +5.589522j   -2.3699331 -5.589522j\n",
      " -0.7889998 +6.741843j   -0.7889998 -6.741843j   -1.129054  +6.228535j\n",
      " -1.129054  -6.228535j   -0.16308434+6.2086787j  -0.16308434-6.2086787j\n",
      "  1.1951269 +5.747648j    1.1951269 -5.747648j    1.9985398 +6.4200296j\n",
      "  1.9985398 -6.4200296j   2.6085062 +6.274111j    2.6085062 -6.274111j\n",
      "  3.9966934 +5.5348997j   3.9966934 -5.5348997j   2.9228377 +5.529613j\n",
      "  2.9228377 -5.529613j    2.4411094 +5.20949j     2.4411094 -5.20949j\n",
      "  2.114912  +4.8066483j   2.114912  -4.8066483j   4.1182995 +4.879843j\n",
      "  4.1182995 -4.879843j    5.6671896 +2.929436j    5.6671896 -2.929436j\n",
      "  5.861041  +2.654609j    5.861041  -2.654609j    4.2979665 +3.0341046j\n",
      "  4.2979665 -3.0341046j   4.618302  +2.98279j     4.618302  -2.98279j\n",
      "  6.4187126 +0.27187318j  6.4187126 -0.27187318j  6.0297437 +0.j\n",
      "  5.306927  +1.405266j    5.306927  -1.405266j    4.9449964 +0.3233339j\n",
      "  4.9449964 -0.3233339j ]\n",
      "4.955556\n",
      "62\n"
     ]
    }
   ],
   "source": [
    "A = mod_model.dynamics.dynamics.weight.cpu().detach().numpy()\n",
    "w, v = np.linalg.eig(A)\n",
    "w_abs = np.absolute(w)\n",
    "loss_eigen = (1/w_abs.size) * np.sum(w_abs - 1)\n",
    "print(w)\n",
    "print(np.min(np.absolute(w)))\n",
    "print(np.argmin(np.absolute(w)))"
   ]
  },
  {
   "cell_type": "code",
   "execution_count": 21,
   "id": "a075b047-dba6-46ad-b506-056dcedd15f1",
   "metadata": {},
   "outputs": [],
   "source": [
    "def generate_new_data(model, modified_model, sigma):   \n",
    "    \n",
    "    \n",
    "    train_ds = CycloneDataset('/g/data/x77/ob2720/partition/train/', tracks_path=train_json_path, \n",
    "                                            save_np=True, load_np=False)\n",
    "    val_ds = CycloneDataset('/g/data/x77/ob2720/partition/valid/', tracks_path=valid_json_path, \n",
    "                                        save_np=True, load_np=False, partition_name='valid')\n",
    "    test_ds = CycloneDataset('/g/data/x77/ob2720/partition/test/', tracks_path=test_json_path,\n",
    "                                         save_np=True, load_np=False, partition_name='test')\n",
    "    print(len(train_ds))\n",
    "    print(\"Train ds\")\n",
    "    # for i,(cyclone_array, cyclone, j) in tqdm(enumerate(train_ds)):\n",
    "    #     x_reg = model(torch.from_numpy(cyclone_array).to(0))[0][0].cpu().detach().numpy()\n",
    "    #     np.save(f'/g/data/x77/jm0124/synthetic_datasets/base_synthesis/u/2/{sigma}/train/{cyclone}-{j+1}', x_reg)\n",
    "    \n",
    "    for i,(cyclone_array, cyclone, j) in tqdm(enumerate(train_ds)):    \n",
    "        x_mod = modified_model(torch.from_numpy(cyclone_array).to(0))[0][0].cpu().detach().numpy()\n",
    "        np.save(f'/g/data/x77/cn1951/synthetic_datasets/normal_perturb_synthesis/u/2/{sigma}/train/{cyclone}-{j+1}', x_mod)"
   ]
  },
  {
   "cell_type": "code",
   "execution_count": 22,
   "id": "7a919d22-0773-4840-8270-d9ca259ff4b7",
   "metadata": {},
   "outputs": [
    {
     "name": "stdout",
     "output_type": "stream",
     "text": [
      "191235\n",
      "Train ds\n"
     ]
    },
    {
     "name": "stderr",
     "output_type": "stream",
     "text": [
      "0it [00:00, ?it/s]\n"
     ]
    },
    {
     "ename": "FileNotFoundError",
     "evalue": "[Errno 2] No such file or directory: '/g/data/x77/cn1951/synthetic_datasets/normal_perturb_synthesis/u/2/0.1/train/1999258N25128-2.npy'",
     "output_type": "error",
     "traceback": [
      "\u001b[0;31m---------------------------------------------------------------------------\u001b[0m",
      "\u001b[0;31mFileNotFoundError\u001b[0m                         Traceback (most recent call last)",
      "\u001b[0;32m/jobfs/41451625.gadi-pbs/ipykernel_2384646/1906937353.py\u001b[0m in \u001b[0;36m<cell line: 1>\u001b[0;34m()\u001b[0m\n\u001b[0;32m----> 1\u001b[0;31m \u001b[0mgenerate_new_data\u001b[0m\u001b[0;34m(\u001b[0m\u001b[0mmodel_dae\u001b[0m\u001b[0;34m,\u001b[0m \u001b[0mmod_model\u001b[0m\u001b[0;34m,\u001b[0m \u001b[0;34m'0.1'\u001b[0m\u001b[0;34m)\u001b[0m\u001b[0;34m\u001b[0m\u001b[0;34m\u001b[0m\u001b[0m\n\u001b[0m",
      "\u001b[0;32m/jobfs/41451625.gadi-pbs/ipykernel_2384646/1259660454.py\u001b[0m in \u001b[0;36mgenerate_new_data\u001b[0;34m(model, modified_model, sigma)\u001b[0m\n\u001b[1;32m     16\u001b[0m     \u001b[0;32mfor\u001b[0m \u001b[0mi\u001b[0m\u001b[0;34m,\u001b[0m\u001b[0;34m(\u001b[0m\u001b[0mcyclone_array\u001b[0m\u001b[0;34m,\u001b[0m \u001b[0mcyclone\u001b[0m\u001b[0;34m,\u001b[0m \u001b[0mj\u001b[0m\u001b[0;34m)\u001b[0m \u001b[0;32min\u001b[0m \u001b[0mtqdm\u001b[0m\u001b[0;34m(\u001b[0m\u001b[0menumerate\u001b[0m\u001b[0;34m(\u001b[0m\u001b[0mtrain_ds\u001b[0m\u001b[0;34m)\u001b[0m\u001b[0;34m)\u001b[0m\u001b[0;34m:\u001b[0m\u001b[0;34m\u001b[0m\u001b[0;34m\u001b[0m\u001b[0m\n\u001b[1;32m     17\u001b[0m         \u001b[0mx_mod\u001b[0m \u001b[0;34m=\u001b[0m \u001b[0mmodified_model\u001b[0m\u001b[0;34m(\u001b[0m\u001b[0mtorch\u001b[0m\u001b[0;34m.\u001b[0m\u001b[0mfrom_numpy\u001b[0m\u001b[0;34m(\u001b[0m\u001b[0mcyclone_array\u001b[0m\u001b[0;34m)\u001b[0m\u001b[0;34m.\u001b[0m\u001b[0mto\u001b[0m\u001b[0;34m(\u001b[0m\u001b[0;36m0\u001b[0m\u001b[0;34m)\u001b[0m\u001b[0;34m)\u001b[0m\u001b[0;34m[\u001b[0m\u001b[0;36m0\u001b[0m\u001b[0;34m]\u001b[0m\u001b[0;34m[\u001b[0m\u001b[0;36m0\u001b[0m\u001b[0;34m]\u001b[0m\u001b[0;34m.\u001b[0m\u001b[0mcpu\u001b[0m\u001b[0;34m(\u001b[0m\u001b[0;34m)\u001b[0m\u001b[0;34m.\u001b[0m\u001b[0mdetach\u001b[0m\u001b[0;34m(\u001b[0m\u001b[0;34m)\u001b[0m\u001b[0;34m.\u001b[0m\u001b[0mnumpy\u001b[0m\u001b[0;34m(\u001b[0m\u001b[0;34m)\u001b[0m\u001b[0;34m\u001b[0m\u001b[0;34m\u001b[0m\u001b[0m\n\u001b[0;32m---> 18\u001b[0;31m         \u001b[0mnp\u001b[0m\u001b[0;34m.\u001b[0m\u001b[0msave\u001b[0m\u001b[0;34m(\u001b[0m\u001b[0;34mf'/g/data/x77/cn1951/synthetic_datasets/normal_perturb_synthesis/u/2/{sigma}/train/{cyclone}-{j+1}'\u001b[0m\u001b[0;34m,\u001b[0m \u001b[0mx_mod\u001b[0m\u001b[0;34m)\u001b[0m\u001b[0;34m\u001b[0m\u001b[0;34m\u001b[0m\u001b[0m\n\u001b[0m",
      "\u001b[0;32m<__array_function__ internals>\u001b[0m in \u001b[0;36msave\u001b[0;34m(*args, **kwargs)\u001b[0m\n",
      "\u001b[0;32m/g/data/hh5/public/apps/miniconda3/envs/analysis3-22.01/lib/python3.9/site-packages/numpy/lib/npyio.py\u001b[0m in \u001b[0;36msave\u001b[0;34m(file, arr, allow_pickle, fix_imports)\u001b[0m\n\u001b[1;32m    523\u001b[0m         \u001b[0;32mif\u001b[0m \u001b[0;32mnot\u001b[0m \u001b[0mfile\u001b[0m\u001b[0;34m.\u001b[0m\u001b[0mendswith\u001b[0m\u001b[0;34m(\u001b[0m\u001b[0;34m'.npy'\u001b[0m\u001b[0;34m)\u001b[0m\u001b[0;34m:\u001b[0m\u001b[0;34m\u001b[0m\u001b[0;34m\u001b[0m\u001b[0m\n\u001b[1;32m    524\u001b[0m             \u001b[0mfile\u001b[0m \u001b[0;34m=\u001b[0m \u001b[0mfile\u001b[0m \u001b[0;34m+\u001b[0m \u001b[0;34m'.npy'\u001b[0m\u001b[0;34m\u001b[0m\u001b[0;34m\u001b[0m\u001b[0m\n\u001b[0;32m--> 525\u001b[0;31m         \u001b[0mfile_ctx\u001b[0m \u001b[0;34m=\u001b[0m \u001b[0mopen\u001b[0m\u001b[0;34m(\u001b[0m\u001b[0mfile\u001b[0m\u001b[0;34m,\u001b[0m \u001b[0;34m\"wb\"\u001b[0m\u001b[0;34m)\u001b[0m\u001b[0;34m\u001b[0m\u001b[0;34m\u001b[0m\u001b[0m\n\u001b[0m\u001b[1;32m    526\u001b[0m \u001b[0;34m\u001b[0m\u001b[0m\n\u001b[1;32m    527\u001b[0m     \u001b[0;32mwith\u001b[0m \u001b[0mfile_ctx\u001b[0m \u001b[0;32mas\u001b[0m \u001b[0mfid\u001b[0m\u001b[0;34m:\u001b[0m\u001b[0;34m\u001b[0m\u001b[0;34m\u001b[0m\u001b[0m\n",
      "\u001b[0;31mFileNotFoundError\u001b[0m: [Errno 2] No such file or directory: '/g/data/x77/cn1951/synthetic_datasets/normal_perturb_synthesis/u/2/0.1/train/1999258N25128-2.npy'"
     ]
    }
   ],
   "source": [
    "generate_new_data(model_dae, mod_model, '0.1')"
   ]
  },
  {
   "cell_type": "code",
   "execution_count": 14,
   "id": "84fb9a23-6177-4582-b580-506753cbd978",
   "metadata": {},
   "outputs": [
    {
     "name": "stdout",
     "output_type": "stream",
     "text": [
      "torch.Size([1, 1, 20, 20])\n"
     ]
    }
   ],
   "source": [
    "print(train_ds[130][0].shape)"
   ]
  },
  {
   "cell_type": "code",
   "execution_count": 23,
   "id": "86fa65d6-93f0-4671-b15c-2ff04f3bf997",
   "metadata": {},
   "outputs": [
    {
     "ename": "FileNotFoundError",
     "evalue": "[Errno 2] No such file or directory: '/g/data/x77/jm0124/synthetic_datasets/normal_perturb_synthesis/u/2/train/1999258N25128-3.npy'",
     "output_type": "error",
     "traceback": [
      "\u001b[0;31m---------------------------------------------------------------------------\u001b[0m",
      "\u001b[0;31mFileNotFoundError\u001b[0m                         Traceback (most recent call last)",
      "\u001b[0;32m/jobfs/41451625.gadi-pbs/ipykernel_2384646/2216434624.py\u001b[0m in \u001b[0;36m<cell line: 1>\u001b[0;34m()\u001b[0m\n\u001b[0;32m----> 1\u001b[0;31m \u001b[0mdata\u001b[0m \u001b[0;34m=\u001b[0m \u001b[0mnp\u001b[0m\u001b[0;34m.\u001b[0m\u001b[0mload\u001b[0m\u001b[0;34m(\u001b[0m\u001b[0;34m'/g/data/x77/jm0124/synthetic_datasets/normal_perturb_synthesis/u/2/train/1999258N25128-3.npy'\u001b[0m\u001b[0;34m)\u001b[0m\u001b[0;34m\u001b[0m\u001b[0;34m\u001b[0m\u001b[0m\n\u001b[0m\u001b[1;32m      2\u001b[0m \u001b[0mdata2\u001b[0m \u001b[0;34m=\u001b[0m \u001b[0mnp\u001b[0m\u001b[0;34m.\u001b[0m\u001b[0mload\u001b[0m\u001b[0;34m(\u001b[0m\u001b[0;34m'/g/data/x77/jm0124/synthetic_datasets/base_synthesis/u/2/train/1999258N25128-3.npy'\u001b[0m\u001b[0;34m)\u001b[0m\u001b[0;34m\u001b[0m\u001b[0;34m\u001b[0m\u001b[0m\n",
      "\u001b[0;32m/g/data/hh5/public/apps/miniconda3/envs/analysis3-22.01/lib/python3.9/site-packages/numpy/lib/npyio.py\u001b[0m in \u001b[0;36mload\u001b[0;34m(file, mmap_mode, allow_pickle, fix_imports, encoding)\u001b[0m\n\u001b[1;32m    415\u001b[0m             \u001b[0mown_fid\u001b[0m \u001b[0;34m=\u001b[0m \u001b[0;32mFalse\u001b[0m\u001b[0;34m\u001b[0m\u001b[0;34m\u001b[0m\u001b[0m\n\u001b[1;32m    416\u001b[0m         \u001b[0;32melse\u001b[0m\u001b[0;34m:\u001b[0m\u001b[0;34m\u001b[0m\u001b[0;34m\u001b[0m\u001b[0m\n\u001b[0;32m--> 417\u001b[0;31m             \u001b[0mfid\u001b[0m \u001b[0;34m=\u001b[0m \u001b[0mstack\u001b[0m\u001b[0;34m.\u001b[0m\u001b[0menter_context\u001b[0m\u001b[0;34m(\u001b[0m\u001b[0mopen\u001b[0m\u001b[0;34m(\u001b[0m\u001b[0mos_fspath\u001b[0m\u001b[0;34m(\u001b[0m\u001b[0mfile\u001b[0m\u001b[0;34m)\u001b[0m\u001b[0;34m,\u001b[0m \u001b[0;34m\"rb\"\u001b[0m\u001b[0;34m)\u001b[0m\u001b[0;34m)\u001b[0m\u001b[0;34m\u001b[0m\u001b[0;34m\u001b[0m\u001b[0m\n\u001b[0m\u001b[1;32m    418\u001b[0m             \u001b[0mown_fid\u001b[0m \u001b[0;34m=\u001b[0m \u001b[0;32mTrue\u001b[0m\u001b[0;34m\u001b[0m\u001b[0;34m\u001b[0m\u001b[0m\n\u001b[1;32m    419\u001b[0m \u001b[0;34m\u001b[0m\u001b[0m\n",
      "\u001b[0;31mFileNotFoundError\u001b[0m: [Errno 2] No such file or directory: '/g/data/x77/jm0124/synthetic_datasets/normal_perturb_synthesis/u/2/train/1999258N25128-3.npy'"
     ]
    }
   ],
   "source": [
    "data = np.load('/g/data/x77/jm0124/synthetic_datasets/normal_perturb_synthesis/u/2/train/1999258N25128-3.npy')\n",
    "data2 = np.load('/g/data/x77/jm0124/synthetic_datasets/base_synthesis/u/2/train/1999258N25128-3.npy')"
   ]
  },
  {
   "cell_type": "code",
   "execution_count": null,
   "id": "4fe11e88-c491-4d1d-920f-882fd1d69871",
   "metadata": {},
   "outputs": [],
   "source": []
  }
 ],
 "metadata": {
  "kernelspec": {
   "display_name": "Python [conda env:analysis3-22.01]",
   "language": "python",
   "name": "conda-env-analysis3-22.01-py"
  },
  "language_info": {
   "codemirror_mode": {
    "name": "ipython",
    "version": 3
   },
   "file_extension": ".py",
   "mimetype": "text/x-python",
   "name": "python",
   "nbconvert_exporter": "python",
   "pygments_lexer": "ipython3",
   "version": "3.9.12"
  }
 },
 "nbformat": 4,
 "nbformat_minor": 5
}
