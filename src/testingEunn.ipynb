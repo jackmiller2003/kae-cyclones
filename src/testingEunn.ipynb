{
 "cells": [
  {
   "cell_type": "code",
   "execution_count": 13,
   "id": "f16949ec-c20f-427e-926f-d619d7edb1e7",
   "metadata": {},
   "outputs": [],
   "source": [
    "from eunn import EUNN\n",
    "import torch\n",
    "import numpy as np"
   ]
  },
  {
   "cell_type": "code",
   "execution_count": 14,
   "id": "e60e3d4d-22aa-454f-a7fb-696622aa4bff",
   "metadata": {},
   "outputs": [],
   "source": [
    "layer = EUNN(4)"
   ]
  },
  {
   "cell_type": "code",
   "execution_count": 25,
   "id": "ad275aa6-4d11-48b2-ac1c-9dca6963117e",
   "metadata": {},
   "outputs": [
    {
     "data": {
      "text/plain": [
       "tensor([[ 0.4884, -0.9241, -0.4690,  0.0136]], grad_fn=<SelectBackward0>)"
      ]
     },
     "execution_count": 25,
     "metadata": {},
     "output_type": "execute_result"
    }
   ],
   "source": [
    "layer.forward(torch.tensor(np.array([[[1,1], [1,-1], [1,1], [1,1]]])))[:,:,0]"
   ]
  },
  {
   "cell_type": "code",
   "execution_count": null,
   "id": "9e29838c-25f1-4bbe-ad63-da379f593196",
   "metadata": {},
   "outputs": [],
   "source": []
  }
 ],
 "metadata": {
  "kernelspec": {
   "display_name": "Python [conda env:analysis3-22.01]",
   "language": "python",
   "name": "conda-env-analysis3-22.01-py"
  },
  "language_info": {
   "codemirror_mode": {
    "name": "ipython",
    "version": 3
   },
   "file_extension": ".py",
   "mimetype": "text/x-python",
   "name": "python",
   "nbconvert_exporter": "python",
   "pygments_lexer": "ipython3",
   "version": "3.9.12"
  }
 },
 "nbformat": 4,
 "nbformat_minor": 5
}
