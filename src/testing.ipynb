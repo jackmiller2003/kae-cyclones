{
 "cells": [
  {
   "cell_type": "code",
   "execution_count": null,
   "id": "007c4f4a-9999-4abb-a37d-16a65b4228fa",
   "metadata": {},
   "outputs": [],
   "source": [
    "import xarray\n",
    "import numpy as np\n",
    "import sys"
   ]
  },
  {
   "cell_type": "code",
   "execution_count": null,
   "id": "80c12901-deba-4fe2-9b2d-80029937d48f",
   "metadata": {},
   "outputs": [],
   "source": [
    "import scipy\n",
    "np.set_printoptions(threshold=sys.maxsize)"
   ]
  },
  {
   "cell_type": "code",
   "execution_count": null,
   "id": "969d6cf2-4fc2-44fe-b536-41e33b2ae23f",
   "metadata": {},
   "outputs": [],
   "source": [
    "def subsample(data, sample_size):\n",
    "    samples = list(zip(*[iter(data)]*sample_size))   # use 3 for triplets, etc.\n",
    "    return map(lambda x:sum(x)/float(len(x)), samples)"
   ]
  },
  {
   "cell_type": "code",
   "execution_count": null,
   "id": "61eb46f9-bea3-44a2-b5c6-134031b79bf4",
   "metadata": {},
   "outputs": [],
   "source": [
    "cyclone_ds = xarray.open_dataset(\"/g/data/x77/ob2720/partition/train/1999013S13164.nc\", \\\n",
    "                                         engine='netcdf4', cache=True, chunks='auto', decode_cf=False)\n",
    "cyclone_ds"
   ]
  },
  {
   "cell_type": "code",
   "execution_count": null,
   "id": "fd23361e-3d75-42b9-90ef-96731dedbf59",
   "metadata": {},
   "outputs": [],
   "source": [
    "cyclone_ds = xarray.open_dataset(\"/g/data/x77/ob2720/partition/train/1999031N08092.nc\", \\\n",
    "                                         engine='netcdf4', cache=True, chunks='auto', decode_cf=False)\n",
    "cyclone_ds = cyclone_ds[dict(time=list(range(0, 8)),level=[1])][['v']]\n",
    "cyclone_array = cyclone_ds.to_array().to_numpy()\n",
    "cyclone_array = cyclone_array[:,:,:,40:120,40:120]\n",
    "cyclone_array_new = cyclone_array[:,:,:,::4,::4].copy()\n",
    "cyclone_array = cyclone_array.transpose((1,0,2,3,4))\n",
    "cyclone_array_new = cyclone_array_new.transpose((1,0,2,3,4))\n",
    "cyclone_array = cyclone_array.reshape((8,-1,80,80))\n",
    "cyclone_array_new = cyclone_array_new.reshape((8,-1,20,20))\n",
    "# print(cyclone_array[0])\n",
    "print(cyclone_array_new[0])"
   ]
  },
  {
   "cell_type": "code",
   "execution_count": null,
   "id": "67259d33-eb36-48e6-a9dc-118a807a2644",
   "metadata": {},
   "outputs": [],
   "source": [
    "array = np.load(\"/g/data/x77/jm0124/np_cyclones_crop/4/train/1979066S15124-41.npy\")\n",
    "print(array[0])"
   ]
  },
  {
   "cell_type": "code",
   "execution_count": null,
   "id": "8826b69b-14b6-4ce4-b99d-dcbc50294cfc",
   "metadata": {},
   "outputs": [],
   "source": [
    "import seaborn\n",
    "seaborn.heatmap(array[1,0,:,:]/1000)"
   ]
  },
  {
   "cell_type": "code",
   "execution_count": null,
   "id": "692a8b13-bf18-446e-be13-f9655cd91f37",
   "metadata": {},
   "outputs": [],
   "source": [
    "!ls /g/data/x77/jm0124/np_cyclones_crop/2/train"
   ]
  },
  {
   "cell_type": "code",
   "execution_count": null,
   "id": "1e652f18-435f-4b5f-96e8-edf5d6caf82b",
   "metadata": {},
   "outputs": [],
   "source": [
    "print(array[::-1][0])\n",
    "print(array[-1])"
   ]
  },
  {
   "cell_type": "code",
   "execution_count": null,
   "id": "d8d046f0-b3ee-4fd7-a456-a498c6087ef1",
   "metadata": {},
   "outputs": [],
   "source": [
    "from datasets import *"
   ]
  },
  {
   "cell_type": "code",
   "execution_count": null,
   "id": "86922e96-e161-4156-90b0-49df91c685c8",
   "metadata": {},
   "outputs": [],
   "source": [
    "!ls /g/data/x77/ob2720/partition/train/"
   ]
  },
  {
   "cell_type": "code",
   "execution_count": null,
   "id": "4b8b2a88-44f5-431b-8d6f-93ee93bcd4b1",
   "metadata": {},
   "outputs": [],
   "source": []
  }
 ],
 "metadata": {
  "kernelspec": {
   "display_name": "Python [conda env:analysis3]",
   "language": "python",
   "name": "conda-env-analysis3-py"
  },
  "language_info": {
   "codemirror_mode": {
    "name": "ipython",
    "version": 3
   },
   "file_extension": ".py",
   "mimetype": "text/x-python",
   "name": "python",
   "nbconvert_exporter": "python",
   "pygments_lexer": "ipython3",
   "version": "3.9.9"
  }
 },
 "nbformat": 4,
 "nbformat_minor": 5
}
