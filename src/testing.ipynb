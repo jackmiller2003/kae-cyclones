{
 "cells": [
  {
   "cell_type": "code",
   "execution_count": null,
   "id": "007c4f4a-9999-4abb-a37d-16a65b4228fa",
   "metadata": {},
   "outputs": [],
   "source": [
    "import xarray\n",
    "import numpy as np\n",
    "import sys"
   ]
  },
  {
   "cell_type": "code",
   "execution_count": null,
   "id": "80c12901-deba-4fe2-9b2d-80029937d48f",
   "metadata": {},
   "outputs": [],
   "source": [
    "import scipy\n",
    "np.set_printoptions(threshold=sys.maxsize)"
   ]
  },
  {
   "cell_type": "code",
   "execution_count": null,
   "id": "969d6cf2-4fc2-44fe-b536-41e33b2ae23f",
   "metadata": {},
   "outputs": [],
   "source": [
    "def subsample(data, sample_size):\n",
    "    samples = list(zip(*[iter(data)]*sample_size))   # use 3 for triplets, etc.\n",
    "    return map(lambda x:sum(x)/float(len(x)), samples)"
   ]
  },
  {
   "cell_type": "code",
   "execution_count": null,
   "id": "61eb46f9-bea3-44a2-b5c6-134031b79bf4",
   "metadata": {},
   "outputs": [],
   "source": [
    "cyclone_ds = xarray.open_dataset(\"/g/data/x77/ob2720/partition/train/1999013S13164.nc\", \\\n",
    "                                         engine='netcdf4', cache=True, chunks='auto', decode_cf=False)\n",
    "cyclone_ds"
   ]
  },
  {
   "cell_type": "code",
   "execution_count": null,
   "id": "fd23361e-3d75-42b9-90ef-96731dedbf59",
   "metadata": {},
   "outputs": [],
   "source": [
    "cyclone_ds = xarray.open_dataset(\"/g/data/x77/ob2720/partition/train/1999031N08092.nc\", \\\n",
    "                                         engine='netcdf4', cache=True, chunks='auto', decode_cf=False)\n",
    "cyclone_ds = cyclone_ds[dict(time=list(range(0, 8)),level=[1])][['v']]\n",
    "cyclone_array = cyclone_ds.to_array().to_numpy()\n",
    "cyclone_array = cyclone_array[:,:,:,40:120,40:120]\n",
    "cyclone_array_new = cyclone_array[:,:,:,::4,::4].copy()\n",
    "cyclone_array = cyclone_array.transpose((1,0,2,3,4))\n",
    "cyclone_array_new = cyclone_array_new.transpose((1,0,2,3,4))\n",
    "cyclone_array = cyclone_array.reshape((8,-1,80,80))\n",
    "cyclone_array_new = cyclone_array_new.reshape((8,-1,20,20))\n",
    "# print(cyclone_array[0])\n",
    "print(cyclone_array_new[0])"
   ]
  },
  {
   "cell_type": "code",
   "execution_count": null,
   "id": "67259d33-eb36-48e6-a9dc-118a807a2644",
   "metadata": {},
   "outputs": [],
   "source": [
    "array = np.load(\"/g/data/x77/jm0124/np_cyclones_crop/4/train/1979066S15124-41.npy\")\n",
    "print(array[0])"
   ]
  },
  {
   "cell_type": "code",
   "execution_count": null,
   "id": "8826b69b-14b6-4ce4-b99d-dcbc50294cfc",
   "metadata": {},
   "outputs": [],
   "source": [
    "import seaborn\n",
    "seaborn.heatmap(array[1,0,:,:]/1000)"
   ]
  },
  {
   "cell_type": "code",
   "execution_count": null,
   "id": "692a8b13-bf18-446e-be13-f9655cd91f37",
   "metadata": {},
   "outputs": [],
   "source": [
    "!ls /g/data/x77/jm0124/np_cyclones_crop/2/train"
   ]
  },
  {
   "cell_type": "code",
   "execution_count": null,
   "id": "1e652f18-435f-4b5f-96e8-edf5d6caf82b",
   "metadata": {},
   "outputs": [],
   "source": [
    "print(array[::-1][0])\n",
    "print(array[-1])"
   ]
  },
  {
   "cell_type": "code",
   "execution_count": null,
   "id": "d8d046f0-b3ee-4fd7-a456-a498c6087ef1",
   "metadata": {},
   "outputs": [],
   "source": [
    "from datasets import *"
   ]
  },
  {
   "cell_type": "code",
   "execution_count": null,
   "id": "86922e96-e161-4156-90b0-49df91c685c8",
   "metadata": {},
   "outputs": [],
   "source": [
    "!ls /g/data/x77/ob2720/partition/train/"
   ]
  },
  {
   "cell_type": "markdown",
   "id": "c0044a6b-d1b5-40ce-9613-6e402c6171f1",
   "metadata": {},
   "source": [
    "## Training run with just eigenloss"
   ]
  },
  {
   "cell_type": "code",
   "execution_count": 1,
   "id": "2db33348-1532-400e-95a0-9738456d1a80",
   "metadata": {},
   "outputs": [],
   "source": [
    "import torch\n",
    "import xarray\n",
    "from datasets import *\n",
    "from models import *\n",
    "from dl_pipeline import *\n",
    "import seaborn\n",
    "import numpy as np\n",
    "import matplotlib.pyplot as plt\n",
    "import copy"
   ]
  },
  {
   "cell_type": "code",
   "execution_count": 2,
   "id": "57008e07-7102-42d3-ae9e-de6f14470481",
   "metadata": {},
   "outputs": [
    {
     "name": "stderr",
     "output_type": "stream",
     "text": [
      "  8%|▊         | 100/1326.0234375 [00:25<06:36,  3.09it/s]"
     ]
    },
    {
     "name": "stdout",
     "output_type": "stream",
     "text": [
      "Minimum eigenvalue: 9.894254684448242\n",
      "Loss: 199174.70403775302\n",
      "Fwd loss: 198974.01960338245\n",
      "Eigen loss: 200.68416152337585\n",
      "[ 9.945325  +0.j         9.815344  +1.572093j   9.815344  -1.572093j\n",
      "  9.25045   +3.5097108j  9.25045   -3.5097108j  8.729424  +4.7301354j\n",
      "  8.729424  -4.7301354j  7.3391905 +6.7040367j  7.3391905 -6.7040367j\n",
      "  5.4039884 +8.314118j   5.4039884 -8.314118j   4.701874  +8.74779j\n",
      "  4.701874  -8.74779j    1.7904007 +9.783026j   1.7904007 -9.783026j\n",
      " -0.26314005+9.953278j  -0.26314005-9.953278j  -1.8264308 +9.773689j\n",
      " -1.8264308 -9.773689j  -3.317507  +9.360428j  -3.317507  -9.360428j\n",
      " -5.7262807 +8.124373j  -5.7262807 -8.124373j  -6.901529  +7.1153455j\n",
      " -6.901529  -7.1153455j -8.377587  +5.342816j  -8.377587  -5.342816j\n",
      " -9.273941  +3.5059586j -9.273941  -3.5059586j -9.927409  +0.5075786j\n",
      " -9.927409  -0.5075786j -9.933759  +0.j       ]\n"
     ]
    },
    {
     "name": "stderr",
     "output_type": "stream",
     "text": [
      " 15%|█▌        | 200/1326.0234375 [00:51<04:44,  3.96it/s]"
     ]
    },
    {
     "name": "stdout",
     "output_type": "stream",
     "text": [
      "Minimum eigenvalue: 9.832616806030273\n",
      "Loss: 99741.11810026696\n",
      "Fwd loss: 99542.1668680469\n",
      "Eigen loss: 198.95110154271725\n",
      "[ 9.896991  +0.j         9.771173  +1.5688425j  9.771173  -1.5688425j\n",
      "  9.1945915 +3.482225j   9.1945915 -3.482225j   8.689117  +4.7076306j\n",
      "  8.689117  -4.7076306j  7.3069453 +6.677584j   7.3069453 -6.677584j\n",
      "  5.3792534 +8.275556j   5.3792534 -8.275556j   4.6717067 +8.697602j\n",
      "  4.6717067 -8.697602j   1.785943  +9.7366295j  1.785943  -9.7366295j\n",
      " -0.25650978+9.908834j  -0.25650978-9.908834j  -1.8162987 +9.705771j\n",
      " -1.8162987 -9.705771j  -3.3041914 +9.317243j  -3.3041914 -9.317243j\n",
      " -5.6957817 +8.09383j   -5.6957817 -8.09383j   -6.8576727 +7.079128j\n",
      " -6.8576727 -7.079128j  -8.326261  +5.3168263j -8.326261  -5.3168263j\n",
      " -9.232416  +3.4852107j -9.232416  -3.4852107j -9.87582   +0.504132j\n",
      " -9.87582   -0.504132j  -9.886165  +0.j       ]\n"
     ]
    },
    {
     "name": "stderr",
     "output_type": "stream",
     "text": [
      " 23%|██▎       | 300/1326.0234375 [01:17<07:21,  2.33it/s]"
     ]
    },
    {
     "name": "stdout",
     "output_type": "stream",
     "text": [
      "Minimum eigenvalue: 9.776556968688965\n",
      "Loss: 66635.09186770844\n",
      "Fwd loss: 66437.1104631711\n",
      "Eigen loss: 197.98131738618065\n",
      "[ 9.851992 +0.j          9.722979 +1.566057j    9.722979 -1.566057j\n",
      "  9.14441  +3.4563468j   9.14441  -3.4563468j   8.651397 +4.691634j\n",
      "  8.651397 -4.691634j    7.2815566+6.6555476j   7.2815566-6.6555476j\n",
      "  5.3408346+8.249025j    5.3408346-8.249025j    4.6577406+8.676249j\n",
      "  4.6577406-8.676249j    1.788231 +9.687566j    1.788231 -9.687566j\n",
      " -0.2498175+9.871721j   -0.2498175-9.871721j   -1.8053985+9.66289j\n",
      " -1.8053985-9.66289j    -3.2818627+9.277922j   -3.2818627-9.277922j\n",
      " -5.6861205+8.068764j   -5.6861205-8.068764j   -6.8283296+7.062452j\n",
      " -6.8283296-7.062452j   -8.273732 +5.285341j   -8.273732 -5.285341j\n",
      " -9.191014 +3.4654243j  -9.191014 -3.4654243j  -9.844348 +0.50627846j\n",
      " -9.844348 -0.50627846j -9.8704   +0.j        ]\n"
     ]
    },
    {
     "name": "stderr",
     "output_type": "stream",
     "text": [
      " 30%|███       | 401/1326.0234375 [01:42<03:14,  4.75it/s]"
     ]
    },
    {
     "name": "stdout",
     "output_type": "stream",
     "text": [
      "Minimum eigenvalue: 9.73507308959961\n",
      "Loss: 50078.20239292231\n",
      "Fwd loss: 49880.92497302177\n",
      "Eigen loss: 197.27735409461764\n",
      "[ 9.822432  +0.j         9.695309  +1.5608046j  9.695309  -1.5608046j\n",
      "  9.104897  +3.4435935j  9.104897  -3.4435935j  8.621342  +4.6841483j\n",
      "  8.621342  -4.6841483j  7.2572956 +6.643048j   7.2572956 -6.643048j\n",
      "  5.325236  +8.217439j   5.325236  -8.217439j   4.650908  +8.647881j\n",
      "  4.650908  -8.647881j   1.7784679 +9.657987j   1.7784679 -9.657987j\n",
      " -0.24123086+9.8483715j -0.24123086-9.8483715j -1.8015628 +9.63236j\n",
      " -1.8015628 -9.63236j   -3.2657847 +9.226362j  -3.2657847 -9.226362j\n",
      " -5.663808  +8.06351j   -5.663808  -8.06351j   -6.8109527 +7.0481143j\n",
      " -6.8109527 -7.0481143j -8.256686  +5.254687j  -8.256686  -5.254687j\n",
      " -9.152685  +3.452198j  -9.152685  -3.452198j  -9.798085  +0.5086424j\n",
      " -9.798085  -0.5086424j -9.841995  +0.j       ]\n"
     ]
    },
    {
     "name": "stderr",
     "output_type": "stream",
     "text": [
      " 38%|███▊      | 500/1326.0234375 [02:08<06:05,  2.26it/s]"
     ]
    },
    {
     "name": "stdout",
     "output_type": "stream",
     "text": [
      "Minimum eigenvalue: 9.6917724609375\n",
      "Loss: 40227.8636634842\n",
      "Fwd loss: 40031.19975279233\n",
      "Eigen loss: 196.66386078737065\n",
      "[ 9.78161   +0.j          9.677743  +1.5422404j   9.677743  -1.5422404j\n",
      "  9.062513  +3.432404j    9.062513  -3.432404j    8.602373  +4.6630335j\n",
      "  8.602373  -4.6630335j   7.2262006 +6.6160507j   7.2262006 -6.6160507j\n",
      "  5.3202677 +8.192836j    5.3202677 -8.192836j    4.6426945 +8.624487j\n",
      "  4.6426945 -8.624487j    1.7827827 +9.636491j    1.7827827 -9.636491j\n",
      " -0.24222565+9.826842j   -0.24222565-9.826842j   -1.8001208 +9.600449j\n",
      " -1.8001208 -9.600449j   -3.2584639 +9.189627j   -3.2584639 -9.189627j\n",
      " -5.636138  +8.033661j   -5.636138  -8.033661j   -6.7929916 +7.022985j\n",
      " -6.7929916 -7.022985j   -8.225993  +5.241707j   -8.225993  -5.241707j\n",
      " -9.129708  +3.4425695j  -9.129708  -3.4425695j  -9.775177  +0.51477563j\n",
      " -9.775177  -0.51477563j -9.808619  +0.j        ]\n"
     ]
    },
    {
     "name": "stderr",
     "output_type": "stream",
     "text": [
      " 45%|████▌     | 601/1326.0234375 [02:33<02:15,  5.35it/s]"
     ]
    },
    {
     "name": "stdout",
     "output_type": "stream",
     "text": [
      "Minimum eigenvalue: 9.659547805786133\n",
      "Loss: 33598.13091348129\n",
      "Fwd loss: 33401.98800587216\n",
      "Eigen loss: 196.1428655009835\n",
      "[ 9.751398  +0.j         9.642922  +1.5461758j  9.642922  -1.5461758j\n",
      "  9.0332365 +3.4204128j  9.0332365 -3.4204128j  8.575947  +4.650787j\n",
      "  8.575947  -4.650787j   7.209338  +6.598739j   7.209338  -6.598739j\n",
      "  5.3150268 +8.1689415j  5.3150268 -8.1689415j  4.6242743 +8.601191j\n",
      "  4.6242743 -8.601191j   1.7707032 +9.598014j   1.7707032 -9.598014j\n",
      " -0.23475185+9.79901j   -0.23475185-9.79901j   -1.8089476 +9.55936j\n",
      " -1.8089476 -9.55936j   -3.2523315 +9.162387j  -3.2523315 -9.162387j\n",
      " -5.627611  +8.02565j   -5.627611  -8.02565j   -6.7783837 +7.003188j\n",
      " -6.7783837 -7.003188j  -8.213069  +5.2297034j -8.213069  -5.2297034j\n",
      " -9.110084  +3.4197185j -9.110084  -3.4197185j -9.749991  +0.5069309j\n",
      " -9.749991  -0.5069309j -9.777331  +0.j       ]\n"
     ]
    },
    {
     "name": "stderr",
     "output_type": "stream",
     "text": [
      " 53%|█████▎    | 701/1326.0234375 [02:59<03:07,  3.33it/s]"
     ]
    },
    {
     "name": "stdout",
     "output_type": "stream",
     "text": [
      "Minimum eigenvalue: 9.633137702941895\n",
      "Loss: 28854.002671925296\n",
      "Fwd loss: 28658.330331657748\n",
      "Eigen loss: 195.6723044836129\n",
      "[ 9.728555  +0.j         9.620381  +1.5339226j  9.620381  -1.5339226j\n",
      "  9.012003  +3.4032702j  9.012003  -3.4032702j  8.548886  +4.6401134j\n",
      "  8.548886  -4.6401134j  7.195667  +6.5717983j  7.195667  -6.5717983j\n",
      "  5.2892156 +8.124613j   5.2892156 -8.124613j   4.619984  +8.57711j\n",
      "  4.619984  -8.57711j    1.7707072 +9.564311j   1.7707072 -9.564311j\n",
      " -0.23253015+9.778862j  -0.23253015-9.778862j  -1.8013911 +9.5449505j\n",
      " -1.8013911 -9.5449505j -3.2327955 +9.14231j   -3.2327955 -9.14231j\n",
      " -5.6122026 +8.011587j  -5.6122026 -8.011587j  -6.763792  +6.983781j\n",
      " -6.763792  -6.983781j  -8.189568  +5.214469j  -8.189568  -5.214469j\n",
      " -9.086561  +3.4311461j -9.086561  -3.4311461j -9.722839  +0.5102817j\n",
      " -9.722839  -0.5102817j -9.7580805 +0.j       ]\n"
     ]
    },
    {
     "name": "stderr",
     "output_type": "stream",
     "text": [
      " 60%|██████    | 801/1326.0234375 [03:24<01:38,  5.32it/s]"
     ]
    },
    {
     "name": "stdout",
     "output_type": "stream",
     "text": [
      "Minimum eigenvalue: 9.608430862426758\n",
      "Loss: 25296.20704526746\n",
      "Fwd loss: 25100.95024630722\n",
      "Eigen loss: 195.25676786974165\n",
      "[ 9.705895  +0.j         9.603424  +1.5318749j  9.603424  -1.5318749j\n",
      "  8.993164  +3.3824801j  8.993164  -3.3824801j  8.5416155 +4.6184416j\n",
      "  8.5416155 -4.6184416j  7.181041  +6.5505223j  7.181041  -6.5505223j\n",
      "  5.2854342 +8.098949j   5.2854342 -8.098949j   4.6117873 +8.559552j\n",
      "  4.6117873 -8.559552j   1.7705978 +9.54859j    1.7705978 -9.54859j\n",
      " -0.23174556+9.753092j  -0.23174556-9.753092j  -1.8020835 +9.521311j\n",
      " -1.8020835 -9.521311j  -3.228159  +9.108609j  -3.228159  -9.108609j\n",
      " -5.606482  +8.007929j  -5.606482  -8.007929j  -6.7510405 +6.9756866j\n",
      " -6.7510405 -6.9756866j -8.159307  +5.2002363j -8.159307  -5.2002363j\n",
      " -9.058253  +3.4151907j -9.058253  -3.4151907j -9.699323  +0.5097288j\n",
      " -9.699323  -0.5097288j -9.732064  +0.j       ]\n"
     ]
    },
    {
     "name": "stderr",
     "output_type": "stream",
     "text": [
      " 68%|██████▊   | 901/1326.0234375 [03:49<02:24,  2.93it/s]"
     ]
    },
    {
     "name": "stdout",
     "output_type": "stream",
     "text": [
      "Minimum eigenvalue: 9.578287124633789\n",
      "Loss: 22523.004264042294\n",
      "Fwd loss: 22328.133641082797\n",
      "Eigen loss: 194.87059505152888\n",
      "[ 9.6724205 +0.j          9.5872965 +1.5223826j   9.5872965 -1.5223826j\n",
      "  8.963646  +3.374127j    8.963646  -3.374127j    8.526289  +4.6159406j\n",
      "  8.526289  -4.6159406j   7.1649733 +6.5440845j   7.1649733 -6.5440845j\n",
      "  5.2737527 +8.068753j    5.2737527 -8.068753j    4.6018233 +8.5463j\n",
      "  4.6018233 -8.5463j      1.7654876 +9.530658j    1.7654876 -9.530658j\n",
      " -0.22920695+9.739302j   -0.22920695-9.739302j   -1.7899084 +9.496357j\n",
      " -1.7899084 -9.496357j   -3.2136385 +9.091292j   -3.2136385 -9.091292j\n",
      " -5.574     +7.998452j   -5.574     -7.998452j   -6.749043  +6.9588165j\n",
      " -6.749043  -6.9588165j  -8.145787  +5.1898713j  -8.145787  -5.1898713j\n",
      " -9.028996  +3.4007394j  -9.028996  -3.4007394j  -9.684814  +0.51044756j\n",
      " -9.684814  -0.51044756j -9.712397  +0.j        ]\n"
     ]
    },
    {
     "name": "stderr",
     "output_type": "stream",
     "text": [
      " 75%|███████▌  | 1001/1326.0234375 [04:15<01:09,  4.67it/s]"
     ]
    },
    {
     "name": "stdout",
     "output_type": "stream",
     "text": [
      "Minimum eigenvalue: 9.556685447692871\n",
      "Loss: 20302.551616893994\n",
      "Fwd loss: 20108.03261005222\n",
      "Eigen loss: 194.51898162429399\n",
      "[ 9.661004  +0.j         9.567929  +1.5170183j  9.567929  -1.5170183j\n",
      "  8.94508   +3.3645232j  8.94508   -3.3645232j  8.502093  +4.6056685j\n",
      "  8.502093  -4.6056685j  7.145143  +6.517058j   7.145143  -6.517058j\n",
      "  5.2601414 +8.045593j   5.2601414 -8.045593j   4.5932026 +8.517174j\n",
      "  4.5932026 -8.517174j   1.7656087 +9.504988j   1.7656087 -9.504988j\n",
      " -0.22565417+9.719246j  -0.22565417-9.719246j  -1.7984769 +9.473671j\n",
      " -1.7984769 -9.473671j  -3.2137208 +9.066325j  -3.2137208 -9.066325j\n",
      " -5.572662  +7.982933j  -5.572662  -7.982933j  -6.7395387 +6.9424844j\n",
      " -6.7395387 -6.9424844j -8.130636  +5.1780906j -8.130636  -5.1780906j\n",
      " -9.018174  +3.396282j  -9.018174  -3.396282j  -9.67003   +0.5068462j\n",
      " -9.67003   -0.5068462j -9.696368  +0.j       ]\n"
     ]
    },
    {
     "name": "stderr",
     "output_type": "stream",
     "text": [
      " 83%|████████▎ | 1101/1326.0234375 [04:40<01:10,  3.20it/s]"
     ]
    },
    {
     "name": "stdout",
     "output_type": "stream",
     "text": [
      "Minimum eigenvalue: 9.538135528564453\n",
      "Loss: 18487.477889861922\n",
      "Fwd loss: 18293.28490395932\n",
      "Eigen loss: 194.1929626985503\n",
      "[ 9.6312    +0.j         9.550971  +1.5183325j  9.550971  -1.5183325j\n",
      "  8.924317  +3.3664417j  8.924317  -3.3664417j  8.483371  +4.5943913j\n",
      "  8.483371  -4.5943913j  7.1255283 +6.4978924j  7.1255283 -6.4978924j\n",
      "  5.240942  +8.013853j   5.240942  -8.013853j   4.5880504 +8.499645j\n",
      "  4.5880504 -8.499645j   1.7610652 +9.474833j   1.7610652 -9.474833j\n",
      " -0.23145372+9.700914j  -0.23145372-9.700914j  -1.7881062 +9.453071j\n",
      " -1.7881062 -9.453071j  -3.2076716 +9.046447j  -3.2076716 -9.046447j\n",
      " -5.5631437 +7.962622j  -5.5631437 -7.962622j  -6.7275376 +6.9334054j\n",
      " -6.7275376 -6.9334054j -8.120328  +5.1744537j -8.120328  -5.1744537j\n",
      " -9.000354  +3.3904252j -9.000354  -3.3904252j -9.656548  +0.5004403j\n",
      " -9.656548  -0.5004403j -9.665393  +0.j       ]\n"
     ]
    },
    {
     "name": "stderr",
     "output_type": "stream",
     "text": [
      " 90%|█████████ | 1200/1326.0234375 [05:06<00:30,  4.14it/s]"
     ]
    },
    {
     "name": "stdout",
     "output_type": "stream",
     "text": [
      "Minimum eigenvalue: 9.517902374267578\n",
      "Loss: 16972.339965133095\n",
      "Fwd loss: 16778.446317152542\n",
      "Eigen loss: 193.89362662906345\n",
      "[ 9.6090975+0.j          9.532874 +1.5220815j   9.532874 -1.5220815j\n",
      "  8.909601 +3.3479316j   8.909601 -3.3479316j   8.480939 +4.5823364j\n",
      "  8.480939 -4.5823364j   7.1114836+6.4893203j   7.1114836-6.4893203j\n",
      "  5.2403626+7.9893284j   5.2403626-7.9893284j   4.5765834+8.486136j\n",
      "  4.5765834-8.486136j    1.7632107+9.453883j    1.7632107-9.453883j\n",
      " -0.2317777+9.686633j   -0.2317777-9.686633j   -1.7749621+9.423106j\n",
      " -1.7749621-9.423106j   -3.2017353+9.029078j   -3.2017353-9.029078j\n",
      " -5.555449 +7.9514437j  -5.555449 -7.9514437j  -6.7199273+6.9212694j\n",
      " -6.7199273-6.9212694j  -8.107182 +5.1596355j  -8.107182 -5.1596355j\n",
      " -8.982139 +3.391337j   -8.982139 -3.391337j   -9.633674 +0.49968398j\n",
      " -9.633674 -0.49968398j -9.655828 +0.j        ]\n"
     ]
    },
    {
     "name": "stderr",
     "output_type": "stream",
     "text": [
      " 98%|█████████▊| 1301/1326.0234375 [05:33<00:09,  2.78it/s]"
     ]
    },
    {
     "name": "stdout",
     "output_type": "stream",
     "text": [
      "Minimum eigenvalue: 9.50451946258545\n",
      "Loss: 15691.478319210672\n",
      "Fwd loss: 15497.861503119466\n",
      "Eigen loss: 193.61679657135127\n",
      "[ 9.511403  +1.5197483j  9.511403  -1.5197483j  9.573063  +0.j\n",
      "  8.895368  +3.3477116j  8.895368  -3.3477116j  8.455918  +4.5759473j\n",
      "  8.455918  -4.5759473j  7.096046  +6.464215j   7.096046  -6.464215j\n",
      "  5.2338676 +7.9664774j  5.2338676 -7.9664774j  4.564434  +8.465169j\n",
      "  4.564434  -8.465169j   1.7523891 +9.43999j    1.7523891 -9.43999j\n",
      " -0.23493683+9.667204j  -0.23493683-9.667204j  -1.779789  +9.386561j\n",
      " -1.779789  -9.386561j  -3.1948967 +9.01066j   -3.1948967 -9.01066j\n",
      " -5.558243  +7.9392343j -5.558243  -7.9392343j -6.707609  +6.915497j\n",
      " -6.707609  -6.915497j  -8.094069  +5.1486163j -8.094069  -5.1486163j\n",
      " -8.972895  +3.383974j  -8.972895  -3.383974j  -9.614855  +0.4974873j\n",
      " -9.614855  -0.4974873j -9.641408  +0.j       ]\n"
     ]
    },
    {
     "name": "stderr",
     "output_type": "stream",
     "text": [
      "1327it [05:38,  3.92it/s]                                  \n"
     ]
    },
    {
     "name": "stdout",
     "output_type": "stream",
     "text": [
      "0. 120.15977810297137\n",
      "Fwd loss: [118.6477460812604]\n",
      "Back loss: [0.0]\n",
      "Iden loss: [0.0]\n",
      "Cons loss: [0.0]\n",
      "Eigen loss: [1.5120318722974526]\n"
     ]
    },
    {
     "ename": "PermissionError",
     "evalue": "[Errno 13] Permission denied: '/home/156/jm0124/kae-cyclones/saved_models/kae-model-continued-120.15977810297137.pt'",
     "output_type": "error",
     "traceback": [
      "\u001b[0;31m---------------------------------------------------------------------------\u001b[0m",
      "\u001b[0;31mPermissionError\u001b[0m                           Traceback (most recent call last)",
      "\u001b[0;32m/jobfs/41715658.gadi-pbs/ipykernel_1359027/1309881586.py\u001b[0m in \u001b[0;36m<module>\u001b[0;34m\u001b[0m\n\u001b[1;32m      6\u001b[0m \u001b[0;34m\u001b[0m\u001b[0m\n\u001b[1;32m      7\u001b[0m \u001b[0mlogging\u001b[0m\u001b[0;34m.\u001b[0m\u001b[0minfo\u001b[0m\u001b[0;34m(\u001b[0m\u001b[0;34m\"Training DAE - only eigenloss\"\u001b[0m\u001b[0;34m)\u001b[0m\u001b[0;34m\u001b[0m\u001b[0;34m\u001b[0m\u001b[0m\n\u001b[0;32m----> 8\u001b[0;31m model_dae, losses2, fwd_loss2, back_loss2, iden_loss2, cons_loss2 = train(model_dae, loader, len(dataset), \n\u001b[0m\u001b[1;32m      9\u001b[0m                                                                           \u001b[0mkoopman\u001b[0m\u001b[0;34m=\u001b[0m\u001b[0;32mTrue\u001b[0m\u001b[0;34m,\u001b[0m \u001b[0mnum_epochs\u001b[0m\u001b[0;34m=\u001b[0m\u001b[0;36m20\u001b[0m\u001b[0;34m,\u001b[0m \u001b[0msteps\u001b[0m\u001b[0;34m=\u001b[0m\u001b[0;36m4\u001b[0m\u001b[0;34m,\u001b[0m \u001b[0meigen_penal\u001b[0m\u001b[0;34m=\u001b[0m\u001b[0;32mTrue\u001b[0m\u001b[0;34m,\u001b[0m\u001b[0;34m\u001b[0m\u001b[0;34m\u001b[0m\u001b[0m\n\u001b[1;32m     10\u001b[0m                                                                           lamb=0.0, nu=0.0, eta=0.0, alpha=10, batch_size=128)\n",
      "\u001b[0;32m~/kae-cyclones/src/dl_pipeline.py\u001b[0m in \u001b[0;36mtrain\u001b[0;34m(model, train_loader, ds_length, koopman, eigen_penal, device, num_epochs, steps, lamb, nu, eta, alpha, batch_size, backward)\u001b[0m\n\u001b[1;32m    162\u001b[0m \u001b[0;34m\u001b[0m\u001b[0m\n\u001b[1;32m    163\u001b[0m         \u001b[0;32mif\u001b[0m \u001b[0mkoopman\u001b[0m\u001b[0;34m:\u001b[0m\u001b[0;34m\u001b[0m\u001b[0;34m\u001b[0m\u001b[0m\n\u001b[0;32m--> 164\u001b[0;31m             \u001b[0mtorch\u001b[0m\u001b[0;34m.\u001b[0m\u001b[0msave\u001b[0m\u001b[0;34m(\u001b[0m\u001b[0mmodel\u001b[0m\u001b[0;34m.\u001b[0m\u001b[0mstate_dict\u001b[0m\u001b[0;34m(\u001b[0m\u001b[0;34m)\u001b[0m\u001b[0;34m,\u001b[0m \u001b[0;34mf'{saved_models_path}/kae-model-continued-{avg_loss/ds_length}.pt'\u001b[0m\u001b[0;34m)\u001b[0m\u001b[0;34m\u001b[0m\u001b[0;34m\u001b[0m\u001b[0m\n\u001b[0m\u001b[1;32m    165\u001b[0m         \u001b[0;32melse\u001b[0m\u001b[0;34m:\u001b[0m\u001b[0;34m\u001b[0m\u001b[0;34m\u001b[0m\u001b[0m\n\u001b[1;32m    166\u001b[0m             \u001b[0mtorch\u001b[0m\u001b[0;34m.\u001b[0m\u001b[0msave\u001b[0m\u001b[0;34m(\u001b[0m\u001b[0mmodel\u001b[0m\u001b[0;34m.\u001b[0m\u001b[0mstate_dict\u001b[0m\u001b[0;34m(\u001b[0m\u001b[0;34m)\u001b[0m\u001b[0;34m,\u001b[0m \u001b[0;34mf'{saved_models_path}/dae-eigen-model-continued-{avg_loss/ds_length}.pt'\u001b[0m\u001b[0;34m)\u001b[0m\u001b[0;34m\u001b[0m\u001b[0;34m\u001b[0m\u001b[0m\n",
      "\u001b[0;32m~/.local/lib/python3.9/site-packages/torch/serialization.py\u001b[0m in \u001b[0;36msave\u001b[0;34m(obj, f, pickle_module, pickle_protocol, _use_new_zipfile_serialization)\u001b[0m\n\u001b[1;32m    374\u001b[0m     \u001b[0m_check_dill_version\u001b[0m\u001b[0;34m(\u001b[0m\u001b[0mpickle_module\u001b[0m\u001b[0;34m)\u001b[0m\u001b[0;34m\u001b[0m\u001b[0;34m\u001b[0m\u001b[0m\n\u001b[1;32m    375\u001b[0m \u001b[0;34m\u001b[0m\u001b[0m\n\u001b[0;32m--> 376\u001b[0;31m     \u001b[0;32mwith\u001b[0m \u001b[0m_open_file_like\u001b[0m\u001b[0;34m(\u001b[0m\u001b[0mf\u001b[0m\u001b[0;34m,\u001b[0m \u001b[0;34m'wb'\u001b[0m\u001b[0;34m)\u001b[0m \u001b[0;32mas\u001b[0m \u001b[0mopened_file\u001b[0m\u001b[0;34m:\u001b[0m\u001b[0;34m\u001b[0m\u001b[0;34m\u001b[0m\u001b[0m\n\u001b[0m\u001b[1;32m    377\u001b[0m         \u001b[0;32mif\u001b[0m \u001b[0m_use_new_zipfile_serialization\u001b[0m\u001b[0;34m:\u001b[0m\u001b[0;34m\u001b[0m\u001b[0;34m\u001b[0m\u001b[0m\n\u001b[1;32m    378\u001b[0m             \u001b[0;32mwith\u001b[0m \u001b[0m_open_zipfile_writer\u001b[0m\u001b[0;34m(\u001b[0m\u001b[0mopened_file\u001b[0m\u001b[0;34m)\u001b[0m \u001b[0;32mas\u001b[0m \u001b[0mopened_zipfile\u001b[0m\u001b[0;34m:\u001b[0m\u001b[0;34m\u001b[0m\u001b[0;34m\u001b[0m\u001b[0m\n",
      "\u001b[0;32m~/.local/lib/python3.9/site-packages/torch/serialization.py\u001b[0m in \u001b[0;36m_open_file_like\u001b[0;34m(name_or_buffer, mode)\u001b[0m\n\u001b[1;32m    228\u001b[0m \u001b[0;32mdef\u001b[0m \u001b[0m_open_file_like\u001b[0m\u001b[0;34m(\u001b[0m\u001b[0mname_or_buffer\u001b[0m\u001b[0;34m,\u001b[0m \u001b[0mmode\u001b[0m\u001b[0;34m)\u001b[0m\u001b[0;34m:\u001b[0m\u001b[0;34m\u001b[0m\u001b[0;34m\u001b[0m\u001b[0m\n\u001b[1;32m    229\u001b[0m     \u001b[0;32mif\u001b[0m \u001b[0m_is_path\u001b[0m\u001b[0;34m(\u001b[0m\u001b[0mname_or_buffer\u001b[0m\u001b[0;34m)\u001b[0m\u001b[0;34m:\u001b[0m\u001b[0;34m\u001b[0m\u001b[0;34m\u001b[0m\u001b[0m\n\u001b[0;32m--> 230\u001b[0;31m         \u001b[0;32mreturn\u001b[0m \u001b[0m_open_file\u001b[0m\u001b[0;34m(\u001b[0m\u001b[0mname_or_buffer\u001b[0m\u001b[0;34m,\u001b[0m \u001b[0mmode\u001b[0m\u001b[0;34m)\u001b[0m\u001b[0;34m\u001b[0m\u001b[0;34m\u001b[0m\u001b[0m\n\u001b[0m\u001b[1;32m    231\u001b[0m     \u001b[0;32melse\u001b[0m\u001b[0;34m:\u001b[0m\u001b[0;34m\u001b[0m\u001b[0;34m\u001b[0m\u001b[0m\n\u001b[1;32m    232\u001b[0m         \u001b[0;32mif\u001b[0m \u001b[0;34m'w'\u001b[0m \u001b[0;32min\u001b[0m \u001b[0mmode\u001b[0m\u001b[0;34m:\u001b[0m\u001b[0;34m\u001b[0m\u001b[0;34m\u001b[0m\u001b[0m\n",
      "\u001b[0;32m~/.local/lib/python3.9/site-packages/torch/serialization.py\u001b[0m in \u001b[0;36m__init__\u001b[0;34m(self, name, mode)\u001b[0m\n\u001b[1;32m    209\u001b[0m \u001b[0;32mclass\u001b[0m \u001b[0m_open_file\u001b[0m\u001b[0;34m(\u001b[0m\u001b[0m_opener\u001b[0m\u001b[0;34m)\u001b[0m\u001b[0;34m:\u001b[0m\u001b[0;34m\u001b[0m\u001b[0;34m\u001b[0m\u001b[0m\n\u001b[1;32m    210\u001b[0m     \u001b[0;32mdef\u001b[0m \u001b[0m__init__\u001b[0m\u001b[0;34m(\u001b[0m\u001b[0mself\u001b[0m\u001b[0;34m,\u001b[0m \u001b[0mname\u001b[0m\u001b[0;34m,\u001b[0m \u001b[0mmode\u001b[0m\u001b[0;34m)\u001b[0m\u001b[0;34m:\u001b[0m\u001b[0;34m\u001b[0m\u001b[0;34m\u001b[0m\u001b[0m\n\u001b[0;32m--> 211\u001b[0;31m         \u001b[0msuper\u001b[0m\u001b[0;34m(\u001b[0m\u001b[0m_open_file\u001b[0m\u001b[0;34m,\u001b[0m \u001b[0mself\u001b[0m\u001b[0;34m)\u001b[0m\u001b[0;34m.\u001b[0m\u001b[0m__init__\u001b[0m\u001b[0;34m(\u001b[0m\u001b[0mopen\u001b[0m\u001b[0;34m(\u001b[0m\u001b[0mname\u001b[0m\u001b[0;34m,\u001b[0m \u001b[0mmode\u001b[0m\u001b[0;34m)\u001b[0m\u001b[0;34m)\u001b[0m\u001b[0;34m\u001b[0m\u001b[0;34m\u001b[0m\u001b[0m\n\u001b[0m\u001b[1;32m    212\u001b[0m \u001b[0;34m\u001b[0m\u001b[0m\n\u001b[1;32m    213\u001b[0m     \u001b[0;32mdef\u001b[0m \u001b[0m__exit__\u001b[0m\u001b[0;34m(\u001b[0m\u001b[0mself\u001b[0m\u001b[0;34m,\u001b[0m \u001b[0;34m*\u001b[0m\u001b[0margs\u001b[0m\u001b[0;34m)\u001b[0m\u001b[0;34m:\u001b[0m\u001b[0;34m\u001b[0m\u001b[0;34m\u001b[0m\u001b[0m\n",
      "\u001b[0;31mPermissionError\u001b[0m: [Errno 13] Permission denied: '/home/156/jm0124/kae-cyclones/saved_models/kae-model-continued-120.15977810297137.pt'"
     ]
    }
   ],
   "source": [
    "model_dae = koopmanAE(32, steps=4, steps_back=4, alpha=8).to(0)\n",
    "\n",
    "dataset, val_ds, test_ds = generate_example_dataset()\n",
    "loader = torch.utils.data.DataLoader(dataset, batch_size=128, num_workers=8, pin_memory=True, shuffle=True)\n",
    "val_loader = torch.utils.data.DataLoader(val_ds, batch_size=128, num_workers=8, pin_memory=True, shuffle=True)\n",
    "\n",
    "logging.info(\"Training DAE - only eigenloss\")\n",
    "model_dae, losses2, fwd_loss2, back_loss2, iden_loss2, cons_loss2 = train(model_dae, loader, len(dataset), \n",
    "                                                                          koopman=True, num_epochs=20, steps=4, eigen_penal=True,\n",
    "                                                                          lamb=0.0, nu=0.0, eta=0.0, alpha=10, batch_size=128)"
   ]
  },
  {
   "cell_type": "code",
   "execution_count": 3,
   "id": "a7008351-923d-4674-b3f2-1a3cbeab7ae5",
   "metadata": {},
   "outputs": [
    {
     "data": {
      "text/plain": [
       "9.498313"
      ]
     },
     "execution_count": 3,
     "metadata": {},
     "output_type": "execute_result"
    }
   ],
   "source": [
    "A = model_dae.dynamics.dynamics.weight.cpu().detach().numpy()\n",
    "w, v = np.linalg.eig(A)\n",
    "#w_abs = np.min(np.absolute(w)) \n",
    "np.min(np.absolute(w))"
   ]
  },
  {
   "cell_type": "code",
   "execution_count": 1,
   "id": "e9ee32a0-f0e8-48a1-8541-3c73aaf3cb84",
   "metadata": {},
   "outputs": [],
   "source": [
    "import xarray\n",
    "import numpy as np\n",
    "import sys"
   ]
  },
  {
   "cell_type": "code",
   "execution_count": 2,
   "id": "631f220a-eb2b-4559-9c85-ca01e238a279",
   "metadata": {},
   "outputs": [],
   "source": [
    "import torch\n",
    "import dataset_generation"
   ]
  },
  {
   "cell_type": "code",
   "execution_count": 18,
   "id": "493f44b3-a8fb-45db-8e4a-f884645f7fba",
   "metadata": {},
   "outputs": [
    {
     "data": {
      "text/plain": [
       "torch.Size([1, 64, 1])"
      ]
     },
     "execution_count": 18,
     "metadata": {},
     "output_type": "execute_result"
    }
   ],
   "source": [
    "dataset_generation.pendulum_to_ds(1,1)[0][0][0].size()"
   ]
  },
  {
   "cell_type": "code",
   "execution_count": 58,
   "id": "45e0a804-2376-4b75-9d5c-66246e2438e8",
   "metadata": {},
   "outputs": [],
   "source": [
    "import scipy\n",
    "import matplotlib.pyplot as plt\n",
    "from scipy.integrate import odeint\n",
    "import math\n",
    "\n",
    "def simple_pendulum_deriv(x, t, m, g, l, F, c, omega): \n",
    "# The simple pendulum subject to zero damping and zero control input \n",
    "    nx = np.zeros(2)\n",
    "    nx[0] = x[1]\n",
    "    nx[1] = (1/m) * (F * math.sin(omega * t) - (m * g / l) * x[0] - c * nx[0])\n",
    "    return nx\n",
    "\n",
    "sol = odeint(simple_pendulum_deriv, y0=[0,0.5], t=np.linspace(0,15,200), args=(1,9.8,1,1,0.5,1))\n",
    "y = sol[:,0]\n",
    "y_dot = sol[:,1]"
   ]
  },
  {
   "cell_type": "code",
   "execution_count": 66,
   "id": "19c34ee0-ae66-4eec-9908-e9766eaf67de",
   "metadata": {},
   "outputs": [],
   "source": [
    "i = 0\n",
    "sols = []\n",
    "for start_pos in np.linspace(-math.pi,math.pi,10):\n",
    "    for start_vel in np.linspace(-1,1, 10):\n",
    "        sol = odeint(simple_pendulum_deriv, y0=[start_pos,start_vel], t=np.linspace(0,10,100), args=(1,9.8,1,1,0.5,1))\n",
    "        sols.append(sol)"
   ]
  }
 ],
 "metadata": {
  "kernelspec": {
   "display_name": "Python [conda env:analysis3]",
   "language": "python",
   "name": "conda-env-analysis3-py"
  },
  "language_info": {
   "codemirror_mode": {
    "name": "ipython",
    "version": 3
   },
   "file_extension": ".py",
   "mimetype": "text/x-python",
   "name": "python",
   "nbconvert_exporter": "python",
   "pygments_lexer": "ipython3",
   "version": "3.9.9"
  }
 },
 "nbformat": 4,
 "nbformat_minor": 5
}
