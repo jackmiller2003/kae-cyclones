{
 "cells": [
  {
   "cell_type": "code",
   "execution_count": 2,
   "id": "f71c3c2f-5bf5-4e17-922d-970bf03fad78",
   "metadata": {},
   "outputs": [],
   "source": [
    "import numpy as np\n",
    "import torch"
   ]
  },
  {
   "cell_type": "code",
   "execution_count": 3,
   "id": "77495c51-643a-4c76-a94f-d300851b038d",
   "metadata": {},
   "outputs": [],
   "source": [
    "def reconstruct_operator(w, v):\n",
    "    \"\"\"\n",
    "    Recreate a matrix from its eigenvalues and eigenvectors.\n",
    "    \"\"\"\n",
    "    R = np.linalg.inv(v)\n",
    "    # create diagonal matrix from eigenvalues\n",
    "    L = np.diag(w)\n",
    "    # reconstruct the original matrix\n",
    "    B = v.dot(L).dot(R)\n",
    "    return B"
   ]
  },
  {
   "cell_type": "code",
   "execution_count": 4,
   "id": "bf0f55cf-838d-42e2-8ff0-719ec00b954c",
   "metadata": {},
   "outputs": [],
   "source": [
    "def eigen_init_(n_units, std=1):\n",
    "    sampler = torch.distributions.Normal(torch.Tensor([0]), torch.Tensor([std/n_units]))\n",
    "    Omega = sampler.sample((n_units, n_units))[..., 0]  \n",
    "    w, v = np.linalg.eig(Omega.cpu().detach().numpy())\n",
    "    w.real = np.random.uniform(-2,2, w.shape[0])\n",
    "    w.imag = np.random.uniform(-2,2, w.shape[0])\n",
    "    return reconstruct_operator(w,v)"
   ]
  },
  {
   "cell_type": "code",
   "execution_count": 5,
   "id": "f6cda23a-c9e6-4243-856e-43303c157d9d",
   "metadata": {},
   "outputs": [
    {
     "data": {
      "text/plain": [
       "(array([ 1.3907548+0.5527426j , -1.6246651-0.89235j   ,\n",
       "        -0.9038278+1.591756j  , -1.8636887+0.90851384j,\n",
       "        -1.8526896+0.8395968j ], dtype=complex64),\n",
       " array([[ 0.13208833-4.8921734e-01j,  0.13208826+4.8921746e-01j,\n",
       "          0.6596741 +0.0000000e+00j,  0.7382611 +0.0000000e+00j,\n",
       "          0.6819135 +0.0000000e+00j],\n",
       "        [ 0.59627986+0.0000000e+00j,  0.59627986+0.0000000e+00j,\n",
       "         -0.10702574-2.6509543e-08j, -0.05334237+6.4829874e-07j,\n",
       "         -0.37498227+2.4174261e-07j],\n",
       "        [-0.45231566-2.0435514e-02j, -0.45231563+2.0435436e-02j,\n",
       "         -0.41173777-2.4542752e-08j,  0.4239283 +1.7038686e-06j,\n",
       "         -0.4263528 +5.9202011e-07j],\n",
       "        [-0.12051401+3.1788749e-01j, -0.12051396-3.1788746e-01j,\n",
       "          0.46389878+1.2289322e-08j,  0.05521198-5.6438068e-07j,\n",
       "          0.31606257-1.8509446e-07j],\n",
       "        [ 0.17147914+1.9411637e-01j,  0.17147917-1.9411634e-01j,\n",
       "         -0.41066468-3.8756884e-08j,  0.51900053+1.7372466e-06j,\n",
       "         -0.3357232 +5.8338577e-07j]], dtype=complex64))"
      ]
     },
     "execution_count": 5,
     "metadata": {},
     "output_type": "execute_result"
    }
   ],
   "source": [
    "np.linalg.eig(eigen_init_(5,1))"
   ]
  },
  {
   "cell_type": "code",
   "execution_count": null,
   "id": "dbc4a2f0-7872-4152-aed8-48bc07886d32",
   "metadata": {},
   "outputs": [],
   "source": []
  }
 ],
 "metadata": {
  "kernelspec": {
   "display_name": "Python [conda env:analysis3-22.01]",
   "language": "python",
   "name": "conda-env-analysis3-22.01-py"
  },
  "language_info": {
   "codemirror_mode": {
    "name": "ipython",
    "version": 3
   },
   "file_extension": ".py",
   "mimetype": "text/x-python",
   "name": "python",
   "nbconvert_exporter": "python",
   "pygments_lexer": "ipython3",
   "version": "3.9.12"
  }
 },
 "nbformat": 4,
 "nbformat_minor": 5
}
