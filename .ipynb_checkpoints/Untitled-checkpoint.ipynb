{
 "cells": [
  {
   "cell_type": "code",
   "execution_count": 1,
   "id": "223b88d2-24b9-4950-bde1-e5e358c30745",
   "metadata": {},
   "outputs": [],
   "source": [
    "import torch\n",
    "import numpy as np\n",
    "from models import *"
   ]
  },
  {
   "cell_type": "code",
   "execution_count": 14,
   "id": "fafd9650-a00f-454b-930e-aeb0a4a968cd",
   "metadata": {},
   "outputs": [
    {
     "data": {
      "text/plain": [
       "<All keys matched successfully>"
      ]
     },
     "execution_count": 14,
     "metadata": {},
     "output_type": "execute_result"
    }
   ],
   "source": [
    "kae = koopmanAE(64,4,4,8)\n",
    "kae.load_state_dict(torch.load('./saved_models/kae-model-continued-51.553203595612146.pt'))"
   ]
  },
  {
   "cell_type": "code",
   "execution_count": 2,
   "id": "865e989c-e53a-4e98-9d58-86e7e320d2a2",
   "metadata": {},
   "outputs": [
    {
     "name": "stdout",
     "output_type": "stream",
     "text": [
      "tensor([[ 0.0117,  0.0171,  0.0016,  ..., -0.0036, -0.0001, -0.0108],\n",
      "        [-0.0067, -0.0033, -0.0038,  ..., -0.0029, -0.0093, -0.0030],\n",
      "        [ 0.0155, -0.0024,  0.0052,  ..., -0.0002, -0.0126, -0.0238],\n",
      "        ...,\n",
      "        [ 0.0149, -0.0137,  0.0081,  ...,  0.0113, -0.0076,  0.0024],\n",
      "        [ 0.0041, -0.0029, -0.0120,  ...,  0.0031, -0.0102,  0.0200],\n",
      "        [ 0.0046,  0.0197, -0.0046,  ...,  0.0064,  0.0036,  0.0129]])\n",
      "tensor([[ 1.1713, -0.6689,  1.5488,  ...,  1.4860,  0.4060,  0.4580],\n",
      "        [ 1.7103, -0.3262, -0.2378,  ..., -1.3718, -0.2866,  1.9676],\n",
      "        [ 0.1580, -0.3826,  0.5223,  ...,  0.8137, -1.1987, -0.4617],\n",
      "        ...,\n",
      "        [-0.3579, -0.2931, -0.0224,  ...,  1.1252,  0.3103,  0.6377],\n",
      "        [-0.0119, -0.9317, -1.2574,  ..., -0.7627, -1.0224,  0.3567],\n",
      "        [-1.0801, -0.3022, -2.3763,  ...,  0.2385,  2.0042,  1.2877]])\n"
     ]
    }
   ],
   "source": [
    "kae = koopmanAE(64,4,4,8)\n",
    "# kae.load_state_dict(torch.load('./saved_models/kae-model-continued-49.92189687921158.pt'))"
   ]
  },
  {
   "cell_type": "code",
   "execution_count": 3,
   "id": "704ed7bc-2d46-4ced-b702-cbcc9c087fb0",
   "metadata": {},
   "outputs": [
    {
     "name": "stdout",
     "output_type": "stream",
     "text": [
      "torch.Size([64, 64])\n",
      "Parameter containing:\n",
      "tensor([[ 0.0117,  0.0171,  0.0016,  ..., -0.0036, -0.0001, -0.0108],\n",
      "        [-0.0067, -0.0033, -0.0038,  ..., -0.0029, -0.0093, -0.0030],\n",
      "        [ 0.0155, -0.0024,  0.0052,  ..., -0.0002, -0.0126, -0.0238],\n",
      "        ...,\n",
      "        [ 0.0149, -0.0137,  0.0081,  ...,  0.0113, -0.0076,  0.0024],\n",
      "        [ 0.0041, -0.0029, -0.0120,  ...,  0.0031, -0.0102,  0.0200],\n",
      "        [ 0.0046,  0.0197, -0.0046,  ...,  0.0064,  0.0036,  0.0129]],\n",
      "       requires_grad=True)\n"
     ]
    }
   ],
   "source": [
    "for param in kae.backdynamics.parameters():\n",
    "    print(param.data.shape)\n",
    "    print(param)"
   ]
  },
  {
   "cell_type": "code",
   "execution_count": null,
   "id": "e5a69ace-1375-43e6-bc86-72683073f187",
   "metadata": {},
   "outputs": [],
   "source": [
    "np.load('/g/data/x77/jm0124/np_cyclones_crop/{prediction_length}/train/1988028S07100-7.npy'"
   ]
  }
 ],
 "metadata": {
  "kernelspec": {
   "display_name": "Python [conda env:pytorch-gpu6]",
   "language": "python",
   "name": "conda-env-pytorch-gpu6-py"
  },
  "language_info": {
   "codemirror_mode": {
    "name": "ipython",
    "version": 3
   },
   "file_extension": ".py",
   "mimetype": "text/x-python",
   "name": "python",
   "nbconvert_exporter": "python",
   "pygments_lexer": "ipython3",
   "version": "3.10.4"
  }
 },
 "nbformat": 4,
 "nbformat_minor": 5
}
