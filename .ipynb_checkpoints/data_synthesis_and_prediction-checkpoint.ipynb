{
 "cells": [
  {
   "cell_type": "code",
   "execution_count": 23,
   "id": "c5117c4f-4e12-4d1b-a9ea-6161529085f3",
   "metadata": {},
   "outputs": [],
   "source": [
    "import torch\n",
    "import xarray\n",
    "from datasets import *\n",
    "from models import *\n",
    "from dl_pipeline import *\n",
    "import seaborn\n",
    "import numpy as np\n",
    "import matplotlib.pyplot as plt\n",
    "import copy"
   ]
  },
  {
   "cell_type": "markdown",
   "id": "2f3d3f85-38a0-42f5-bc77-93b162f63a9e",
   "metadata": {
    "tags": []
   },
   "source": [
    "## Perturbation of Eigenvalues for Synthesis\n",
    "\n",
    "We start with perturbation of the eigenvectors for synthesising new data from eiegenvalues closest to $0$. We take this perturbation to be sampled from a random distribution around a mean, $\\mu$, of $0$, with a standard deviation of $\\sigma$."
   ]
  },
  {
   "cell_type": "code",
   "execution_count": 2,
   "id": "464caed7-bd6f-4ac8-bc02-c2b708fcea1e",
   "metadata": {},
   "outputs": [],
   "source": [
    "mu, sigma = 0, 0.001 # mean and standard deviation"
   ]
  },
  {
   "cell_type": "code",
   "execution_count": 39,
   "id": "e1e055f0-d93c-415f-bf54-532657a75313",
   "metadata": {},
   "outputs": [
    {
     "name": "stdout",
     "output_type": "stream",
     "text": [
      "191235\n"
     ]
    }
   ],
   "source": [
    "train_ds, valid_ds, test_ds = generate_prediction_dataset()"
   ]
  },
  {
   "cell_type": "code",
   "execution_count": 40,
   "id": "95c90379-fa10-47b0-a7c0-f3a2bc733777",
   "metadata": {},
   "outputs": [],
   "source": [
    "def new_example(model,x, perturb=True, sigma=0.01):\n",
    "    s = np.random.normal(mu, sigma, 1)\n",
    "    W = model_kae.dynamics.dynamics.weight.cpu().detach().numpy()\n",
    "    w, v = np.linalg.eig(W)\n",
    "    min_i = np.argmin(w)\n",
    "    \n",
    "    model = copy.deepcopy(model)\n",
    "    \n",
    "    if perturb:\n",
    "        v[min_i] += s\n",
    "    W_1 = reconstruct_operator(w,v).real\n",
    "    \n",
    "    model.dynamics.dynamics.weight = torch.nn.Parameter(torch.from_numpy(W_1))\n",
    "    \n",
    "    x_modified = model(x)\n",
    "    \n",
    "    return x_modified"
   ]
  },
  {
   "cell_type": "code",
   "execution_count": 41,
   "id": "2c3a41ee-85d2-4ec7-adbf-3be9410847ba",
   "metadata": {},
   "outputs": [
    {
     "data": {
      "text/plain": [
       "<All keys matched successfully>"
      ]
     },
     "execution_count": 41,
     "metadata": {},
     "output_type": "execute_result"
    }
   ],
   "source": [
    "model_kae = koopmanAE(4, steps=4, steps_back=4, alpha=1)\n",
    "model_kae.load_state_dict(torch.load('saved_models/kae-model-continued-4.082315057579133.pt'))"
   ]
  },
  {
   "cell_type": "code",
   "execution_count": 52,
   "id": "52d945ac-af89-436b-a355-e349d6118337",
   "metadata": {},
   "outputs": [
    {
     "name": "stdout",
     "output_type": "stream",
     "text": [
      "(tensor([[[[ 1.0391e+01,  7.0351e+00,  7.3102e+00,  8.1065e+00,  9.5472e+00,\n",
      "            1.0655e+01,  1.1621e+01,  1.1943e+01,  1.1857e+01,  1.1089e+01,\n",
      "            1.0550e+01,  9.7100e+00,  8.4250e+00,  7.6323e+00,  7.9617e+00,\n",
      "            7.9038e+00,  8.2947e+00,  8.5409e+00,  8.7327e+00,  8.8594e+00],\n",
      "          [ 1.0546e+01,  8.7689e+00,  6.4052e+00,  5.1057e+00,  5.3736e+00,\n",
      "            6.6876e+00,  7.6504e+00,  7.6685e+00,  7.6106e+00,  7.5310e+00,\n",
      "            6.6731e+00,  5.8948e+00,  6.0541e+00,  6.3292e+00,  7.1980e+00,\n",
      "            8.9716e+00,  1.0561e+01,  1.0322e+01,  9.9272e+00,  9.5327e+00],\n",
      "          [ 1.1053e+01,  1.2591e+01,  1.2287e+01,  4.9465e+00,  3.7520e+00,\n",
      "            3.9185e+00,  4.3565e+00,  3.6180e+00,  3.6144e+00,  3.4588e+00,\n",
      "            3.2923e+00,  4.0560e+00,  5.0913e+00,  5.6885e+00,  5.1166e+00,\n",
      "            6.3328e+00,  7.6142e+00,  8.9680e+00,  9.7788e+00,  8.4431e+00],\n",
      "          [ 1.1976e+01,  1.2436e+01,  7.1400e+00,  5.6017e+00,  4.2732e+00,\n",
      "            3.7049e+00,  4.1139e+00,  3.2090e+00,  3.7773e+00,  5.1709e+00,\n",
      "            6.6984e+00,  6.9808e+00,  6.8577e+00,  6.1265e+00,  6.8830e+00,\n",
      "            6.9048e+00,  7.6504e+00,  7.1545e+00,  6.7708e+00,  7.1654e+00],\n",
      "          [ 8.8739e+00,  5.3700e+00,  5.3410e+00,  5.1057e+00,  4.3673e+00,\n",
      "            4.1610e+00,  4.5555e+00,  4.3420e+00,  4.7872e+00,  5.4750e+00,\n",
      "            4.7112e+00,  4.2189e+00,  4.9103e+00,  7.5346e+00,  8.5517e+00,\n",
      "            5.9419e+00,  4.4868e+00,  4.8089e+00,  4.6569e+00,  5.5039e+00],\n",
      "          [ 4.2225e+00,  2.3837e+00,  1.7539e+00,  2.5430e+00,  2.1882e+00,\n",
      "            2.0217e+00,  1.5294e+00,  1.0951e+00,  7.5482e-01,  4.2181e-01,\n",
      "            4.0371e-01,  6.3537e-01,  1.8914e+00,  2.5611e+00,  2.1629e+00,\n",
      "            3.2307e+00,  2.9991e+00,  2.8145e+00,  2.8289e+00,  3.0896e+00],\n",
      "          [ 4.3818e+00,  4.8306e+00, -1.7014e-03,  7.4314e-02, -4.3245e-01,\n",
      "           -9.7179e-01, -3.6033e+00, -7.4737e-01, -3.0640e+00, -3.4658e+00,\n",
      "           -2.6912e+00, -1.8224e+00, -1.3555e+00, -8.2700e-01,  5.3040e-01,\n",
      "            6.8605e-01,  5.2316e-01, -6.2068e-01, -1.0768e+00, -3.8177e-01],\n",
      "          [ 4.3637e+00,  3.5963e+00,  1.6481e-01,  1.0516e+00,  3.2705e+00,\n",
      "            7.0415e-01, -3.0676e+00, -4.9028e+00, -5.6340e+00, -5.4023e+00,\n",
      "           -5.5363e+00, -5.0983e+00, -4.4395e+00, -3.5128e+00, -1.8043e+00,\n",
      "           -2.6513e+00, -2.4848e+00, -3.7988e+00, -2.8432e+00, -3.0025e+00],\n",
      "          [ 2.4887e+00,  2.0615e+00,  1.8371e+00, -7.0477e-02,  2.3636e-02,\n",
      "           -7.7271e-01, -4.0522e+00, -6.3290e+00, -6.5534e+00, -7.4185e+00,\n",
      "           -8.5588e+00, -8.3126e+00, -6.9407e+00, -5.9815e+00, -4.1246e+00,\n",
      "           -4.7580e+00, -5.2358e+00, -4.4902e+00, -4.2440e+00, -4.9861e+00],\n",
      "          [ 1.4353e+00,  4.4252e+00,  1.8733e+00,  7.7934e-02, -6.3877e-01,\n",
      "           -3.5644e-01, -3.2739e+00, -5.4241e+00, -7.2991e+00, -9.1633e+00,\n",
      "           -1.0314e+01, -1.0242e+01, -7.7154e+00, -6.6150e+00, -5.0802e+00,\n",
      "           -5.7064e+00, -6.7634e+00, -5.7100e+00, -6.1118e+00, -6.4376e+00],\n",
      "          [ 2.0824e-01,  1.2435e+00,  7.9464e-01,  1.2761e+00,  9.9651e-02,\n",
      "            6.0641e-01, -5.9896e-01, -3.1183e+00, -5.0114e+00, -8.0049e+00,\n",
      "           -8.1932e+00, -9.1343e+00, -6.8683e+00, -6.1191e+00, -5.9091e+00,\n",
      "           -7.2050e+00, -7.6104e+00, -7.3389e+00, -7.1290e+00, -7.5923e+00],\n",
      "          [ 7.4314e-02, -3.7899e-02, -3.5644e-01,  5.9917e-01,  7.9102e-01,\n",
      "            1.8407e+00,  1.9385e+00,  1.5620e+00,  8.4170e-01,  2.9773e+00,\n",
      "           -1.0406e+00, -4.2115e+00, -3.4332e+00, -4.4467e+00, -6.2132e+00,\n",
      "           -8.1823e+00, -8.5443e+00, -8.0122e+00, -8.7108e+00, -9.4239e+00],\n",
      "          [-1.8043e+00, -1.0044e+00, -3.9987e-01, -4.1797e-01,  1.0553e+00,\n",
      "            2.1267e+00,  3.4189e+00,  3.2018e+00,  4.7981e+00,  6.2641e+00,\n",
      "            5.5510e+00,  1.6127e+00,  6.3537e-01, -2.2713e+00, -6.0684e+00,\n",
      "           -9.3008e+00, -9.2936e+00, -1.0170e+01, -1.0785e+01, -1.0702e+01],\n",
      "          [-1.2831e+00, -1.0731e+00, -5.0484e-01, -4.8313e-01,  5.1592e-01,\n",
      "            2.1738e+00,  2.7783e+00,  2.8905e+00,  3.9040e+00,  5.4098e+00,\n",
      "            4.0162e+00,  9.3581e-01, -3.8540e-01, -2.3183e+00, -6.2276e+00,\n",
      "           -9.4528e+00, -9.6700e+00, -1.1382e+01, -1.2182e+01, -1.2873e+01],\n",
      "          [-2.2966e+00, -1.1709e+00, -8.4148e-01, -7.6546e-01, -3.7815e-01,\n",
      "            5.2678e-01,  2.2027e+00,  2.1448e+00,  2.0688e+00,  1.8733e+00,\n",
      "           -5.5190e-01, -2.2459e+00, -3.4115e+00, -4.3309e+00, -6.6656e+00,\n",
      "           -8.9388e+00, -9.1994e+00, -1.1284e+01, -1.2034e+01, -1.2544e+01],\n",
      "          [-1.5220e+00, -9.7903e-01, -1.0152e+00, -1.0659e+00, -1.2107e+00,\n",
      "           -1.2433e+00,  7.4035e-01,  1.1277e+00,  3.6751e-01, -3.8902e-01,\n",
      "           -1.2867e+00, -2.8613e+00, -5.4277e+00, -5.8331e+00, -6.5281e+00,\n",
      "           -8.5913e+00, -9.0619e+00, -9.7967e+00, -8.8556e+00, -8.8302e+00],\n",
      "          [ 1.6598e+00,  4.0733e-01, -3.3472e-01, -5.4466e-01, -1.6704e+00,\n",
      "           -1.4532e+00, -6.2430e-01, -6.8583e-01, -1.3265e+00, -1.7138e+00,\n",
      "           -2.0396e+00, -4.1318e+00, -6.7235e+00, -6.4991e+00, -6.6548e+00,\n",
      "           -8.3054e+00, -9.3877e+00, -9.9343e+00, -9.0945e+00, -8.3524e+00],\n",
      "          [ 3.9800e+00,  1.8009e+00,  5.7746e-01, -4.7951e-01, -1.2288e+00,\n",
      "           -1.3953e+00, -9.6093e-01, -2.3509e+00, -2.9120e+00, -2.5572e+00,\n",
      "           -3.2703e+00, -5.6666e+00, -6.3942e+00, -7.0421e+00, -7.7841e+00,\n",
      "           -9.0909e+00, -1.1560e+01, -1.2703e+01, -1.0694e+01, -8.3669e+00],\n",
      "          [ 5.3084e+00,  3.5167e+00,  1.6561e+00,  5.3402e-01,  1.5395e-01,\n",
      "           -6.8221e-01, -1.6089e+00, -1.0442e+00, -3.4296e+00, -3.5599e+00,\n",
      "           -4.4142e+00, -5.7136e+00, -5.5689e+00, -7.0674e+00, -9.3515e+00,\n",
      "           -1.0224e+01, -1.5682e+01, -1.5943e+01, -1.2812e+01, -1.0032e+01],\n",
      "          [ 6.9554e+00,  5.4207e+00,  2.2244e+00,  7.2586e-01,  8.0550e-01,\n",
      "            1.6396e-02, -3.9625e-01, -1.4532e+00, -3.2341e+00, -3.3101e+00,\n",
      "           -4.4359e+00, -5.3191e+00, -5.1888e+00, -6.3543e+00, -7.9941e+00,\n",
      "           -8.9316e+00, -7.2050e+00, -8.0990e+00, -7.1869e+00, -6.3543e+00]]]]), tensor([[123.5810, 123.2250],\n",
      "        [ 30.8062,  31.1250]], dtype=torch.float64))\n"
     ]
    },
    {
     "data": {
      "image/png": "[encoded data removed]",
      "text/plain": [
       "<Figure size 432x288 with 2 Axes>"
      ]
     },
     "metadata": {
      "needs_background": "light"
     },
     "output_type": "display_data"
    },
    {
     "data": {
      "image/png": "[encoded data removed]",
      "text/plain": [
       "<Figure size 432x288 with 2 Axes>"
      ]
     },
     "metadata": {
      "needs_background": "light"
     },
     "output_type": "display_data"
    },
    {
     "data": {
      "image/png": "[encoded data removed]",
      "text/plain": [
       "<Figure size 432x288 with 2 Axes>"
      ]
     },
     "metadata": {
      "needs_background": "light"
     },
     "output_type": "display_data"
    }
   ],
   "source": [
    "print(train_ds[31])\n",
    "x_reg = new_example(model_kae,train_ds[31][0], True, sigma=0.08)[0][0][0].squeeze(0).detach().numpy()\n",
    "x_per = new_example(model_kae,train_ds[31][0], False, sigma=0.01)[0][0][0].squeeze(0).detach().numpy()\n",
    "old = train_ds[32][0].squeeze(0).squeeze(0)\n",
    "seaborn.heatmap(old)\n",
    "plt.show()\n",
    "seaborn.heatmap(x_reg)\n",
    "plt.show()\n",
    "seaborn.heatmap(x_per)\n",
    "plt.show()"
   ]
  },
  {
   "cell_type": "code",
   "execution_count": 38,
   "id": "1998ddac-6767-45f3-bdd8-9f89b0d3f61c",
   "metadata": {},
   "outputs": [
    {
     "ename": "TypeError",
     "evalue": "new_example() missing 1 required positional argument: 'x'",
     "output_type": "error",
     "traceback": [
      "\u001b[0;31m---------------------------------------------------------------------------\u001b[0m",
      "\u001b[0;31mTypeError\u001b[0m                                 Traceback (most recent call last)",
      "\u001b[0;32m/jobfs/41095417.gadi-pbs/ipykernel_1580140/1198923991.py\u001b[0m in \u001b[0;36m<cell line: 1>\u001b[0;34m()\u001b[0m\n\u001b[0;32m----> 1\u001b[0;31m \u001b[0mnew_example\u001b[0m\u001b[0;34m(\u001b[0m\u001b[0mmodel_kae\u001b[0m\u001b[0;34m)\u001b[0m\u001b[0;34m\u001b[0m\u001b[0;34m\u001b[0m\u001b[0m\n\u001b[0m",
      "\u001b[0;31mTypeError\u001b[0m: new_example() missing 1 required positional argument: 'x'"
     ]
    }
   ],
   "source": [
    "new_example(model_kae)"
   ]
  },
  {
   "cell_type": "code",
   "execution_count": 3,
   "id": "4f2b9ffb-f51f-4736-a537-c2bd41384669",
   "metadata": {},
   "outputs": [],
   "source": [
    "def reconstruct_operator(w, v):\n",
    "    R = np.linalg.inv(v)\n",
    "    # create diagonal matrix from eigenvalues\n",
    "    L = np.diag(w)\n",
    "    # reconstruct the original matrix\n",
    "    B = v.dot(L).dot(R)\n",
    "    return B"
   ]
  },
  {
   "cell_type": "code",
   "execution_count": 47,
   "id": "2333f4ce-399c-450b-b1cb-f9116956ac1a",
   "metadata": {},
   "outputs": [
    {
     "ename": "SyntaxError",
     "evalue": "unmatched ')' (226838028.py, line 1)",
     "output_type": "error",
     "traceback": [
      "\u001b[0;36m  File \u001b[0;32m\"/jobfs/41095417.gadi-pbs/ipykernel_1570346/226838028.py\"\u001b[0;36m, line \u001b[0;32m1\u001b[0m\n\u001b[0;31m    ))\u001b[0m\n\u001b[0m    ^\u001b[0m\n\u001b[0;31mSyntaxError\u001b[0m\u001b[0;31m:\u001b[0m unmatched ')'\n"
     ]
    }
   ],
   "source": [
    "))\n",
    "\n",
    "out1 = model_ae_modified(train[0][0].unsqueeze(0))[0]\n",
    "\n",
    "W = model_ae_modified.dynamics.dynamics.weight.cpu().detach().numpy()\n",
    "w, v = np.linalg.eigh(W)\n",
    "\n",
    "w[0] = 0\n",
    "v[0] = np.array([1,1,1,1])\n",
    "W_1 = reconstruct_operator(w,v)\n",
    "# seaborn.heatmap(W_1)\n",
    "# plt.show()\n",
    "\n",
    "model_ae_modified.dynamics.dynamics.weight = torch.nn.Parameter(torch.from_numpy(W_1))\n",
    "plt.clf()\n",
    "seaborn.heatmap(out1[0][0].squeeze(0).squeeze(0).cpu().detach().numpy())\n",
    "plt.show()\n",
    "out2 = model_ae_modified(train[0][0].unsqueeze(0))[0]\n",
    "seaborn.heatmap(out2[0][0].squeeze(0).squeeze(0).cpu().detach().numpy())"
   ]
  },
  {
   "cell_type": "code",
   "execution_count": 46,
   "id": "c881e526-f215-4f6c-85f6-0a2f18bc0f9e",
   "metadata": {},
   "outputs": [
    {
     "ename": "NameError",
     "evalue": "name 'out2' is not defined",
     "output_type": "error",
     "traceback": [
      "\u001b[0;31m---------------------------------------------------------------------------\u001b[0m",
      "\u001b[0;31mNameError\u001b[0m                                 Traceback (most recent call last)",
      "\u001b[0;32m/jobfs/41095417.gadi-pbs/ipykernel_1570346/559255518.py\u001b[0m in \u001b[0;36m<cell line: 1>\u001b[0;34m()\u001b[0m\n\u001b[0;32m----> 1\u001b[0;31m \u001b[0mseaborn\u001b[0m\u001b[0;34m.\u001b[0m\u001b[0mheatmap\u001b[0m\u001b[0;34m(\u001b[0m\u001b[0mout2\u001b[0m\u001b[0;34m[\u001b[0m\u001b[0;36m0\u001b[0m\u001b[0;34m]\u001b[0m\u001b[0;34m[\u001b[0m\u001b[0;36m0\u001b[0m\u001b[0;34m]\u001b[0m\u001b[0;34m.\u001b[0m\u001b[0msqueeze\u001b[0m\u001b[0;34m(\u001b[0m\u001b[0;36m0\u001b[0m\u001b[0;34m)\u001b[0m\u001b[0;34m.\u001b[0m\u001b[0msqueeze\u001b[0m\u001b[0;34m(\u001b[0m\u001b[0;36m0\u001b[0m\u001b[0;34m)\u001b[0m\u001b[0;34m.\u001b[0m\u001b[0mcpu\u001b[0m\u001b[0;34m(\u001b[0m\u001b[0;34m)\u001b[0m\u001b[0;34m.\u001b[0m\u001b[0mdetach\u001b[0m\u001b[0;34m(\u001b[0m\u001b[0;34m)\u001b[0m\u001b[0;34m.\u001b[0m\u001b[0mnumpy\u001b[0m\u001b[0;34m(\u001b[0m\u001b[0;34m)\u001b[0m\u001b[0;34m)\u001b[0m\u001b[0;34m\u001b[0m\u001b[0;34m\u001b[0m\u001b[0m\n\u001b[0m",
      "\u001b[0;31mNameError\u001b[0m: name 'out2' is not defined"
     ]
    }
   ],
   "source": [
    "seaborn.heatmap(out2[0][0].squeeze(0).squeeze(0).cpu().detach().numpy())"
   ]
  },
  {
   "cell_type": "code",
   "execution_count": 75,
   "id": "62db4f7f-7df4-48b1-869e-a735dcd14506",
   "metadata": {},
   "outputs": [
    {
     "ename": "NameError",
     "evalue": "name 'model_dae' is not defined",
     "output_type": "error",
     "traceback": [
      "\u001b[0;31m---------------------------------------------------------------------------\u001b[0m",
      "\u001b[0;31mNameError\u001b[0m                                 Traceback (most recent call last)",
      "\u001b[0;32m/jobfs/41095417.gadi-pbs/ipykernel_1524232/1542462668.py\u001b[0m in \u001b[0;36m<cell line: 1>\u001b[0;34m()\u001b[0m\n\u001b[0;32m----> 1\u001b[0;31m \u001b[0mmodel_dae\u001b[0m\u001b[0;34m,\u001b[0m \u001b[0mlosses\u001b[0m\u001b[0;34m,\u001b[0m \u001b[0mfwd_loss\u001b[0m\u001b[0;34m,\u001b[0m \u001b[0mback_loss\u001b[0m\u001b[0;34m,\u001b[0m \u001b[0miden_loss\u001b[0m\u001b[0;34m,\u001b[0m \u001b[0mcons_loss\u001b[0m \u001b[0;34m=\u001b[0m \u001b[0mtrain\u001b[0m\u001b[0;34m(\u001b[0m\u001b[0mmodel_dae\u001b[0m\u001b[0;34m,\u001b[0m \u001b[0mloader\u001b[0m\u001b[0;34m,\u001b[0m \u001b[0mlen\u001b[0m\u001b[0;34m(\u001b[0m\u001b[0mdataset\u001b[0m\u001b[0;34m)\u001b[0m\u001b[0;34m,\u001b[0m \u001b[0mkoopman\u001b[0m\u001b[0;34m=\u001b[0m\u001b[0;32mFalse\u001b[0m\u001b[0;34m)\u001b[0m\u001b[0;34m\u001b[0m\u001b[0;34m\u001b[0m\u001b[0m\n\u001b[0m",
      "\u001b[0;31mNameError\u001b[0m: name 'model_dae' is not defined"
     ]
    }
   ],
   "source": [
    "model_dae, losses, fwd_loss, back_loss, iden_loss, cons_loss = train(model_dae, loader, len(dataset), koopman=False)"
   ]
  },
  {
   "cell_type": "markdown",
   "id": "be859938-6cca-4e3f-9007-68c118d93f7c",
   "metadata": {},
   "source": [
    "Since we don't currently have the appropriate eigenvalues and eigenfunctions, we take an example where one eigenvalue is 0."
   ]
  },
  {
   "cell_type": "code",
   "execution_count": null,
   "id": "b41c64d9-441e-4108-afc5-413339a4f099",
   "metadata": {},
   "outputs": [],
   "source": []
  },
  {
   "cell_type": "code",
   "execution_count": 6,
   "id": "2acac4bd-9d8f-46ee-9945-93ba5d563951",
   "metadata": {},
   "outputs": [],
   "source": [
    "w = np.array([ 8.8045025+0.j, 0, -4.940018 +7.38418j, -4.940018 -7.38418j])\n",
    "v = v"
   ]
  },
  {
   "cell_type": "code",
   "execution_count": 7,
   "id": "74d7c727-3aad-4378-822c-dee3349ce1f0",
   "metadata": {},
   "outputs": [
    {
     "name": "stdout",
     "output_type": "stream",
     "text": [
      "[[-0.0285721   0.34093824 -0.27022386  0.89995766]\n",
      " [-0.19790614  0.9194667   0.10534161 -0.322982  ]\n",
      " [-0.6951611  -0.14423205  0.6648539   0.23220135]\n",
      " [ 0.6904838   0.13243599  0.68836874  0.17844142]]\n"
     ]
    }
   ],
   "source": [
    "print(v)"
   ]
  },
  {
   "cell_type": "code",
   "execution_count": 8,
   "id": "430ad973-ead0-4e26-918a-ce44206b9423",
   "metadata": {},
   "outputs": [
    {
     "data": {
      "text/plain": [
       "array([[-4.35457537,  1.62632309,  0.03007508, -0.04810565],\n",
       "       [ 1.62632331, -0.22530384,  1.23579685, -1.27665373],\n",
       "       [ 0.03007495,  1.23579676,  1.80477374, -6.69169657],\n",
       "       [-0.04810561, -1.27665376, -6.69169713,  1.69957187]])"
      ]
     },
     "execution_count": 8,
     "metadata": {},
     "output_type": "execute_result"
    }
   ],
   "source": [
    "reconstruct_operator(w,v).real"
   ]
  },
  {
   "cell_type": "code",
   "execution_count": null,
   "id": "2a2a578a-91e3-45f4-a099-e88f6ff9d6ad",
   "metadata": {},
   "outputs": [],
   "source": []
  }
 ],
 "metadata": {
  "kernelspec": {
   "display_name": "Python [conda env:analysis3-22.01]",
   "language": "python",
   "name": "conda-env-analysis3-22.01-py"
  },
  "language_info": {
   "codemirror_mode": {
    "name": "ipython",
    "version": 3
   },
   "file_extension": ".py",
   "mimetype": "text/x-python",
   "name": "python",
   "nbconvert_exporter": "python",
   "pygments_lexer": "ipython3",
   "version": "3.9.12"
  }
 },
 "nbformat": 4,
 "nbformat_minor": 5
}
