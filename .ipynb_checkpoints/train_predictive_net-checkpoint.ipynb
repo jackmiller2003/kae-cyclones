{
 "cells": [
  {
   "cell_type": "code",
   "execution_count": 1,
   "id": "74a8dcb9-75b2-4f20-a9c3-f12d93390235",
   "metadata": {},
   "outputs": [],
   "source": [
    "import torch\n",
    "import xarray\n",
    "from datasets import *\n",
    "from models import *\n",
    "from dl_pipeline import *\n",
    "from loss import *\n",
    "import seaborn\n",
    "import numpy as np\n",
    "import matplotlib.pyplot as plt"
   ]
  },
  {
   "cell_type": "code",
   "execution_count": 7,
   "id": "54f34ff8-03a5-4e35-b62e-5c03dd7f93f3",
   "metadata": {},
   "outputs": [
    {
     "name": "stdout",
     "output_type": "stream",
     "text": [
      "191235\n"
     ]
    }
   ],
   "source": [
    "prediction_model = predictionANN(1)\n",
    "train_ds, val_ds, test_ds = generate_prediction_dataset()\n",
    "loader = torch.utils.data.DataLoader(train_ds, batch_size=512, num_workers=8, pin_memory=True, shuffle=True)\n",
    "val_loader = torch.utils.data.DataLoader(val_ds, batch_size=512, num_workers=8, pin_memory=True, shuffle=True)"
   ]
  },
  {
   "cell_type": "code",
   "execution_count": 10,
   "id": "116b3fc9-9fb0-4ab8-806d-a971aea80c86",
   "metadata": {},
   "outputs": [
    {
     "name": "stdout",
     "output_type": "stream",
     "text": [
      "191235\n"
     ]
    }
   ],
   "source": [
    "print(len(train_ds))"
   ]
  },
  {
   "cell_type": "code",
   "execution_count": 11,
   "id": "c8994bc8-6ef2-4d50-8f8e-b5315adff99b",
   "metadata": {},
   "outputs": [],
   "source": [
    "def train(model, train_loader, val_loader, ds_length, num_epochs=5, batch_size=512):\n",
    "    loss_fn = L2_Dist_Func_Mae().to(0)\n",
    "    optimizer = torch.optim.AdamW(model.parameters(), lr=1e-3, weight_decay=0.01)\n",
    "    \n",
    "    for epoch in range(num_epochs):\n",
    "        model.train()\n",
    "        avg_loss = 0\n",
    "        for i, (example, label) in tqdm(enumerate(train_loader), total = ds_length/batch_size):\n",
    "            pred = model.forward(example)\n",
    "            optimizer.zero_grad(set_to_none=True)\n",
    "            loss = loss_fn(pred, label)\n",
    "            loss.backward()\n",
    "            optimizer.step()\n",
    "            avg_loss += loss.item()\n",
    "            \n",
    "            if i % 100 == 99:\n",
    "                print(avg_loss/i)\n",
    "        \n",
    "        \n",
    "        \n",
    "        print(f\"Average loss: {loss}\")\n",
    "    \n",
    "    return model\n",
    "            "
   ]
  },
  {
   "cell_type": "code",
   "execution_count": null,
   "id": "0ae75cd0-f4b4-418c-ac1d-94d3878ea68a",
   "metadata": {},
   "outputs": [
    {
     "name": "stderr",
     "output_type": "stream",
     "text": [
      " 26%|██▌       | 98/373.505859375 [02:47<07:45,  1.69s/it] "
     ]
    },
    {
     "name": "stdout",
     "output_type": "stream",
     "text": [
      "38.651588052207536\n"
     ]
    },
    {
     "name": "stderr",
     "output_type": "stream",
     "text": [
      " 52%|█████▏    | 194/373.505859375 [05:22<05:18,  1.77s/it]"
     ]
    },
    {
     "name": "stdout",
     "output_type": "stream",
     "text": [
      "34.556963105750796\n"
     ]
    },
    {
     "name": "stderr",
     "output_type": "stream",
     "text": [
      " 80%|███████▉  | 297/373.505859375 [08:07<02:19,  1.82s/it]"
     ]
    },
    {
     "name": "stdout",
     "output_type": "stream",
     "text": [
      "32.88464906144937\n"
     ]
    },
    {
     "name": "stderr",
     "output_type": "stream",
     "text": [
      " 88%|████████▊ | 329/373.505859375 [08:58<01:14,  1.67s/it]"
     ]
    }
   ],
   "source": [
    "train(prediction_model, loader, val_loader, len(train_ds))"
   ]
  }
 ],
 "metadata": {
  "kernelspec": {
   "display_name": "Python [conda env:analysis3-22.01]",
   "language": "python",
   "name": "conda-env-analysis3-22.01-py"
  },
  "language_info": {
   "codemirror_mode": {
    "name": "ipython",
    "version": 3
   },
   "file_extension": ".py",
   "mimetype": "text/x-python",
   "name": "python",
   "nbconvert_exporter": "python",
   "pygments_lexer": "ipython3",
   "version": "3.9.12"
  }
 },
 "nbformat": 4,
 "nbformat_minor": 5
}
